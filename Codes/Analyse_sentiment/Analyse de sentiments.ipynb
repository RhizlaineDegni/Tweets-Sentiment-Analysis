{
 "cells": [
  {
   "cell_type": "markdown",
   "metadata": {},
   "source": [
    "# <center>  Analyse de sentiments (Popularité des candidats sur twitter)</center>\n",
    "\n",
    "Dans ce notebook, on évaluera la popularité d'un candidat au cours de l'élection présidentielle mais également en fonction des différents thèmes qui rythme les discours politiques. Nous observerons également dans qu'elle zone géographique les candidats sont le plus populaire.\n",
    "\n",
    "Dans un premier temps nous regardons la popularité de chaque candidat lors du premier tour. \n",
    "\n",
    "### Premier tour"
   ]
  },
  {
   "cell_type": "code",
   "execution_count": 95,
   "metadata": {},
   "outputs": [],
   "source": [
    "import sentiment_visualisation as sv\n",
    "\n",
    "from pickle import load\n",
    "import numpy as np\n",
    "\n",
    "from bokeh.io import  output_notebook\n",
    "from bokeh.io import output_file, show\n",
    "from bokeh.palettes import Category20c\n",
    "from bokeh.plotting import figure\n",
    "from bokeh.transform import cumsum\n",
    "from bokeh.layouts import gridplot\n",
    "from bokeh.models import NumeralTickFormatter\n",
    "import datetime as dt\n"
   ]
  },
  {
   "cell_type": "code",
   "execution_count": 96,
   "metadata": {},
   "outputs": [],
   "source": [
    "run data1"
   ]
  },
  {
   "cell_type": "code",
   "execution_count": 112,
   "metadata": {},
   "outputs": [
    {
     "data": {
      "text/html": [
       "\n",
       "    <div class=\"bk-root\">\n",
       "        <a href=\"https://bokeh.pydata.org\" target=\"_blank\" class=\"bk-logo bk-logo-small bk-logo-notebook\"></a>\n",
       "        <span id=\"23884\">Loading BokehJS ...</span>\n",
       "    </div>"
      ]
     },
     "metadata": {},
     "output_type": "display_data"
    },
    {
     "data": {
      "application/javascript": [
       "\n",
       "(function(root) {\n",
       "  function now() {\n",
       "    return new Date();\n",
       "  }\n",
       "\n",
       "  var force = true;\n",
       "\n",
       "  if (typeof (root._bokeh_onload_callbacks) === \"undefined\" || force === true) {\n",
       "    root._bokeh_onload_callbacks = [];\n",
       "    root._bokeh_is_loading = undefined;\n",
       "  }\n",
       "\n",
       "  var JS_MIME_TYPE = 'application/javascript';\n",
       "  var HTML_MIME_TYPE = 'text/html';\n",
       "  var EXEC_MIME_TYPE = 'application/vnd.bokehjs_exec.v0+json';\n",
       "  var CLASS_NAME = 'output_bokeh rendered_html';\n",
       "\n",
       "  /**\n",
       "   * Render data to the DOM node\n",
       "   */\n",
       "  function render(props, node) {\n",
       "    var script = document.createElement(\"script\");\n",
       "    node.appendChild(script);\n",
       "  }\n",
       "\n",
       "  /**\n",
       "   * Handle when an output is cleared or removed\n",
       "   */\n",
       "  function handleClearOutput(event, handle) {\n",
       "    var cell = handle.cell;\n",
       "\n",
       "    var id = cell.output_area._bokeh_element_id;\n",
       "    var server_id = cell.output_area._bokeh_server_id;\n",
       "    // Clean up Bokeh references\n",
       "    if (id != null && id in Bokeh.index) {\n",
       "      Bokeh.index[id].model.document.clear();\n",
       "      delete Bokeh.index[id];\n",
       "    }\n",
       "\n",
       "    if (server_id !== undefined) {\n",
       "      // Clean up Bokeh references\n",
       "      var cmd = \"from bokeh.io.state import curstate; print(curstate().uuid_to_server['\" + server_id + \"'].get_sessions()[0].document.roots[0]._id)\";\n",
       "      cell.notebook.kernel.execute(cmd, {\n",
       "        iopub: {\n",
       "          output: function(msg) {\n",
       "            var id = msg.content.text.trim();\n",
       "            if (id in Bokeh.index) {\n",
       "              Bokeh.index[id].model.document.clear();\n",
       "              delete Bokeh.index[id];\n",
       "            }\n",
       "          }\n",
       "        }\n",
       "      });\n",
       "      // Destroy server and session\n",
       "      var cmd = \"import bokeh.io.notebook as ion; ion.destroy_server('\" + server_id + \"')\";\n",
       "      cell.notebook.kernel.execute(cmd);\n",
       "    }\n",
       "  }\n",
       "\n",
       "  /**\n",
       "   * Handle when a new output is added\n",
       "   */\n",
       "  function handleAddOutput(event, handle) {\n",
       "    var output_area = handle.output_area;\n",
       "    var output = handle.output;\n",
       "\n",
       "    // limit handleAddOutput to display_data with EXEC_MIME_TYPE content only\n",
       "    if ((output.output_type != \"display_data\") || (!output.data.hasOwnProperty(EXEC_MIME_TYPE))) {\n",
       "      return\n",
       "    }\n",
       "\n",
       "    var toinsert = output_area.element.find(\".\" + CLASS_NAME.split(' ')[0]);\n",
       "\n",
       "    if (output.metadata[EXEC_MIME_TYPE][\"id\"] !== undefined) {\n",
       "      toinsert[toinsert.length - 1].firstChild.textContent = output.data[JS_MIME_TYPE];\n",
       "      // store reference to embed id on output_area\n",
       "      output_area._bokeh_element_id = output.metadata[EXEC_MIME_TYPE][\"id\"];\n",
       "    }\n",
       "    if (output.metadata[EXEC_MIME_TYPE][\"server_id\"] !== undefined) {\n",
       "      var bk_div = document.createElement(\"div\");\n",
       "      bk_div.innerHTML = output.data[HTML_MIME_TYPE];\n",
       "      var script_attrs = bk_div.children[0].attributes;\n",
       "      for (var i = 0; i < script_attrs.length; i++) {\n",
       "        toinsert[toinsert.length - 1].firstChild.setAttribute(script_attrs[i].name, script_attrs[i].value);\n",
       "      }\n",
       "      // store reference to server id on output_area\n",
       "      output_area._bokeh_server_id = output.metadata[EXEC_MIME_TYPE][\"server_id\"];\n",
       "    }\n",
       "  }\n",
       "\n",
       "  function register_renderer(events, OutputArea) {\n",
       "\n",
       "    function append_mime(data, metadata, element) {\n",
       "      // create a DOM node to render to\n",
       "      var toinsert = this.create_output_subarea(\n",
       "        metadata,\n",
       "        CLASS_NAME,\n",
       "        EXEC_MIME_TYPE\n",
       "      );\n",
       "      this.keyboard_manager.register_events(toinsert);\n",
       "      // Render to node\n",
       "      var props = {data: data, metadata: metadata[EXEC_MIME_TYPE]};\n",
       "      render(props, toinsert[toinsert.length - 1]);\n",
       "      element.append(toinsert);\n",
       "      return toinsert\n",
       "    }\n",
       "\n",
       "    /* Handle when an output is cleared or removed */\n",
       "    events.on('clear_output.CodeCell', handleClearOutput);\n",
       "    events.on('delete.Cell', handleClearOutput);\n",
       "\n",
       "    /* Handle when a new output is added */\n",
       "    events.on('output_added.OutputArea', handleAddOutput);\n",
       "\n",
       "    /**\n",
       "     * Register the mime type and append_mime function with output_area\n",
       "     */\n",
       "    OutputArea.prototype.register_mime_type(EXEC_MIME_TYPE, append_mime, {\n",
       "      /* Is output safe? */\n",
       "      safe: true,\n",
       "      /* Index of renderer in `output_area.display_order` */\n",
       "      index: 0\n",
       "    });\n",
       "  }\n",
       "\n",
       "  // register the mime type if in Jupyter Notebook environment and previously unregistered\n",
       "  if (root.Jupyter !== undefined) {\n",
       "    var events = require('base/js/events');\n",
       "    var OutputArea = require('notebook/js/outputarea').OutputArea;\n",
       "\n",
       "    if (OutputArea.prototype.mime_types().indexOf(EXEC_MIME_TYPE) == -1) {\n",
       "      register_renderer(events, OutputArea);\n",
       "    }\n",
       "  }\n",
       "\n",
       "  \n",
       "  if (typeof (root._bokeh_timeout) === \"undefined\" || force === true) {\n",
       "    root._bokeh_timeout = Date.now() + 5000;\n",
       "    root._bokeh_failed_load = false;\n",
       "  }\n",
       "\n",
       "  var NB_LOAD_WARNING = {'data': {'text/html':\n",
       "     \"<div style='background-color: #fdd'>\\n\"+\n",
       "     \"<p>\\n\"+\n",
       "     \"BokehJS does not appear to have successfully loaded. If loading BokehJS from CDN, this \\n\"+\n",
       "     \"may be due to a slow or bad network connection. Possible fixes:\\n\"+\n",
       "     \"</p>\\n\"+\n",
       "     \"<ul>\\n\"+\n",
       "     \"<li>re-rerun `output_notebook()` to attempt to load from CDN again, or</li>\\n\"+\n",
       "     \"<li>use INLINE resources instead, as so:</li>\\n\"+\n",
       "     \"</ul>\\n\"+\n",
       "     \"<code>\\n\"+\n",
       "     \"from bokeh.resources import INLINE\\n\"+\n",
       "     \"output_notebook(resources=INLINE)\\n\"+\n",
       "     \"</code>\\n\"+\n",
       "     \"</div>\"}};\n",
       "\n",
       "  function display_loaded() {\n",
       "    var el = document.getElementById(\"23884\");\n",
       "    if (el != null) {\n",
       "      el.textContent = \"BokehJS is loading...\";\n",
       "    }\n",
       "    if (root.Bokeh !== undefined) {\n",
       "      if (el != null) {\n",
       "        el.textContent = \"BokehJS \" + root.Bokeh.version + \" successfully loaded.\";\n",
       "      }\n",
       "    } else if (Date.now() < root._bokeh_timeout) {\n",
       "      setTimeout(display_loaded, 100)\n",
       "    }\n",
       "  }\n",
       "\n",
       "\n",
       "  function run_callbacks() {\n",
       "    try {\n",
       "      root._bokeh_onload_callbacks.forEach(function(callback) { callback() });\n",
       "    }\n",
       "    finally {\n",
       "      delete root._bokeh_onload_callbacks\n",
       "    }\n",
       "    console.info(\"Bokeh: all callbacks have finished\");\n",
       "  }\n",
       "\n",
       "  function load_libs(js_urls, callback) {\n",
       "    root._bokeh_onload_callbacks.push(callback);\n",
       "    if (root._bokeh_is_loading > 0) {\n",
       "      console.log(\"Bokeh: BokehJS is being loaded, scheduling callback at\", now());\n",
       "      return null;\n",
       "    }\n",
       "    if (js_urls == null || js_urls.length === 0) {\n",
       "      run_callbacks();\n",
       "      return null;\n",
       "    }\n",
       "    console.log(\"Bokeh: BokehJS not loaded, scheduling load and callback at\", now());\n",
       "    root._bokeh_is_loading = js_urls.length;\n",
       "    for (var i = 0; i < js_urls.length; i++) {\n",
       "      var url = js_urls[i];\n",
       "      var s = document.createElement('script');\n",
       "      s.src = url;\n",
       "      s.async = false;\n",
       "      s.onreadystatechange = s.onload = function() {\n",
       "        root._bokeh_is_loading--;\n",
       "        if (root._bokeh_is_loading === 0) {\n",
       "          console.log(\"Bokeh: all BokehJS libraries loaded\");\n",
       "          run_callbacks()\n",
       "        }\n",
       "      };\n",
       "      s.onerror = function() {\n",
       "        console.warn(\"failed to load library \" + url);\n",
       "      };\n",
       "      console.log(\"Bokeh: injecting script tag for BokehJS library: \", url);\n",
       "      document.getElementsByTagName(\"head\")[0].appendChild(s);\n",
       "    }\n",
       "  };var element = document.getElementById(\"23884\");\n",
       "  if (element == null) {\n",
       "    console.log(\"Bokeh: ERROR: autoload.js configured with elementid '23884' but no matching script tag was found. \")\n",
       "    return false;\n",
       "  }\n",
       "\n",
       "  var js_urls = [\"https://cdn.pydata.org/bokeh/release/bokeh-1.0.1.min.js\", \"https://cdn.pydata.org/bokeh/release/bokeh-widgets-1.0.1.min.js\", \"https://cdn.pydata.org/bokeh/release/bokeh-tables-1.0.1.min.js\", \"https://cdn.pydata.org/bokeh/release/bokeh-gl-1.0.1.min.js\"];\n",
       "\n",
       "  var inline_js = [\n",
       "    function(Bokeh) {\n",
       "      Bokeh.set_log_level(\"info\");\n",
       "    },\n",
       "    \n",
       "    function(Bokeh) {\n",
       "      \n",
       "    },\n",
       "    function(Bokeh) {\n",
       "      console.log(\"Bokeh: injecting CSS: https://cdn.pydata.org/bokeh/release/bokeh-1.0.1.min.css\");\n",
       "      Bokeh.embed.inject_css(\"https://cdn.pydata.org/bokeh/release/bokeh-1.0.1.min.css\");\n",
       "      console.log(\"Bokeh: injecting CSS: https://cdn.pydata.org/bokeh/release/bokeh-widgets-1.0.1.min.css\");\n",
       "      Bokeh.embed.inject_css(\"https://cdn.pydata.org/bokeh/release/bokeh-widgets-1.0.1.min.css\");\n",
       "      console.log(\"Bokeh: injecting CSS: https://cdn.pydata.org/bokeh/release/bokeh-tables-1.0.1.min.css\");\n",
       "      Bokeh.embed.inject_css(\"https://cdn.pydata.org/bokeh/release/bokeh-tables-1.0.1.min.css\");\n",
       "    }\n",
       "  ];\n",
       "\n",
       "  function run_inline_js() {\n",
       "    \n",
       "    if ((root.Bokeh !== undefined) || (force === true)) {\n",
       "      for (var i = 0; i < inline_js.length; i++) {\n",
       "        inline_js[i].call(root, root.Bokeh);\n",
       "      }if (force === true) {\n",
       "        display_loaded();\n",
       "      }} else if (Date.now() < root._bokeh_timeout) {\n",
       "      setTimeout(run_inline_js, 100);\n",
       "    } else if (!root._bokeh_failed_load) {\n",
       "      console.log(\"Bokeh: BokehJS failed to load within specified timeout.\");\n",
       "      root._bokeh_failed_load = true;\n",
       "    } else if (force !== true) {\n",
       "      var cell = $(document.getElementById(\"23884\")).parents('.cell').data().cell;\n",
       "      cell.output_area.append_execute_result(NB_LOAD_WARNING)\n",
       "    }\n",
       "\n",
       "  }\n",
       "\n",
       "  if (root._bokeh_is_loading === 0) {\n",
       "    console.log(\"Bokeh: BokehJS loaded, going straight to plotting\");\n",
       "    run_inline_js();\n",
       "  } else {\n",
       "    load_libs(js_urls, function() {\n",
       "      console.log(\"Bokeh: BokehJS plotting callback run at\", now());\n",
       "      run_inline_js();\n",
       "    });\n",
       "  }\n",
       "}(window));"
      ],
      "application/vnd.bokehjs_load.v0+json": "\n(function(root) {\n  function now() {\n    return new Date();\n  }\n\n  var force = true;\n\n  if (typeof (root._bokeh_onload_callbacks) === \"undefined\" || force === true) {\n    root._bokeh_onload_callbacks = [];\n    root._bokeh_is_loading = undefined;\n  }\n\n  \n\n  \n  if (typeof (root._bokeh_timeout) === \"undefined\" || force === true) {\n    root._bokeh_timeout = Date.now() + 5000;\n    root._bokeh_failed_load = false;\n  }\n\n  var NB_LOAD_WARNING = {'data': {'text/html':\n     \"<div style='background-color: #fdd'>\\n\"+\n     \"<p>\\n\"+\n     \"BokehJS does not appear to have successfully loaded. If loading BokehJS from CDN, this \\n\"+\n     \"may be due to a slow or bad network connection. Possible fixes:\\n\"+\n     \"</p>\\n\"+\n     \"<ul>\\n\"+\n     \"<li>re-rerun `output_notebook()` to attempt to load from CDN again, or</li>\\n\"+\n     \"<li>use INLINE resources instead, as so:</li>\\n\"+\n     \"</ul>\\n\"+\n     \"<code>\\n\"+\n     \"from bokeh.resources import INLINE\\n\"+\n     \"output_notebook(resources=INLINE)\\n\"+\n     \"</code>\\n\"+\n     \"</div>\"}};\n\n  function display_loaded() {\n    var el = document.getElementById(\"23884\");\n    if (el != null) {\n      el.textContent = \"BokehJS is loading...\";\n    }\n    if (root.Bokeh !== undefined) {\n      if (el != null) {\n        el.textContent = \"BokehJS \" + root.Bokeh.version + \" successfully loaded.\";\n      }\n    } else if (Date.now() < root._bokeh_timeout) {\n      setTimeout(display_loaded, 100)\n    }\n  }\n\n\n  function run_callbacks() {\n    try {\n      root._bokeh_onload_callbacks.forEach(function(callback) { callback() });\n    }\n    finally {\n      delete root._bokeh_onload_callbacks\n    }\n    console.info(\"Bokeh: all callbacks have finished\");\n  }\n\n  function load_libs(js_urls, callback) {\n    root._bokeh_onload_callbacks.push(callback);\n    if (root._bokeh_is_loading > 0) {\n      console.log(\"Bokeh: BokehJS is being loaded, scheduling callback at\", now());\n      return null;\n    }\n    if (js_urls == null || js_urls.length === 0) {\n      run_callbacks();\n      return null;\n    }\n    console.log(\"Bokeh: BokehJS not loaded, scheduling load and callback at\", now());\n    root._bokeh_is_loading = js_urls.length;\n    for (var i = 0; i < js_urls.length; i++) {\n      var url = js_urls[i];\n      var s = document.createElement('script');\n      s.src = url;\n      s.async = false;\n      s.onreadystatechange = s.onload = function() {\n        root._bokeh_is_loading--;\n        if (root._bokeh_is_loading === 0) {\n          console.log(\"Bokeh: all BokehJS libraries loaded\");\n          run_callbacks()\n        }\n      };\n      s.onerror = function() {\n        console.warn(\"failed to load library \" + url);\n      };\n      console.log(\"Bokeh: injecting script tag for BokehJS library: \", url);\n      document.getElementsByTagName(\"head\")[0].appendChild(s);\n    }\n  };var element = document.getElementById(\"23884\");\n  if (element == null) {\n    console.log(\"Bokeh: ERROR: autoload.js configured with elementid '23884' but no matching script tag was found. \")\n    return false;\n  }\n\n  var js_urls = [\"https://cdn.pydata.org/bokeh/release/bokeh-1.0.1.min.js\", \"https://cdn.pydata.org/bokeh/release/bokeh-widgets-1.0.1.min.js\", \"https://cdn.pydata.org/bokeh/release/bokeh-tables-1.0.1.min.js\", \"https://cdn.pydata.org/bokeh/release/bokeh-gl-1.0.1.min.js\"];\n\n  var inline_js = [\n    function(Bokeh) {\n      Bokeh.set_log_level(\"info\");\n    },\n    \n    function(Bokeh) {\n      \n    },\n    function(Bokeh) {\n      console.log(\"Bokeh: injecting CSS: https://cdn.pydata.org/bokeh/release/bokeh-1.0.1.min.css\");\n      Bokeh.embed.inject_css(\"https://cdn.pydata.org/bokeh/release/bokeh-1.0.1.min.css\");\n      console.log(\"Bokeh: injecting CSS: https://cdn.pydata.org/bokeh/release/bokeh-widgets-1.0.1.min.css\");\n      Bokeh.embed.inject_css(\"https://cdn.pydata.org/bokeh/release/bokeh-widgets-1.0.1.min.css\");\n      console.log(\"Bokeh: injecting CSS: https://cdn.pydata.org/bokeh/release/bokeh-tables-1.0.1.min.css\");\n      Bokeh.embed.inject_css(\"https://cdn.pydata.org/bokeh/release/bokeh-tables-1.0.1.min.css\");\n    }\n  ];\n\n  function run_inline_js() {\n    \n    if ((root.Bokeh !== undefined) || (force === true)) {\n      for (var i = 0; i < inline_js.length; i++) {\n        inline_js[i].call(root, root.Bokeh);\n      }if (force === true) {\n        display_loaded();\n      }} else if (Date.now() < root._bokeh_timeout) {\n      setTimeout(run_inline_js, 100);\n    } else if (!root._bokeh_failed_load) {\n      console.log(\"Bokeh: BokehJS failed to load within specified timeout.\");\n      root._bokeh_failed_load = true;\n    } else if (force !== true) {\n      var cell = $(document.getElementById(\"23884\")).parents('.cell').data().cell;\n      cell.output_area.append_execute_result(NB_LOAD_WARNING)\n    }\n\n  }\n\n  if (root._bokeh_is_loading === 0) {\n    console.log(\"Bokeh: BokehJS loaded, going straight to plotting\");\n    run_inline_js();\n  } else {\n    load_libs(js_urls, function() {\n      console.log(\"Bokeh: BokehJS plotting callback run at\", now());\n      run_inline_js();\n    });\n  }\n}(window));"
     },
     "metadata": {},
     "output_type": "display_data"
    },
    {
     "data": {
      "text/html": [
       "\n",
       "\n",
       "\n",
       "\n",
       "\n",
       "\n",
       "  <div class=\"bk-root\" id=\"7469fb76-fef2-4094-973b-72bee8b7882a\"></div>\n"
      ]
     },
     "metadata": {},
     "output_type": "display_data"
    },
    {
     "data": {
      "application/javascript": [
       "(function(root) {\n",
       "  function embed_document(root) {\n",
       "    \n",
       "  var docs_json = {\"9cb0dea9-4f27-4982-a473-2830c651752d\":{\"roots\":{\"references\":[{\"attributes\":{\"below\":[{\"id\":\"23896\",\"type\":\"LinearAxis\"}],\"left\":[{\"id\":\"23901\",\"type\":\"LinearAxis\"}],\"plot_height\":500,\"renderers\":[{\"id\":\"23896\",\"type\":\"LinearAxis\"},{\"id\":\"23900\",\"type\":\"Grid\"},{\"id\":\"23901\",\"type\":\"LinearAxis\"},{\"id\":\"23905\",\"type\":\"Grid\"},{\"id\":\"23922\",\"type\":\"Legend\"},{\"id\":\"23915\",\"type\":\"GlyphRenderer\"}],\"title\":{\"id\":\"23885\",\"type\":\"Title\"},\"toolbar\":{\"id\":\"23907\",\"type\":\"Toolbar\"},\"toolbar_location\":null,\"x_range\":{\"id\":\"23888\",\"type\":\"Range1d\"},\"x_scale\":{\"id\":\"23892\",\"type\":\"LinearScale\"},\"y_range\":{\"id\":\"23890\",\"type\":\"DataRange1d\"},\"y_scale\":{\"id\":\"23894\",\"type\":\"LinearScale\"}},\"id\":\"23886\",\"subtype\":\"Figure\",\"type\":\"Plot\"},{\"attributes\":{},\"id\":\"24650\",\"type\":\"UnionRenderers\"},{\"attributes\":{\"plot\":null,\"text\":\"Pie Chart\"},\"id\":\"23885\",\"type\":\"Title\"},{\"attributes\":{},\"id\":\"23918\",\"type\":\"BasicTickFormatter\"},{\"attributes\":{},\"id\":\"23897\",\"type\":\"BasicTicker\"},{\"attributes\":{\"axis_label\":null,\"formatter\":{\"id\":\"23918\",\"type\":\"BasicTickFormatter\"},\"plot\":{\"id\":\"23886\",\"subtype\":\"Figure\",\"type\":\"Plot\"},\"ticker\":{\"id\":\"23897\",\"type\":\"BasicTicker\"},\"visible\":false},\"id\":\"23896\",\"type\":\"LinearAxis\"},{\"attributes\":{\"field\":\"angle\"},\"id\":\"23910\",\"type\":\"CumSum\"},{\"attributes\":{},\"id\":\"23920\",\"type\":\"BasicTickFormatter\"},{\"attributes\":{\"axis_label\":null,\"formatter\":{\"id\":\"23920\",\"type\":\"BasicTickFormatter\"},\"plot\":{\"id\":\"23886\",\"subtype\":\"Figure\",\"type\":\"Plot\"},\"ticker\":{\"id\":\"23902\",\"type\":\"BasicTicker\"},\"visible\":false},\"id\":\"23901\",\"type\":\"LinearAxis\"},{\"attributes\":{\"end_angle\":{\"expr\":{\"id\":\"23910\",\"type\":\"CumSum\"},\"units\":\"rad\"},\"fill_alpha\":{\"value\":0.1},\"fill_color\":{\"value\":\"#1f77b4\"},\"line_alpha\":{\"value\":0.1},\"line_color\":{\"value\":\"#1f77b4\"},\"radius\":{\"units\":\"data\",\"value\":0.4},\"start_angle\":{\"expr\":{\"id\":\"23909\",\"type\":\"CumSum\"},\"units\":\"rad\"},\"x\":{\"value\":0},\"y\":{\"value\":1}},\"id\":\"23914\",\"type\":\"Wedge\"},{\"attributes\":{\"field\":\"angle\",\"include_zero\":true},\"id\":\"23909\",\"type\":\"CumSum\"},{\"attributes\":{\"end_angle\":{\"expr\":{\"id\":\"23910\",\"type\":\"CumSum\"},\"units\":\"rad\"},\"fill_color\":{\"field\":\"color\"},\"line_color\":{\"value\":\"white\"},\"radius\":{\"units\":\"data\",\"value\":0.4},\"start_angle\":{\"expr\":{\"id\":\"23909\",\"type\":\"CumSum\"},\"units\":\"rad\"},\"x\":{\"value\":0},\"y\":{\"value\":1}},\"id\":\"23913\",\"type\":\"Wedge\"},{\"attributes\":{\"dimension\":1,\"grid_line_color\":{\"value\":null},\"plot\":{\"id\":\"23886\",\"subtype\":\"Figure\",\"type\":\"Plot\"},\"ticker\":{\"id\":\"23902\",\"type\":\"BasicTicker\"}},\"id\":\"23905\",\"type\":\"Grid\"},{\"attributes\":{},\"id\":\"23894\",\"type\":\"LinearScale\"},{\"attributes\":{\"data_source\":{\"id\":\"23911\",\"type\":\"ColumnDataSource\"},\"glyph\":{\"id\":\"23913\",\"type\":\"Wedge\"},\"hover_glyph\":null,\"muted_glyph\":null,\"nonselection_glyph\":{\"id\":\"23914\",\"type\":\"Wedge\"},\"selection_glyph\":null,\"view\":{\"id\":\"23916\",\"type\":\"CDSView\"}},\"id\":\"23915\",\"type\":\"GlyphRenderer\"},{\"attributes\":{\"source\":{\"id\":\"23911\",\"type\":\"ColumnDataSource\"}},\"id\":\"23916\",\"type\":\"CDSView\"},{\"attributes\":{\"callback\":null,\"renderers\":\"auto\",\"tooltips\":\"@candidat: @value\"},\"id\":\"23906\",\"type\":\"HoverTool\"},{\"attributes\":{\"callback\":null,\"start\":-0.5},\"id\":\"23888\",\"type\":\"Range1d\"},{\"attributes\":{},\"id\":\"24651\",\"type\":\"Selection\"},{\"attributes\":{},\"id\":\"23902\",\"type\":\"BasicTicker\"},{\"attributes\":{\"label\":{\"field\":\"candidat\"},\"renderers\":[{\"id\":\"23915\",\"type\":\"GlyphRenderer\"}]},\"id\":\"23923\",\"type\":\"LegendItem\"},{\"attributes\":{\"items\":[{\"id\":\"23923\",\"type\":\"LegendItem\"}],\"plot\":{\"id\":\"23886\",\"subtype\":\"Figure\",\"type\":\"Plot\"}},\"id\":\"23922\",\"type\":\"Legend\"},{\"attributes\":{},\"id\":\"23892\",\"type\":\"LinearScale\"},{\"attributes\":{\"callback\":null},\"id\":\"23890\",\"type\":\"DataRange1d\"},{\"attributes\":{\"active_drag\":\"auto\",\"active_inspect\":\"auto\",\"active_multi\":null,\"active_scroll\":\"auto\",\"active_tap\":\"auto\",\"tools\":[{\"id\":\"23906\",\"type\":\"HoverTool\"}]},\"id\":\"23907\",\"type\":\"Toolbar\"},{\"attributes\":{\"callback\":null,\"data\":{\"angle\":{\"__ndarray__\":\"sSSUl+w2+D9GSzVe6NqMPxngjUK+86A/mLkgycQS4j9QakITw0p+P0MVm4XuUHc/EBapXc80lj8LcBOudY77PwwqRHyHceU/YlLWNqKw+z8=\",\"dtype\":\"float64\",\"shape\":[10]},\"candidat\":[\"Melenchon_1\",\"Lassalle_1\",\"Poutou_1\",\"Hamon_1\",\"Arthaud_1\",\"Cheminade_1\",\"Dupont_Aignan_1\",\"Fillon_1\",\"LePen_1\",\"Macron_1\"],\"color\":[\"#3182bd\",\"#6baed6\",\"#9ecae1\",\"#c6dbef\",\"#e6550d\",\"#fd8d3c\",\"#fdae6b\",\"#fdd0a2\",\"#31a354\",\"#74c476\"],\"index\":[0,1,2,3,4,5,6,7,8,9],\"value\":{\"__ndarray__\":\"EkdoYayexEABeH/5S5JYQJSALuf83mxAuoCDsdHHrkBwsnu6istJQGrubvTS2kNABxbXkuHoYkC+8AKoM3fHQNOFQyeXQrJAQC0PcU2Ux0A=\",\"dtype\":\"float64\",\"shape\":[10]}},\"selected\":{\"id\":\"24651\",\"type\":\"Selection\"},\"selection_policy\":{\"id\":\"24650\",\"type\":\"UnionRenderers\"}},\"id\":\"23911\",\"type\":\"ColumnDataSource\"},{\"attributes\":{\"grid_line_color\":{\"value\":null},\"plot\":{\"id\":\"23886\",\"subtype\":\"Figure\",\"type\":\"Plot\"},\"ticker\":{\"id\":\"23897\",\"type\":\"BasicTicker\"}},\"id\":\"23900\",\"type\":\"Grid\"}],\"root_ids\":[\"23886\"]},\"title\":\"Bokeh Application\",\"version\":\"1.0.1\"}};\n",
       "  var render_items = [{\"docid\":\"9cb0dea9-4f27-4982-a473-2830c651752d\",\"roots\":{\"23886\":\"7469fb76-fef2-4094-973b-72bee8b7882a\"}}];\n",
       "  root.Bokeh.embed.embed_items_notebook(docs_json, render_items);\n",
       "\n",
       "  }\n",
       "  if (root.Bokeh !== undefined) {\n",
       "    embed_document(root);\n",
       "  } else {\n",
       "    var attempts = 0;\n",
       "    var timer = setInterval(function(root) {\n",
       "      if (root.Bokeh !== undefined) {\n",
       "        embed_document(root);\n",
       "        clearInterval(timer);\n",
       "      }\n",
       "      attempts++;\n",
       "      if (attempts > 100) {\n",
       "        console.log(\"Bokeh: ERROR: Unable to run BokehJS code because BokehJS library is missing\");\n",
       "        clearInterval(timer);\n",
       "      }\n",
       "    }, 10, root)\n",
       "  }\n",
       "})(window);"
      ],
      "application/vnd.bokehjs_exec.v0+json": ""
     },
     "metadata": {
      "application/vnd.bokehjs_exec.v0+json": {
       "id": "23886"
      }
     },
     "output_type": "display_data"
    }
   ],
   "source": [
    "output_notebook() \n",
    "sv.pie(communaute)"
   ]
  },
  {
   "cell_type": "code",
   "execution_count": 98,
   "metadata": {},
   "outputs": [
    {
     "data": {
      "text/html": [
       "\n",
       "\n",
       "\n",
       "\n",
       "\n",
       "\n",
       "  <div class=\"bk-root\" id=\"a785993b-0709-4253-86dd-9995cf5cce27\"></div>\n"
      ]
     },
     "metadata": {},
     "output_type": "display_data"
    },
    {
     "data": {
      "application/javascript": [
       "(function(root) {\n",
       "  function embed_document(root) {\n",
       "    \n",
       "  var docs_json = {\"c936e151-72be-407f-b1e6-eca4ee429685\":{\"roots\":{\"references\":[{\"attributes\":{\"below\":[{\"id\":\"15506\",\"type\":\"LinearAxis\"}],\"left\":[{\"id\":\"15511\",\"type\":\"LinearAxis\"}],\"plot_height\":500,\"renderers\":[{\"id\":\"15506\",\"type\":\"LinearAxis\"},{\"id\":\"15510\",\"type\":\"Grid\"},{\"id\":\"15511\",\"type\":\"LinearAxis\"},{\"id\":\"15515\",\"type\":\"Grid\"},{\"id\":\"15532\",\"type\":\"Legend\"},{\"id\":\"15525\",\"type\":\"GlyphRenderer\"}],\"title\":{\"id\":\"15495\",\"type\":\"Title\"},\"toolbar\":{\"id\":\"15517\",\"type\":\"Toolbar\"},\"toolbar_location\":null,\"x_range\":{\"id\":\"15498\",\"type\":\"Range1d\"},\"x_scale\":{\"id\":\"15502\",\"type\":\"LinearScale\"},\"y_range\":{\"id\":\"15500\",\"type\":\"DataRange1d\"},\"y_scale\":{\"id\":\"15504\",\"type\":\"LinearScale\"}},\"id\":\"15496\",\"subtype\":\"Figure\",\"type\":\"Plot\"},{\"attributes\":{\"axis_label\":null,\"formatter\":{\"id\":\"15528\",\"type\":\"BasicTickFormatter\"},\"plot\":{\"id\":\"15496\",\"subtype\":\"Figure\",\"type\":\"Plot\"},\"ticker\":{\"id\":\"15507\",\"type\":\"BasicTicker\"},\"visible\":false},\"id\":\"15506\",\"type\":\"LinearAxis\"},{\"attributes\":{\"dimension\":1,\"grid_line_color\":{\"value\":null},\"plot\":{\"id\":\"15496\",\"subtype\":\"Figure\",\"type\":\"Plot\"},\"ticker\":{\"id\":\"15512\",\"type\":\"BasicTicker\"}},\"id\":\"15515\",\"type\":\"Grid\"},{\"attributes\":{},\"id\":\"16111\",\"type\":\"Selection\"},{\"attributes\":{\"items\":[{\"id\":\"15533\",\"type\":\"LegendItem\"}],\"plot\":{\"id\":\"15496\",\"subtype\":\"Figure\",\"type\":\"Plot\"}},\"id\":\"15532\",\"type\":\"Legend\"},{\"attributes\":{\"axis_label\":null,\"formatter\":{\"id\":\"15530\",\"type\":\"BasicTickFormatter\"},\"plot\":{\"id\":\"15496\",\"subtype\":\"Figure\",\"type\":\"Plot\"},\"ticker\":{\"id\":\"15512\",\"type\":\"BasicTicker\"},\"visible\":false},\"id\":\"15511\",\"type\":\"LinearAxis\"},{\"attributes\":{},\"id\":\"15530\",\"type\":\"BasicTickFormatter\"},{\"attributes\":{},\"id\":\"15528\",\"type\":\"BasicTickFormatter\"},{\"attributes\":{\"grid_line_color\":{\"value\":null},\"plot\":{\"id\":\"15496\",\"subtype\":\"Figure\",\"type\":\"Plot\"},\"ticker\":{\"id\":\"15507\",\"type\":\"BasicTicker\"}},\"id\":\"15510\",\"type\":\"Grid\"},{\"attributes\":{\"source\":{\"id\":\"15521\",\"type\":\"ColumnDataSource\"}},\"id\":\"15526\",\"type\":\"CDSView\"},{\"attributes\":{},\"id\":\"15512\",\"type\":\"BasicTicker\"},{\"attributes\":{\"field\":\"angle\",\"include_zero\":true},\"id\":\"15519\",\"type\":\"CumSum\"},{\"attributes\":{\"end_angle\":{\"expr\":{\"id\":\"15520\",\"type\":\"CumSum\"},\"units\":\"rad\"},\"fill_color\":{\"field\":\"color\"},\"line_color\":{\"value\":\"white\"},\"radius\":{\"units\":\"data\",\"value\":0.4},\"start_angle\":{\"expr\":{\"id\":\"15519\",\"type\":\"CumSum\"},\"units\":\"rad\"},\"x\":{\"value\":0},\"y\":{\"value\":1}},\"id\":\"15523\",\"type\":\"Wedge\"},{\"attributes\":{\"callback\":null,\"start\":-0.5},\"id\":\"15498\",\"type\":\"Range1d\"},{\"attributes\":{\"label\":{\"field\":\"candidat\"},\"renderers\":[{\"id\":\"15525\",\"type\":\"GlyphRenderer\"}]},\"id\":\"15533\",\"type\":\"LegendItem\"},{\"attributes\":{\"callback\":null},\"id\":\"15500\",\"type\":\"DataRange1d\"},{\"attributes\":{\"end_angle\":{\"expr\":{\"id\":\"15520\",\"type\":\"CumSum\"},\"units\":\"rad\"},\"fill_alpha\":{\"value\":0.1},\"fill_color\":{\"value\":\"#1f77b4\"},\"line_alpha\":{\"value\":0.1},\"line_color\":{\"value\":\"#1f77b4\"},\"radius\":{\"units\":\"data\",\"value\":0.4},\"start_angle\":{\"expr\":{\"id\":\"15519\",\"type\":\"CumSum\"},\"units\":\"rad\"},\"x\":{\"value\":0},\"y\":{\"value\":1}},\"id\":\"15524\",\"type\":\"Wedge\"},{\"attributes\":{},\"id\":\"15502\",\"type\":\"LinearScale\"},{\"attributes\":{},\"id\":\"16110\",\"type\":\"UnionRenderers\"},{\"attributes\":{},\"id\":\"15504\",\"type\":\"LinearScale\"},{\"attributes\":{\"callback\":null,\"renderers\":\"auto\",\"tooltips\":\"@candidat: @value\"},\"id\":\"15516\",\"type\":\"HoverTool\"},{\"attributes\":{\"plot\":null,\"text\":\"Pie Chart\"},\"id\":\"15495\",\"type\":\"Title\"},{\"attributes\":{\"data_source\":{\"id\":\"15521\",\"type\":\"ColumnDataSource\"},\"glyph\":{\"id\":\"15523\",\"type\":\"Wedge\"},\"hover_glyph\":null,\"muted_glyph\":null,\"nonselection_glyph\":{\"id\":\"15524\",\"type\":\"Wedge\"},\"selection_glyph\":null,\"view\":{\"id\":\"15526\",\"type\":\"CDSView\"}},\"id\":\"15525\",\"type\":\"GlyphRenderer\"},{\"attributes\":{\"field\":\"angle\"},\"id\":\"15520\",\"type\":\"CumSum\"},{\"attributes\":{\"active_drag\":\"auto\",\"active_inspect\":\"auto\",\"active_multi\":null,\"active_scroll\":\"auto\",\"active_tap\":\"auto\",\"tools\":[{\"id\":\"15516\",\"type\":\"HoverTool\"}]},\"id\":\"15517\",\"type\":\"Toolbar\"},{\"attributes\":{},\"id\":\"15507\",\"type\":\"BasicTicker\"},{\"attributes\":{\"callback\":null,\"data\":{\"angle\":{\"__ndarray__\":\"YiuvDtG/5j/l94/NDprvP+p2BqydseI/quaHUrjK4z/FpzBgggzfP/7INNOCTeM/8FHc5eT+5T+e0v9tmN3iP/VD5t/Dkds/f4Q3gIHA4j8=\",\"dtype\":\"float64\",\"shape\":[10]},\"candidat\":[\"Melenchon_1\",\"Lassalle_1\",\"Poutou_1\",\"Hamon_1\",\"Arthaud_1\",\"Cheminade_1\",\"Dupont_Aignan_1\",\"Fillon_1\",\"LePen_1\",\"Macron_1\"],\"color\":[\"#3182bd\",\"#6baed6\",\"#9ecae1\",\"#c6dbef\",\"#e6550d\",\"#fd8d3c\",\"#fdae6b\",\"#fdd0a2\",\"#31a354\",\"#74c476\"],\"index\":[0,1,2,3,4,5,6,7,8,9],\"value\":{\"__ndarray__\":\"fkXlAxS5wT+GCSNHm57IP9Zy3RSGIL0/gSdi7IPWvj+dOSUUVTC4P0BAJP9sE74/KWTz4cciwT8MI5R7DGW9P4fLgpdkerU/ozkcVrk3vT8=\",\"dtype\":\"float64\",\"shape\":[10]}},\"selected\":{\"id\":\"16111\",\"type\":\"Selection\"},\"selection_policy\":{\"id\":\"16110\",\"type\":\"UnionRenderers\"}},\"id\":\"15521\",\"type\":\"ColumnDataSource\"}],\"root_ids\":[\"15496\"]},\"title\":\"Bokeh Application\",\"version\":\"1.0.1\"}};\n",
       "  var render_items = [{\"docid\":\"c936e151-72be-407f-b1e6-eca4ee429685\",\"roots\":{\"15496\":\"a785993b-0709-4253-86dd-9995cf5cce27\"}}];\n",
       "  root.Bokeh.embed.embed_items_notebook(docs_json, render_items);\n",
       "\n",
       "  }\n",
       "  if (root.Bokeh !== undefined) {\n",
       "    embed_document(root);\n",
       "  } else {\n",
       "    var attempts = 0;\n",
       "    var timer = setInterval(function(root) {\n",
       "      if (root.Bokeh !== undefined) {\n",
       "        embed_document(root);\n",
       "        clearInterval(timer);\n",
       "      }\n",
       "      attempts++;\n",
       "      if (attempts > 100) {\n",
       "        console.log(\"Bokeh: ERROR: Unable to run BokehJS code because BokehJS library is missing\");\n",
       "        clearInterval(timer);\n",
       "      }\n",
       "    }, 10, root)\n",
       "  }\n",
       "})(window);"
      ],
      "application/vnd.bokehjs_exec.v0+json": ""
     },
     "metadata": {
      "application/vnd.bokehjs_exec.v0+json": {
       "id": "15496"
      }
     },
     "output_type": "display_data"
    }
   ],
   "source": [
    "sv.pie(communaute_perc)"
   ]
  },
  {
   "cell_type": "code",
   "execution_count": 99,
   "metadata": {},
   "outputs": [
    {
     "data": {
      "text/html": [
       "\n",
       "\n",
       "\n",
       "\n",
       "\n",
       "\n",
       "  <div class=\"bk-root\" id=\"2d626f59-b43a-4ba7-8c5e-ee0d1fa43698\"></div>\n"
      ]
     },
     "metadata": {},
     "output_type": "display_data"
    },
    {
     "data": {
      "application/javascript": [
       "(function(root) {\n",
       "  function embed_document(root) {\n",
       "    \n",
       "  var docs_json = {\"ea9b61f9-20b9-4e8b-8349-9ae07e42e195\":{\"roots\":{\"references\":[{\"attributes\":{\"below\":[{\"id\":\"16165\",\"type\":\"LinearAxis\"}],\"left\":[{\"id\":\"16170\",\"type\":\"LinearAxis\"}],\"plot_height\":500,\"renderers\":[{\"id\":\"16165\",\"type\":\"LinearAxis\"},{\"id\":\"16169\",\"type\":\"Grid\"},{\"id\":\"16170\",\"type\":\"LinearAxis\"},{\"id\":\"16174\",\"type\":\"Grid\"},{\"id\":\"16191\",\"type\":\"Legend\"},{\"id\":\"16184\",\"type\":\"GlyphRenderer\"}],\"title\":{\"id\":\"16154\",\"type\":\"Title\"},\"toolbar\":{\"id\":\"16176\",\"type\":\"Toolbar\"},\"toolbar_location\":null,\"x_range\":{\"id\":\"16157\",\"type\":\"Range1d\"},\"x_scale\":{\"id\":\"16161\",\"type\":\"LinearScale\"},\"y_range\":{\"id\":\"16159\",\"type\":\"DataRange1d\"},\"y_scale\":{\"id\":\"16163\",\"type\":\"LinearScale\"}},\"id\":\"16155\",\"subtype\":\"Figure\",\"type\":\"Plot\"},{\"attributes\":{\"end_angle\":{\"expr\":{\"id\":\"16179\",\"type\":\"CumSum\"},\"units\":\"rad\"},\"fill_alpha\":{\"value\":0.1},\"fill_color\":{\"value\":\"#1f77b4\"},\"line_alpha\":{\"value\":0.1},\"line_color\":{\"value\":\"#1f77b4\"},\"radius\":{\"units\":\"data\",\"value\":0.4},\"start_angle\":{\"expr\":{\"id\":\"16178\",\"type\":\"CumSum\"},\"units\":\"rad\"},\"x\":{\"value\":0},\"y\":{\"value\":1}},\"id\":\"16183\",\"type\":\"Wedge\"},{\"attributes\":{\"axis_label\":null,\"formatter\":{\"id\":\"16189\",\"type\":\"BasicTickFormatter\"},\"plot\":{\"id\":\"16155\",\"subtype\":\"Figure\",\"type\":\"Plot\"},\"ticker\":{\"id\":\"16171\",\"type\":\"BasicTicker\"},\"visible\":false},\"id\":\"16170\",\"type\":\"LinearAxis\"},{\"attributes\":{},\"id\":\"16161\",\"type\":\"LinearScale\"},{\"attributes\":{},\"id\":\"16163\",\"type\":\"LinearScale\"},{\"attributes\":{\"field\":\"angle\"},\"id\":\"16179\",\"type\":\"CumSum\"},{\"attributes\":{\"axis_label\":null,\"formatter\":{\"id\":\"16187\",\"type\":\"BasicTickFormatter\"},\"plot\":{\"id\":\"16155\",\"subtype\":\"Figure\",\"type\":\"Plot\"},\"ticker\":{\"id\":\"16166\",\"type\":\"BasicTicker\"},\"visible\":false},\"id\":\"16165\",\"type\":\"LinearAxis\"},{\"attributes\":{\"callback\":null,\"renderers\":\"auto\",\"tooltips\":\"@candidat: @value\"},\"id\":\"16175\",\"type\":\"HoverTool\"},{\"attributes\":{},\"id\":\"16166\",\"type\":\"BasicTicker\"},{\"attributes\":{\"callback\":null,\"data\":{\"angle\":{\"__ndarray__\":\"xPzuyHdH8T/eFewyf00EQBNghpi/I+I/atZXH7Ls2z8/ZjDOapj6Pw==\",\"dtype\":\"float64\",\"shape\":[5]},\"candidat\":[\"Lassalle_1\",\"Poutou_1\",\"Arthaud_1\",\"Cheminade_1\",\"Dupont_Aignan_1\"],\"color\":[\"#3182bd\",\"#6baed6\",\"#9ecae1\",\"#c6dbef\",\"#e6550d\"],\"index\":[0,1,2,3,4],\"value\":{\"__ndarray__\":\"AXh/+UuSWECUgC7n/N5sQHCye7qKy0lAau5u9NLaQ0AHFteS4ehiQA==\",\"dtype\":\"float64\",\"shape\":[5]}},\"selected\":{\"id\":\"16777\",\"type\":\"Selection\"},\"selection_policy\":{\"id\":\"16776\",\"type\":\"UnionRenderers\"}},\"id\":\"16180\",\"type\":\"ColumnDataSource\"},{\"attributes\":{\"grid_line_color\":{\"value\":null},\"plot\":{\"id\":\"16155\",\"subtype\":\"Figure\",\"type\":\"Plot\"},\"ticker\":{\"id\":\"16166\",\"type\":\"BasicTicker\"}},\"id\":\"16169\",\"type\":\"Grid\"},{\"attributes\":{\"data_source\":{\"id\":\"16180\",\"type\":\"ColumnDataSource\"},\"glyph\":{\"id\":\"16182\",\"type\":\"Wedge\"},\"hover_glyph\":null,\"muted_glyph\":null,\"nonselection_glyph\":{\"id\":\"16183\",\"type\":\"Wedge\"},\"selection_glyph\":null,\"view\":{\"id\":\"16185\",\"type\":\"CDSView\"}},\"id\":\"16184\",\"type\":\"GlyphRenderer\"},{\"attributes\":{\"label\":{\"field\":\"candidat\"},\"renderers\":[{\"id\":\"16184\",\"type\":\"GlyphRenderer\"}]},\"id\":\"16192\",\"type\":\"LegendItem\"},{\"attributes\":{\"active_drag\":\"auto\",\"active_inspect\":\"auto\",\"active_multi\":null,\"active_scroll\":\"auto\",\"active_tap\":\"auto\",\"tools\":[{\"id\":\"16175\",\"type\":\"HoverTool\"}]},\"id\":\"16176\",\"type\":\"Toolbar\"},{\"attributes\":{\"end_angle\":{\"expr\":{\"id\":\"16179\",\"type\":\"CumSum\"},\"units\":\"rad\"},\"fill_color\":{\"field\":\"color\"},\"line_color\":{\"value\":\"white\"},\"radius\":{\"units\":\"data\",\"value\":0.4},\"start_angle\":{\"expr\":{\"id\":\"16178\",\"type\":\"CumSum\"},\"units\":\"rad\"},\"x\":{\"value\":0},\"y\":{\"value\":1}},\"id\":\"16182\",\"type\":\"Wedge\"},{\"attributes\":{\"callback\":null,\"start\":-0.5},\"id\":\"16157\",\"type\":\"Range1d\"},{\"attributes\":{\"dimension\":1,\"grid_line_color\":{\"value\":null},\"plot\":{\"id\":\"16155\",\"subtype\":\"Figure\",\"type\":\"Plot\"},\"ticker\":{\"id\":\"16171\",\"type\":\"BasicTicker\"}},\"id\":\"16174\",\"type\":\"Grid\"},{\"attributes\":{\"callback\":null},\"id\":\"16159\",\"type\":\"DataRange1d\"},{\"attributes\":{\"field\":\"angle\",\"include_zero\":true},\"id\":\"16178\",\"type\":\"CumSum\"},{\"attributes\":{},\"id\":\"16171\",\"type\":\"BasicTicker\"},{\"attributes\":{},\"id\":\"16777\",\"type\":\"Selection\"},{\"attributes\":{},\"id\":\"16187\",\"type\":\"BasicTickFormatter\"},{\"attributes\":{\"source\":{\"id\":\"16180\",\"type\":\"ColumnDataSource\"}},\"id\":\"16185\",\"type\":\"CDSView\"},{\"attributes\":{},\"id\":\"16189\",\"type\":\"BasicTickFormatter\"},{\"attributes\":{\"plot\":null,\"text\":\"Pie Chart\"},\"id\":\"16154\",\"type\":\"Title\"},{\"attributes\":{},\"id\":\"16776\",\"type\":\"UnionRenderers\"},{\"attributes\":{\"items\":[{\"id\":\"16192\",\"type\":\"LegendItem\"}],\"plot\":{\"id\":\"16155\",\"subtype\":\"Figure\",\"type\":\"Plot\"}},\"id\":\"16191\",\"type\":\"Legend\"}],\"root_ids\":[\"16155\"]},\"title\":\"Bokeh Application\",\"version\":\"1.0.1\"}};\n",
       "  var render_items = [{\"docid\":\"ea9b61f9-20b9-4e8b-8349-9ae07e42e195\",\"roots\":{\"16155\":\"2d626f59-b43a-4ba7-8c5e-ee0d1fa43698\"}}];\n",
       "  root.Bokeh.embed.embed_items_notebook(docs_json, render_items);\n",
       "\n",
       "  }\n",
       "  if (root.Bokeh !== undefined) {\n",
       "    embed_document(root);\n",
       "  } else {\n",
       "    var attempts = 0;\n",
       "    var timer = setInterval(function(root) {\n",
       "      if (root.Bokeh !== undefined) {\n",
       "        embed_document(root);\n",
       "        clearInterval(timer);\n",
       "      }\n",
       "      attempts++;\n",
       "      if (attempts > 100) {\n",
       "        console.log(\"Bokeh: ERROR: Unable to run BokehJS code because BokehJS library is missing\");\n",
       "        clearInterval(timer);\n",
       "      }\n",
       "    }, 10, root)\n",
       "  }\n",
       "})(window);"
      ],
      "application/vnd.bokehjs_exec.v0+json": ""
     },
     "metadata": {
      "application/vnd.bokehjs_exec.v0+json": {
       "id": "16155"
      }
     },
     "output_type": "display_data"
    }
   ],
   "source": [
    "sv.pie(petit)"
   ]
  },
  {
   "cell_type": "code",
   "execution_count": 100,
   "metadata": {},
   "outputs": [
    {
     "data": {
      "text/html": [
       "\n",
       "\n",
       "\n",
       "\n",
       "\n",
       "\n",
       "  <div class=\"bk-root\" id=\"ac8c32cf-f26e-49a3-a456-f8331d554522\"></div>\n"
      ]
     },
     "metadata": {},
     "output_type": "display_data"
    },
    {
     "data": {
      "application/javascript": [
       "(function(root) {\n",
       "  function embed_document(root) {\n",
       "    \n",
       "  var docs_json = {\"c94e0774-2084-4135-b05d-25339c49a8fa\":{\"roots\":{\"references\":[{\"attributes\":{\"below\":[{\"id\":\"16831\",\"type\":\"LinearAxis\"}],\"left\":[{\"id\":\"16836\",\"type\":\"LinearAxis\"}],\"plot_height\":500,\"renderers\":[{\"id\":\"16831\",\"type\":\"LinearAxis\"},{\"id\":\"16835\",\"type\":\"Grid\"},{\"id\":\"16836\",\"type\":\"LinearAxis\"},{\"id\":\"16840\",\"type\":\"Grid\"},{\"id\":\"16857\",\"type\":\"Legend\"},{\"id\":\"16850\",\"type\":\"GlyphRenderer\"}],\"title\":{\"id\":\"16820\",\"type\":\"Title\"},\"toolbar\":{\"id\":\"16842\",\"type\":\"Toolbar\"},\"toolbar_location\":null,\"x_range\":{\"id\":\"16823\",\"type\":\"Range1d\"},\"x_scale\":{\"id\":\"16827\",\"type\":\"LinearScale\"},\"y_range\":{\"id\":\"16825\",\"type\":\"DataRange1d\"},\"y_scale\":{\"id\":\"16829\",\"type\":\"LinearScale\"}},\"id\":\"16821\",\"subtype\":\"Figure\",\"type\":\"Plot\"},{\"attributes\":{\"callback\":null,\"renderers\":\"auto\",\"tooltips\":\"@candidat: @value\"},\"id\":\"16841\",\"type\":\"HoverTool\"},{\"attributes\":{},\"id\":\"16855\",\"type\":\"BasicTickFormatter\"},{\"attributes\":{\"callback\":null,\"start\":-0.5},\"id\":\"16823\",\"type\":\"Range1d\"},{\"attributes\":{},\"id\":\"16853\",\"type\":\"BasicTickFormatter\"},{\"attributes\":{\"field\":\"angle\",\"include_zero\":true},\"id\":\"16844\",\"type\":\"CumSum\"},{\"attributes\":{\"axis_label\":null,\"formatter\":{\"id\":\"16855\",\"type\":\"BasicTickFormatter\"},\"plot\":{\"id\":\"16821\",\"subtype\":\"Figure\",\"type\":\"Plot\"},\"ticker\":{\"id\":\"16837\",\"type\":\"BasicTicker\"},\"visible\":false},\"id\":\"16836\",\"type\":\"LinearAxis\"},{\"attributes\":{\"callback\":null,\"data\":{\"angle\":{\"__ndarray__\":\"75mZ4d2I+D+atyLe7U/iP8dBgR626/s/GpjOKhi65T/PMH1MVg78Pw==\",\"dtype\":\"float64\",\"shape\":[5]},\"candidat\":[\"Melenchon_1\",\"Hamon_1\",\"Fillon_1\",\"LePen_1\",\"Macron_1\"],\"color\":[\"#3182bd\",\"#6baed6\",\"#9ecae1\",\"#c6dbef\",\"#e6550d\"],\"index\":[0,1,2,3,4],\"value\":{\"__ndarray__\":\"EkdoYayexEC6gIOx0ceuQL7wAqgzd8dA04VDJ5dCskBALQ9xTZTHQA==\",\"dtype\":\"float64\",\"shape\":[5]}},\"selected\":{\"id\":\"17450\",\"type\":\"Selection\"},\"selection_policy\":{\"id\":\"17449\",\"type\":\"UnionRenderers\"}},\"id\":\"16846\",\"type\":\"ColumnDataSource\"},{\"attributes\":{\"items\":[{\"id\":\"16858\",\"type\":\"LegendItem\"}],\"plot\":{\"id\":\"16821\",\"subtype\":\"Figure\",\"type\":\"Plot\"}},\"id\":\"16857\",\"type\":\"Legend\"},{\"attributes\":{},\"id\":\"16827\",\"type\":\"LinearScale\"},{\"attributes\":{\"label\":{\"field\":\"candidat\"},\"renderers\":[{\"id\":\"16850\",\"type\":\"GlyphRenderer\"}]},\"id\":\"16858\",\"type\":\"LegendItem\"},{\"attributes\":{\"plot\":null,\"text\":\"Pie Chart\"},\"id\":\"16820\",\"type\":\"Title\"},{\"attributes\":{},\"id\":\"17450\",\"type\":\"Selection\"},{\"attributes\":{\"active_drag\":\"auto\",\"active_inspect\":\"auto\",\"active_multi\":null,\"active_scroll\":\"auto\",\"active_tap\":\"auto\",\"tools\":[{\"id\":\"16841\",\"type\":\"HoverTool\"}]},\"id\":\"16842\",\"type\":\"Toolbar\"},{\"attributes\":{\"field\":\"angle\"},\"id\":\"16845\",\"type\":\"CumSum\"},{\"attributes\":{\"axis_label\":null,\"formatter\":{\"id\":\"16853\",\"type\":\"BasicTickFormatter\"},\"plot\":{\"id\":\"16821\",\"subtype\":\"Figure\",\"type\":\"Plot\"},\"ticker\":{\"id\":\"16832\",\"type\":\"BasicTicker\"},\"visible\":false},\"id\":\"16831\",\"type\":\"LinearAxis\"},{\"attributes\":{\"end_angle\":{\"expr\":{\"id\":\"16845\",\"type\":\"CumSum\"},\"units\":\"rad\"},\"fill_color\":{\"field\":\"color\"},\"line_color\":{\"value\":\"white\"},\"radius\":{\"units\":\"data\",\"value\":0.4},\"start_angle\":{\"expr\":{\"id\":\"16844\",\"type\":\"CumSum\"},\"units\":\"rad\"},\"x\":{\"value\":0},\"y\":{\"value\":1}},\"id\":\"16848\",\"type\":\"Wedge\"},{\"attributes\":{\"grid_line_color\":{\"value\":null},\"plot\":{\"id\":\"16821\",\"subtype\":\"Figure\",\"type\":\"Plot\"},\"ticker\":{\"id\":\"16832\",\"type\":\"BasicTicker\"}},\"id\":\"16835\",\"type\":\"Grid\"},{\"attributes\":{},\"id\":\"16837\",\"type\":\"BasicTicker\"},{\"attributes\":{\"end_angle\":{\"expr\":{\"id\":\"16845\",\"type\":\"CumSum\"},\"units\":\"rad\"},\"fill_alpha\":{\"value\":0.1},\"fill_color\":{\"value\":\"#1f77b4\"},\"line_alpha\":{\"value\":0.1},\"line_color\":{\"value\":\"#1f77b4\"},\"radius\":{\"units\":\"data\",\"value\":0.4},\"start_angle\":{\"expr\":{\"id\":\"16844\",\"type\":\"CumSum\"},\"units\":\"rad\"},\"x\":{\"value\":0},\"y\":{\"value\":1}},\"id\":\"16849\",\"type\":\"Wedge\"},{\"attributes\":{},\"id\":\"16832\",\"type\":\"BasicTicker\"},{\"attributes\":{},\"id\":\"17449\",\"type\":\"UnionRenderers\"},{\"attributes\":{\"callback\":null},\"id\":\"16825\",\"type\":\"DataRange1d\"},{\"attributes\":{\"source\":{\"id\":\"16846\",\"type\":\"ColumnDataSource\"}},\"id\":\"16851\",\"type\":\"CDSView\"},{\"attributes\":{\"dimension\":1,\"grid_line_color\":{\"value\":null},\"plot\":{\"id\":\"16821\",\"subtype\":\"Figure\",\"type\":\"Plot\"},\"ticker\":{\"id\":\"16837\",\"type\":\"BasicTicker\"}},\"id\":\"16840\",\"type\":\"Grid\"},{\"attributes\":{},\"id\":\"16829\",\"type\":\"LinearScale\"},{\"attributes\":{\"data_source\":{\"id\":\"16846\",\"type\":\"ColumnDataSource\"},\"glyph\":{\"id\":\"16848\",\"type\":\"Wedge\"},\"hover_glyph\":null,\"muted_glyph\":null,\"nonselection_glyph\":{\"id\":\"16849\",\"type\":\"Wedge\"},\"selection_glyph\":null,\"view\":{\"id\":\"16851\",\"type\":\"CDSView\"}},\"id\":\"16850\",\"type\":\"GlyphRenderer\"}],\"root_ids\":[\"16821\"]},\"title\":\"Bokeh Application\",\"version\":\"1.0.1\"}};\n",
       "  var render_items = [{\"docid\":\"c94e0774-2084-4135-b05d-25339c49a8fa\",\"roots\":{\"16821\":\"ac8c32cf-f26e-49a3-a456-f8331d554522\"}}];\n",
       "  root.Bokeh.embed.embed_items_notebook(docs_json, render_items);\n",
       "\n",
       "  }\n",
       "  if (root.Bokeh !== undefined) {\n",
       "    embed_document(root);\n",
       "  } else {\n",
       "    var attempts = 0;\n",
       "    var timer = setInterval(function(root) {\n",
       "      if (root.Bokeh !== undefined) {\n",
       "        embed_document(root);\n",
       "        clearInterval(timer);\n",
       "      }\n",
       "      attempts++;\n",
       "      if (attempts > 100) {\n",
       "        console.log(\"Bokeh: ERROR: Unable to run BokehJS code because BokehJS library is missing\");\n",
       "        clearInterval(timer);\n",
       "      }\n",
       "    }, 10, root)\n",
       "  }\n",
       "})(window);"
      ],
      "application/vnd.bokehjs_exec.v0+json": ""
     },
     "metadata": {
      "application/vnd.bokehjs_exec.v0+json": {
       "id": "16821"
      }
     },
     "output_type": "display_data"
    }
   ],
   "source": [
    "sv.pie(grand)"
   ]
  },
  {
   "cell_type": "code",
   "execution_count": 101,
   "metadata": {},
   "outputs": [],
   "source": [
    "def axis_day(day):\n",
    "    x = [dt.datetime.strptime(d,'%Y-%m-%d').date() for d in day]\n",
    "    return(x)\n",
    "\n",
    "def popularity_plot(list):\n",
    "    p = figure(plot_width=600, plot_height=600, title=\"My Line Plot\",x_axis_type=\"datetime\")\n",
    "    c=0\n",
    "    color=['#3C69E7','#84DE02','#FF0800','#9400D3', '#FFAA1D','black']\n",
    "    for i in list:\n",
    "        str_i=i\n",
    "        i=eval(i)\n",
    "        it=i.groupby('day', as_index=False).mean()\n",
    "        n=i.groupby('day', as_index=False).count()['index']\n",
    "        it['popularity']=it['polarity']*it['subjectivity']*n\n",
    "        p.line(axis_day(it['day']), it['popularity'], line_width=2, color=color[c],legend=str_i, muted_color='grey', muted_alpha=0.2)\n",
    "        c=c+1\n",
    "    p.legend.location = \"top_left\"\n",
    "    p.legend.click_policy=\"mute\"  \n",
    "    p.yaxis[0].formatter = NumeralTickFormatter(format=\"0.0000\")\n",
    "    show(p)\n"
   ]
  },
  {
   "cell_type": "code",
   "execution_count": 107,
   "metadata": {
    "scrolled": false
   },
   "outputs": [
    {
     "data": {
      "text/html": [
       "\n",
       "\n",
       "\n",
       "\n",
       "\n",
       "\n",
       "  <div class=\"bk-root\" id=\"9f787562-e881-4b57-b798-f37034c33948\"></div>\n"
      ]
     },
     "metadata": {},
     "output_type": "display_data"
    },
    {
     "data": {
      "application/javascript": [
       "(function(root) {\n",
       "  function embed_document(root) {\n",
       "    \n",
       "  var docs_json = {\"e4e8e421-b7d1-40be-a9d4-3243ee771301\":{\"roots\":{\"references\":[{\"attributes\":{\"below\":[{\"id\":\"20936\",\"type\":\"DatetimeAxis\"}],\"left\":[{\"id\":\"20941\",\"type\":\"LinearAxis\"}],\"renderers\":[{\"id\":\"20936\",\"type\":\"DatetimeAxis\"},{\"id\":\"20940\",\"type\":\"Grid\"},{\"id\":\"20941\",\"type\":\"LinearAxis\"},{\"id\":\"20945\",\"type\":\"Grid\"},{\"id\":\"20954\",\"type\":\"BoxAnnotation\"},{\"id\":\"20985\",\"type\":\"Legend\"},{\"id\":\"20965\",\"type\":\"GlyphRenderer\"},{\"id\":\"20991\",\"type\":\"GlyphRenderer\"},{\"id\":\"21018\",\"type\":\"GlyphRenderer\"},{\"id\":\"21047\",\"type\":\"GlyphRenderer\"},{\"id\":\"21078\",\"type\":\"GlyphRenderer\"}],\"title\":{\"id\":\"20925\",\"type\":\"Title\"},\"toolbar\":{\"id\":\"20952\",\"type\":\"Toolbar\"},\"x_range\":{\"id\":\"20928\",\"type\":\"DataRange1d\"},\"x_scale\":{\"id\":\"20932\",\"type\":\"LinearScale\"},\"y_range\":{\"id\":\"20930\",\"type\":\"DataRange1d\"},\"y_scale\":{\"id\":\"20934\",\"type\":\"LinearScale\"}},\"id\":\"20926\",\"subtype\":\"Figure\",\"type\":\"Plot\"},{\"attributes\":{\"bottom_units\":\"screen\",\"fill_alpha\":{\"value\":0.5},\"fill_color\":{\"value\":\"lightgrey\"},\"left_units\":\"screen\",\"level\":\"overlay\",\"line_alpha\":{\"value\":1.0},\"line_color\":{\"value\":\"black\"},\"line_dash\":[4,4],\"line_width\":{\"value\":2},\"plot\":null,\"render_mode\":\"css\",\"right_units\":\"screen\",\"top_units\":\"screen\"},\"id\":\"20954\",\"type\":\"BoxAnnotation\"},{\"attributes\":{},\"id\":\"21071\",\"type\":\"UnionRenderers\"},{\"attributes\":{\"line_color\":\"#9400D3\",\"line_width\":2,\"x\":{\"field\":\"x\"},\"y\":{\"field\":\"y\"}},\"id\":\"21044\",\"type\":\"Line\"},{\"attributes\":{\"line_alpha\":0.2,\"line_color\":\"grey\",\"line_width\":2,\"x\":{\"field\":\"x\"},\"y\":{\"field\":\"y\"}},\"id\":\"21077\",\"type\":\"Line\"},{\"attributes\":{},\"id\":\"21012\",\"type\":\"Selection\"},{\"attributes\":{},\"id\":\"20934\",\"type\":\"LinearScale\"},{\"attributes\":{\"days\":[1,8,15,22]},\"id\":\"20978\",\"type\":\"DaysTicker\"},{\"attributes\":{\"label\":{\"value\":\"Fillon_1\"},\"renderers\":[{\"id\":\"20991\",\"type\":\"GlyphRenderer\"}]},\"id\":\"21013\",\"type\":\"LegendItem\"},{\"attributes\":{\"days\":[1,15]},\"id\":\"20979\",\"type\":\"DaysTicker\"},{\"attributes\":{\"formatter\":{\"id\":\"20968\",\"type\":\"DatetimeTickFormatter\"},\"plot\":{\"id\":\"20926\",\"subtype\":\"Figure\",\"type\":\"Plot\"},\"ticker\":{\"id\":\"20937\",\"type\":\"DatetimeTicker\"}},\"id\":\"20936\",\"type\":\"DatetimeAxis\"},{\"attributes\":{\"months\":[0,1,2,3,4,5,6,7,8,9,10,11]},\"id\":\"20980\",\"type\":\"MonthsTicker\"},{\"attributes\":{\"data_source\":{\"id\":\"20961\",\"type\":\"ColumnDataSource\"},\"glyph\":{\"id\":\"20962\",\"type\":\"Line\"},\"hover_glyph\":null,\"muted_glyph\":{\"id\":\"20964\",\"type\":\"Line\"},\"nonselection_glyph\":{\"id\":\"20963\",\"type\":\"Line\"},\"selection_glyph\":null,\"view\":{\"id\":\"20966\",\"type\":\"CDSView\"}},\"id\":\"20965\",\"type\":\"GlyphRenderer\"},{\"attributes\":{\"source\":{\"id\":\"20987\",\"type\":\"ColumnDataSource\"}},\"id\":\"20992\",\"type\":\"CDSView\"},{\"attributes\":{\"num_minor_ticks\":5,\"tickers\":[{\"id\":\"20973\",\"type\":\"AdaptiveTicker\"},{\"id\":\"20974\",\"type\":\"AdaptiveTicker\"},{\"id\":\"20975\",\"type\":\"AdaptiveTicker\"},{\"id\":\"20976\",\"type\":\"DaysTicker\"},{\"id\":\"20977\",\"type\":\"DaysTicker\"},{\"id\":\"20978\",\"type\":\"DaysTicker\"},{\"id\":\"20979\",\"type\":\"DaysTicker\"},{\"id\":\"20980\",\"type\":\"MonthsTicker\"},{\"id\":\"20981\",\"type\":\"MonthsTicker\"},{\"id\":\"20982\",\"type\":\"MonthsTicker\"},{\"id\":\"20983\",\"type\":\"MonthsTicker\"},{\"id\":\"20984\",\"type\":\"YearsTicker\"}]},\"id\":\"20937\",\"type\":\"DatetimeTicker\"},{\"attributes\":{\"line_alpha\":0.1,\"line_color\":\"#1f77b4\",\"line_width\":2,\"x\":{\"field\":\"x\"},\"y\":{\"field\":\"y\"}},\"id\":\"21076\",\"type\":\"Line\"},{\"attributes\":{\"callback\":null,\"data\":{\"x\":[1491696000000.0,1491782400000.0,1491868800000.0,1491955200000.0,1492041600000.0,1492128000000.0,1492214400000.0,1492387200000.0,1492473600000.0,1492732800000.0,1492819200000.0,1492905600000.0],\"y\":{\"__ndarray__\":\"0RG/nQDEPUAfegiW0cA2QM4ux6aQWzdAgpwBVLbaQEBnCl7affcwQNvw4hCBMjFAevXDIdzvM0Dv2+2YTJk1QP5y+pxr5UhAeb/GjqfcR0DuTuIrXN1AQPBEH/orX0ZA\",\"dtype\":\"float64\",\"shape\":[12]}},\"selected\":{\"id\":\"21012\",\"type\":\"Selection\"},\"selection_policy\":{\"id\":\"21011\",\"type\":\"UnionRenderers\"}},\"id\":\"20961\",\"type\":\"ColumnDataSource\"},{\"attributes\":{\"source\":{\"id\":\"20961\",\"type\":\"ColumnDataSource\"}},\"id\":\"20966\",\"type\":\"CDSView\"},{\"attributes\":{\"line_alpha\":0.1,\"line_color\":\"#1f77b4\",\"line_width\":2,\"x\":{\"field\":\"x\"},\"y\":{\"field\":\"y\"}},\"id\":\"20963\",\"type\":\"Line\"},{\"attributes\":{\"line_alpha\":0.2,\"line_color\":\"grey\",\"line_width\":2,\"x\":{\"field\":\"x\"},\"y\":{\"field\":\"y\"}},\"id\":\"20964\",\"type\":\"Line\"},{\"attributes\":{\"line_color\":\"#3C69E7\",\"line_width\":2,\"x\":{\"field\":\"x\"},\"y\":{\"field\":\"y\"}},\"id\":\"20962\",\"type\":\"Line\"},{\"attributes\":{\"line_alpha\":0.1,\"line_color\":\"#1f77b4\",\"line_width\":2,\"x\":{\"field\":\"x\"},\"y\":{\"field\":\"y\"}},\"id\":\"20989\",\"type\":\"Line\"},{\"attributes\":{\"base\":60,\"mantissas\":[1,2,5,10,15,20,30],\"max_interval\":1800000.0,\"min_interval\":1000.0,\"num_minor_ticks\":0},\"id\":\"20974\",\"type\":\"AdaptiveTicker\"},{\"attributes\":{\"data_source\":{\"id\":\"20987\",\"type\":\"ColumnDataSource\"},\"glyph\":{\"id\":\"20988\",\"type\":\"Line\"},\"hover_glyph\":null,\"muted_glyph\":{\"id\":\"20990\",\"type\":\"Line\"},\"nonselection_glyph\":{\"id\":\"20989\",\"type\":\"Line\"},\"selection_glyph\":null,\"view\":{\"id\":\"20992\",\"type\":\"CDSView\"}},\"id\":\"20991\",\"type\":\"GlyphRenderer\"},{\"attributes\":{\"dimension\":1,\"plot\":{\"id\":\"20926\",\"subtype\":\"Figure\",\"type\":\"Plot\"},\"ticker\":{\"id\":\"20942\",\"type\":\"BasicTicker\"}},\"id\":\"20945\",\"type\":\"Grid\"},{\"attributes\":{\"click_policy\":\"mute\",\"items\":[{\"id\":\"20986\",\"type\":\"LegendItem\"},{\"id\":\"21013\",\"type\":\"LegendItem\"},{\"id\":\"21042\",\"type\":\"LegendItem\"},{\"id\":\"21073\",\"type\":\"LegendItem\"},{\"id\":\"21106\",\"type\":\"LegendItem\"}],\"location\":\"top_left\",\"plot\":{\"id\":\"20926\",\"subtype\":\"Figure\",\"type\":\"Plot\"}},\"id\":\"20985\",\"type\":\"Legend\"},{\"attributes\":{},\"id\":\"20950\",\"type\":\"ResetTool\"},{\"attributes\":{},\"id\":\"21795\",\"type\":\"Selection\"},{\"attributes\":{},\"id\":\"20984\",\"type\":\"YearsTicker\"},{\"attributes\":{\"line_color\":\"#FFAA1D\",\"line_width\":2,\"x\":{\"field\":\"x\"},\"y\":{\"field\":\"y\"}},\"id\":\"21075\",\"type\":\"Line\"},{\"attributes\":{},\"id\":\"20947\",\"type\":\"WheelZoomTool\"},{\"attributes\":{},\"id\":\"20942\",\"type\":\"BasicTicker\"},{\"attributes\":{\"months\":[0,2,4,6,8,10]},\"id\":\"20981\",\"type\":\"MonthsTicker\"},{\"attributes\":{\"months\":[0,6]},\"id\":\"20983\",\"type\":\"MonthsTicker\"},{\"attributes\":{},\"id\":\"20949\",\"type\":\"SaveTool\"},{\"attributes\":{},\"id\":\"20968\",\"type\":\"DatetimeTickFormatter\"},{\"attributes\":{\"format\":\"0.0000\"},\"id\":\"21107\",\"type\":\"NumeralTickFormatter\"},{\"attributes\":{\"line_alpha\":0.2,\"line_color\":\"grey\",\"line_width\":2,\"x\":{\"field\":\"x\"},\"y\":{\"field\":\"y\"}},\"id\":\"21017\",\"type\":\"Line\"},{\"attributes\":{},\"id\":\"21041\",\"type\":\"Selection\"},{\"attributes\":{\"label\":{\"value\":\"Hamon_1\"},\"renderers\":[{\"id\":\"20965\",\"type\":\"GlyphRenderer\"}]},\"id\":\"20986\",\"type\":\"LegendItem\"},{\"attributes\":{},\"id\":\"21794\",\"type\":\"UnionRenderers\"},{\"attributes\":{\"overlay\":{\"id\":\"20954\",\"type\":\"BoxAnnotation\"}},\"id\":\"20948\",\"type\":\"BoxZoomTool\"},{\"attributes\":{\"line_alpha\":0.1,\"line_color\":\"#1f77b4\",\"line_width\":2,\"x\":{\"field\":\"x\"},\"y\":{\"field\":\"y\"}},\"id\":\"21045\",\"type\":\"Line\"},{\"attributes\":{\"callback\":null,\"data\":{\"x\":[1491696000000.0,1491782400000.0,1491868800000.0,1491955200000.0,1492041600000.0,1492128000000.0,1492214400000.0,1492387200000.0,1492473600000.0,1492732800000.0,1492819200000.0,1492905600000.0],\"y\":{\"__ndarray__\":\"Ki4PnDJAYEBmRog2Ey5QQKrESunP/05AHJVEeCIUXEBmJK8osndNQHeKrvSrD05AVAzHrXjVRkCD+zb0VUBIQOQLhB9nzllAoAwlwMnVUkC6635v3bBMQNIRNGZSNlNA\",\"dtype\":\"float64\",\"shape\":[12]}},\"selected\":{\"id\":\"21072\",\"type\":\"Selection\"},\"selection_policy\":{\"id\":\"21071\",\"type\":\"UnionRenderers\"}},\"id\":\"21014\",\"type\":\"ColumnDataSource\"},{\"attributes\":{\"source\":{\"id\":\"21074\",\"type\":\"ColumnDataSource\"}},\"id\":\"21079\",\"type\":\"CDSView\"},{\"attributes\":{\"data_source\":{\"id\":\"21074\",\"type\":\"ColumnDataSource\"},\"glyph\":{\"id\":\"21075\",\"type\":\"Line\"},\"hover_glyph\":null,\"muted_glyph\":{\"id\":\"21077\",\"type\":\"Line\"},\"nonselection_glyph\":{\"id\":\"21076\",\"type\":\"Line\"},\"selection_glyph\":null,\"view\":{\"id\":\"21079\",\"type\":\"CDSView\"}},\"id\":\"21078\",\"type\":\"GlyphRenderer\"},{\"attributes\":{\"callback\":null,\"data\":{\"x\":[1491696000000.0,1491782400000.0,1491868800000.0,1491955200000.0,1492041600000.0,1492128000000.0,1492214400000.0,1492387200000.0,1492473600000.0,1492732800000.0,1492819200000.0,1492905600000.0],\"y\":{\"__ndarray__\":\"QHEqHLADUUASnHwrzsRKQGK6BmsKx0xAGXoHcZJdVkCwRfwUPdxSQA+ycjZvuFBAgqK6AMCrUkCD8EAmjylnQNV9S4o/t1JA+tzlh1SpV0CP5GmIkf9LQC2dVMlM8VhA\",\"dtype\":\"float64\",\"shape\":[12]}},\"selected\":{\"id\":\"21105\",\"type\":\"Selection\"},\"selection_policy\":{\"id\":\"21104\",\"type\":\"UnionRenderers\"}},\"id\":\"21043\",\"type\":\"ColumnDataSource\"},{\"attributes\":{\"callback\":null,\"data\":{\"x\":[1491696000000.0,1491782400000.0,1491868800000.0,1491955200000.0,1492041600000.0,1492128000000.0,1492214400000.0,1492387200000.0,1492473600000.0,1492732800000.0,1492819200000.0,1492905600000.0],\"y\":{\"__ndarray__\":\"5zllkrJ6L0CdnlsKu64wQOuNr0AXMzpAPXgvIovGK0AUr+1KqkcpQIiVT+RXLjRA3A833Z5dLUBoUESGiOk6QLLJBH2010JA4g8ky9isQ0AlZmp9/y1CQCadHuAOFlRA\",\"dtype\":\"float64\",\"shape\":[12]}},\"selected\":{\"id\":\"21795\",\"type\":\"Selection\"},\"selection_policy\":{\"id\":\"21794\",\"type\":\"UnionRenderers\"}},\"id\":\"21074\",\"type\":\"ColumnDataSource\"},{\"attributes\":{\"mantissas\":[1,2,5],\"max_interval\":500.0,\"num_minor_ticks\":0},\"id\":\"20973\",\"type\":\"AdaptiveTicker\"},{\"attributes\":{},\"id\":\"21104\",\"type\":\"UnionRenderers\"},{\"attributes\":{\"callback\":null,\"data\":{\"x\":[1491696000000.0,1491782400000.0,1491868800000.0,1491955200000.0,1492041600000.0,1492128000000.0,1492214400000.0,1492387200000.0,1492473600000.0,1492732800000.0,1492819200000.0,1492905600000.0],\"y\":{\"__ndarray__\":\"5+33GDofX0DiGI9TtUFNQEeCR5o3q1NA4I2NdOwrTECkLny/CQpRQHVkpAzA2lZAQJijLh8WYEDYyz1ZITVWQF4w5vQCeFpAgCUUNTkAUUAVSOYUSm5MQJXa4CNqnlRA\",\"dtype\":\"float64\",\"shape\":[12]}},\"selected\":{\"id\":\"21041\",\"type\":\"Selection\"},\"selection_policy\":{\"id\":\"21040\",\"type\":\"UnionRenderers\"}},\"id\":\"20987\",\"type\":\"ColumnDataSource\"},{\"attributes\":{\"active_drag\":\"auto\",\"active_inspect\":\"auto\",\"active_multi\":null,\"active_scroll\":\"auto\",\"active_tap\":\"auto\",\"tools\":[{\"id\":\"20946\",\"type\":\"PanTool\"},{\"id\":\"20947\",\"type\":\"WheelZoomTool\"},{\"id\":\"20948\",\"type\":\"BoxZoomTool\"},{\"id\":\"20949\",\"type\":\"SaveTool\"},{\"id\":\"20950\",\"type\":\"ResetTool\"},{\"id\":\"20951\",\"type\":\"HelpTool\"}]},\"id\":\"20952\",\"type\":\"Toolbar\"},{\"attributes\":{},\"id\":\"20946\",\"type\":\"PanTool\"},{\"attributes\":{},\"id\":\"21011\",\"type\":\"UnionRenderers\"},{\"attributes\":{\"data_source\":{\"id\":\"21043\",\"type\":\"ColumnDataSource\"},\"glyph\":{\"id\":\"21044\",\"type\":\"Line\"},\"hover_glyph\":null,\"muted_glyph\":{\"id\":\"21046\",\"type\":\"Line\"},\"nonselection_glyph\":{\"id\":\"21045\",\"type\":\"Line\"},\"selection_glyph\":null,\"view\":{\"id\":\"21048\",\"type\":\"CDSView\"}},\"id\":\"21047\",\"type\":\"GlyphRenderer\"},{\"attributes\":{\"label\":{\"value\":\"Melenchon_1\"},\"renderers\":[{\"id\":\"21018\",\"type\":\"GlyphRenderer\"}]},\"id\":\"21042\",\"type\":\"LegendItem\"},{\"attributes\":{\"months\":[0,4,8]},\"id\":\"20982\",\"type\":\"MonthsTicker\"},{\"attributes\":{\"label\":{\"value\":\"Macron_1\"},\"renderers\":[{\"id\":\"21047\",\"type\":\"GlyphRenderer\"}]},\"id\":\"21073\",\"type\":\"LegendItem\"},{\"attributes\":{\"source\":{\"id\":\"21043\",\"type\":\"ColumnDataSource\"}},\"id\":\"21048\",\"type\":\"CDSView\"},{\"attributes\":{\"source\":{\"id\":\"21014\",\"type\":\"ColumnDataSource\"}},\"id\":\"21019\",\"type\":\"CDSView\"},{\"attributes\":{\"data_source\":{\"id\":\"21014\",\"type\":\"ColumnDataSource\"},\"glyph\":{\"id\":\"21015\",\"type\":\"Line\"},\"hover_glyph\":null,\"muted_glyph\":{\"id\":\"21017\",\"type\":\"Line\"},\"nonselection_glyph\":{\"id\":\"21016\",\"type\":\"Line\"},\"selection_glyph\":null,\"view\":{\"id\":\"21019\",\"type\":\"CDSView\"}},\"id\":\"21018\",\"type\":\"GlyphRenderer\"},{\"attributes\":{\"days\":[1,4,7,10,13,16,19,22,25,28]},\"id\":\"20977\",\"type\":\"DaysTicker\"},{\"attributes\":{},\"id\":\"21072\",\"type\":\"Selection\"},{\"attributes\":{\"formatter\":{\"id\":\"21107\",\"type\":\"NumeralTickFormatter\"},\"plot\":{\"id\":\"20926\",\"subtype\":\"Figure\",\"type\":\"Plot\"},\"ticker\":{\"id\":\"20942\",\"type\":\"BasicTicker\"}},\"id\":\"20941\",\"type\":\"LinearAxis\"},{\"attributes\":{\"label\":{\"value\":\"LePen_1\"},\"renderers\":[{\"id\":\"21078\",\"type\":\"GlyphRenderer\"}]},\"id\":\"21106\",\"type\":\"LegendItem\"},{\"attributes\":{\"line_alpha\":0.2,\"line_color\":\"grey\",\"line_width\":2,\"x\":{\"field\":\"x\"},\"y\":{\"field\":\"y\"}},\"id\":\"20990\",\"type\":\"Line\"},{\"attributes\":{\"plot\":null,\"text\":\"My Line Plot\"},\"id\":\"20925\",\"type\":\"Title\"},{\"attributes\":{},\"id\":\"21040\",\"type\":\"UnionRenderers\"},{\"attributes\":{\"callback\":null},\"id\":\"20930\",\"type\":\"DataRange1d\"},{\"attributes\":{\"line_color\":\"#FF0800\",\"line_width\":2,\"x\":{\"field\":\"x\"},\"y\":{\"field\":\"y\"}},\"id\":\"21015\",\"type\":\"Line\"},{\"attributes\":{\"callback\":null},\"id\":\"20928\",\"type\":\"DataRange1d\"},{\"attributes\":{\"line_color\":\"#84DE02\",\"line_width\":2,\"x\":{\"field\":\"x\"},\"y\":{\"field\":\"y\"}},\"id\":\"20988\",\"type\":\"Line\"},{\"attributes\":{\"line_alpha\":0.2,\"line_color\":\"grey\",\"line_width\":2,\"x\":{\"field\":\"x\"},\"y\":{\"field\":\"y\"}},\"id\":\"21046\",\"type\":\"Line\"},{\"attributes\":{\"base\":24,\"mantissas\":[1,2,4,6,8,12],\"max_interval\":43200000.0,\"min_interval\":3600000.0,\"num_minor_ticks\":0},\"id\":\"20975\",\"type\":\"AdaptiveTicker\"},{\"attributes\":{},\"id\":\"21105\",\"type\":\"Selection\"},{\"attributes\":{},\"id\":\"20951\",\"type\":\"HelpTool\"},{\"attributes\":{\"plot\":{\"id\":\"20926\",\"subtype\":\"Figure\",\"type\":\"Plot\"},\"ticker\":{\"id\":\"20937\",\"type\":\"DatetimeTicker\"}},\"id\":\"20940\",\"type\":\"Grid\"},{\"attributes\":{\"line_alpha\":0.1,\"line_color\":\"#1f77b4\",\"line_width\":2,\"x\":{\"field\":\"x\"},\"y\":{\"field\":\"y\"}},\"id\":\"21016\",\"type\":\"Line\"},{\"attributes\":{\"days\":[1,2,3,4,5,6,7,8,9,10,11,12,13,14,15,16,17,18,19,20,21,22,23,24,25,26,27,28,29,30,31]},\"id\":\"20976\",\"type\":\"DaysTicker\"},{\"attributes\":{},\"id\":\"20932\",\"type\":\"LinearScale\"}],\"root_ids\":[\"20926\"]},\"title\":\"Bokeh Application\",\"version\":\"1.0.1\"}};\n",
       "  var render_items = [{\"docid\":\"e4e8e421-b7d1-40be-a9d4-3243ee771301\",\"roots\":{\"20926\":\"9f787562-e881-4b57-b798-f37034c33948\"}}];\n",
       "  root.Bokeh.embed.embed_items_notebook(docs_json, render_items);\n",
       "\n",
       "  }\n",
       "  if (root.Bokeh !== undefined) {\n",
       "    embed_document(root);\n",
       "  } else {\n",
       "    var attempts = 0;\n",
       "    var timer = setInterval(function(root) {\n",
       "      if (root.Bokeh !== undefined) {\n",
       "        embed_document(root);\n",
       "        clearInterval(timer);\n",
       "      }\n",
       "      attempts++;\n",
       "      if (attempts > 100) {\n",
       "        console.log(\"Bokeh: ERROR: Unable to run BokehJS code because BokehJS library is missing\");\n",
       "        clearInterval(timer);\n",
       "      }\n",
       "    }, 10, root)\n",
       "  }\n",
       "})(window);"
      ],
      "application/vnd.bokehjs_exec.v0+json": ""
     },
     "metadata": {
      "application/vnd.bokehjs_exec.v0+json": {
       "id": "20926"
      }
     },
     "output_type": "display_data"
    }
   ],
   "source": [
    "popularity_plot(grand_df)"
   ]
  },
  {
   "cell_type": "code",
   "execution_count": 108,
   "metadata": {},
   "outputs": [
    {
     "data": {
      "text/html": [
       "\n",
       "\n",
       "\n",
       "\n",
       "\n",
       "\n",
       "  <div class=\"bk-root\" id=\"1514eb2a-f857-4fd2-b1fb-ce5397f68e4a\"></div>\n"
      ]
     },
     "metadata": {},
     "output_type": "display_data"
    },
    {
     "data": {
      "application/javascript": [
       "(function(root) {\n",
       "  function embed_document(root) {\n",
       "    \n",
       "  var docs_json = {\"cdaedde5-d44e-4375-9797-2daaa5d78103\":{\"roots\":{\"references\":[{\"attributes\":{\"below\":[{\"id\":\"21969\",\"type\":\"DatetimeAxis\"}],\"left\":[{\"id\":\"21974\",\"type\":\"LinearAxis\"}],\"renderers\":[{\"id\":\"21969\",\"type\":\"DatetimeAxis\"},{\"id\":\"21973\",\"type\":\"Grid\"},{\"id\":\"21974\",\"type\":\"LinearAxis\"},{\"id\":\"21978\",\"type\":\"Grid\"},{\"id\":\"21987\",\"type\":\"BoxAnnotation\"},{\"id\":\"22018\",\"type\":\"Legend\"},{\"id\":\"21998\",\"type\":\"GlyphRenderer\"},{\"id\":\"22024\",\"type\":\"GlyphRenderer\"},{\"id\":\"22051\",\"type\":\"GlyphRenderer\"},{\"id\":\"22080\",\"type\":\"GlyphRenderer\"},{\"id\":\"22111\",\"type\":\"GlyphRenderer\"}],\"title\":{\"id\":\"21958\",\"type\":\"Title\"},\"toolbar\":{\"id\":\"21985\",\"type\":\"Toolbar\"},\"x_range\":{\"id\":\"21961\",\"type\":\"DataRange1d\"},\"x_scale\":{\"id\":\"21965\",\"type\":\"LinearScale\"},\"y_range\":{\"id\":\"21963\",\"type\":\"DataRange1d\"},\"y_scale\":{\"id\":\"21967\",\"type\":\"LinearScale\"}},\"id\":\"21959\",\"subtype\":\"Figure\",\"type\":\"Plot\"},{\"attributes\":{},\"id\":\"21979\",\"type\":\"PanTool\"},{\"attributes\":{\"days\":[1,15]},\"id\":\"22012\",\"type\":\"DaysTicker\"},{\"attributes\":{\"overlay\":{\"id\":\"21987\",\"type\":\"BoxAnnotation\"}},\"id\":\"21981\",\"type\":\"BoxZoomTool\"},{\"attributes\":{\"bottom_units\":\"screen\",\"fill_alpha\":{\"value\":0.5},\"fill_color\":{\"value\":\"lightgrey\"},\"left_units\":\"screen\",\"level\":\"overlay\",\"line_alpha\":{\"value\":1.0},\"line_color\":{\"value\":\"black\"},\"line_dash\":[4,4],\"line_width\":{\"value\":2},\"plot\":null,\"render_mode\":\"css\",\"right_units\":\"screen\",\"top_units\":\"screen\"},\"id\":\"21987\",\"type\":\"BoxAnnotation\"},{\"attributes\":{},\"id\":\"21980\",\"type\":\"WheelZoomTool\"},{\"attributes\":{\"label\":{\"value\":\"Poutou_1\"},\"renderers\":[{\"id\":\"22080\",\"type\":\"GlyphRenderer\"}]},\"id\":\"22106\",\"type\":\"LegendItem\"},{\"attributes\":{\"label\":{\"value\":\"Cheminade_1\"},\"renderers\":[{\"id\":\"22024\",\"type\":\"GlyphRenderer\"}]},\"id\":\"22046\",\"type\":\"LegendItem\"},{\"attributes\":{},\"id\":\"22045\",\"type\":\"Selection\"},{\"attributes\":{\"data_source\":{\"id\":\"22020\",\"type\":\"ColumnDataSource\"},\"glyph\":{\"id\":\"22021\",\"type\":\"Line\"},\"hover_glyph\":null,\"muted_glyph\":{\"id\":\"22023\",\"type\":\"Line\"},\"nonselection_glyph\":{\"id\":\"22022\",\"type\":\"Line\"},\"selection_glyph\":null,\"view\":{\"id\":\"22025\",\"type\":\"CDSView\"}},\"id\":\"22024\",\"type\":\"GlyphRenderer\"},{\"attributes\":{\"source\":{\"id\":\"21994\",\"type\":\"ColumnDataSource\"}},\"id\":\"21999\",\"type\":\"CDSView\"},{\"attributes\":{\"line_alpha\":0.2,\"line_color\":\"grey\",\"line_width\":2,\"x\":{\"field\":\"x\"},\"y\":{\"field\":\"y\"}},\"id\":\"22023\",\"type\":\"Line\"},{\"attributes\":{\"callback\":null,\"data\":{\"x\":[1491696000000.0,1491782400000.0,1491868800000.0,1491955200000.0,1492041600000.0,1492128000000.0,1492214400000.0,1492387200000.0,1492473600000.0,1492732800000.0,1492819200000.0,1492905600000.0],\"y\":{\"__ndarray__\":\"QIEoNqoE3j+nyoez7uTnP1+3Rgn/Kdc/0Sd90ueR2D8CqTwxxFfrP/xVlOqLi9U/UPTiudRlxz+tSBBfxILFP3akwZxvYeE/9ZFPyoSW1z9nCp3X2IXYPxNqTfOOU+g/\",\"dtype\":\"float64\",\"shape\":[12]}},\"selected\":{\"id\":\"22105\",\"type\":\"Selection\"},\"selection_policy\":{\"id\":\"22104\",\"type\":\"UnionRenderers\"}},\"id\":\"22047\",\"type\":\"ColumnDataSource\"},{\"attributes\":{},\"id\":\"22105\",\"type\":\"Selection\"},{\"attributes\":{\"source\":{\"id\":\"22076\",\"type\":\"ColumnDataSource\"}},\"id\":\"22081\",\"type\":\"CDSView\"},{\"attributes\":{\"callback\":null,\"data\":{\"x\":[1491696000000.0,1491782400000.0,1491868800000.0,1491955200000.0,1492041600000.0,1492128000000.0,1492214400000.0,1492387200000.0,1492473600000.0,1492732800000.0,1492819200000.0,1492905600000.0],\"y\":{\"__ndarray__\":\"IqWxRmQKoT9zqoZWPWfVP6RquR5das8/65iLqsKgUT+iRbbz/RS6P6A55d15WcU/+NzogYV09j96XCK1FEF6Py0vWfn7pdE/Ic0V0lyB1T+Ykz0vArDMPxKqm9XtjEA/\",\"dtype\":\"float64\",\"shape\":[12]}},\"selected\":{\"id\":\"22074\",\"type\":\"Selection\"},\"selection_policy\":{\"id\":\"22073\",\"type\":\"UnionRenderers\"}},\"id\":\"22020\",\"type\":\"ColumnDataSource\"},{\"attributes\":{\"data_source\":{\"id\":\"22076\",\"type\":\"ColumnDataSource\"},\"glyph\":{\"id\":\"22077\",\"type\":\"Line\"},\"hover_glyph\":null,\"muted_glyph\":{\"id\":\"22079\",\"type\":\"Line\"},\"nonselection_glyph\":{\"id\":\"22078\",\"type\":\"Line\"},\"selection_glyph\":null,\"view\":{\"id\":\"22081\",\"type\":\"CDSView\"}},\"id\":\"22080\",\"type\":\"GlyphRenderer\"},{\"attributes\":{},\"id\":\"21982\",\"type\":\"SaveTool\"},{\"attributes\":{\"line_color\":\"#84DE02\",\"line_width\":2,\"x\":{\"field\":\"x\"},\"y\":{\"field\":\"y\"}},\"id\":\"22021\",\"type\":\"Line\"},{\"attributes\":{},\"id\":\"22138\",\"type\":\"Selection\"},{\"attributes\":{},\"id\":\"21965\",\"type\":\"LinearScale\"},{\"attributes\":{},\"id\":\"22854\",\"type\":\"UnionRenderers\"},{\"attributes\":{\"line_alpha\":0.1,\"line_color\":\"#1f77b4\",\"line_width\":2,\"x\":{\"field\":\"x\"},\"y\":{\"field\":\"y\"}},\"id\":\"22078\",\"type\":\"Line\"},{\"attributes\":{\"plot\":null,\"text\":\"My Line Plot\"},\"id\":\"21958\",\"type\":\"Title\"},{\"attributes\":{\"callback\":null,\"data\":{\"x\":[1491696000000.0,1491782400000.0,1491868800000.0,1491955200000.0,1492041600000.0,1492128000000.0,1492214400000.0,1492387200000.0,1492473600000.0,1492732800000.0,1492819200000.0,1492905600000.0],\"y\":{\"__ndarray__\":\"undDLef5+D/6ASNecBwFQBxUtusgXfg/qi5PfsH/2T/tZZLIPZsAwGEMhk13+ek/fTFGh08V+T/EQImZASD5P3grjjcgfQNAiwKsWpztAkAKj9yJ18vzP2zbPXO2FARA\",\"dtype\":\"float64\",\"shape\":[12]}},\"selected\":{\"id\":\"22138\",\"type\":\"Selection\"},\"selection_policy\":{\"id\":\"22137\",\"type\":\"UnionRenderers\"}},\"id\":\"22076\",\"type\":\"ColumnDataSource\"},{\"attributes\":{\"data_source\":{\"id\":\"21994\",\"type\":\"ColumnDataSource\"},\"glyph\":{\"id\":\"21995\",\"type\":\"Line\"},\"hover_glyph\":null,\"muted_glyph\":{\"id\":\"21997\",\"type\":\"Line\"},\"nonselection_glyph\":{\"id\":\"21996\",\"type\":\"Line\"},\"selection_glyph\":null,\"view\":{\"id\":\"21999\",\"type\":\"CDSView\"}},\"id\":\"21998\",\"type\":\"GlyphRenderer\"},{\"attributes\":{\"mantissas\":[1,2,5],\"max_interval\":500.0,\"num_minor_ticks\":0},\"id\":\"22006\",\"type\":\"AdaptiveTicker\"},{\"attributes\":{\"line_alpha\":0.2,\"line_color\":\"grey\",\"line_width\":2,\"x\":{\"field\":\"x\"},\"y\":{\"field\":\"y\"}},\"id\":\"22079\",\"type\":\"Line\"},{\"attributes\":{\"callback\":null,\"data\":{\"x\":[1491696000000.0,1491782400000.0,1491868800000.0,1491955200000.0,1492041600000.0,1492128000000.0,1492214400000.0,1492387200000.0,1492473600000.0,1492732800000.0,1492819200000.0,1492905600000.0],\"y\":{\"__ndarray__\":\"4255Ckyl0z/qM35iLFn3P+thBu7Rw/k/21pbrKm/wD9Ci2zn+2XFP6SHFDgGzf0/yvqEhY0a8D/mB0xrhBTXPy4xjhslotQ/e1U+oaMr7j/5IVr9fxPkP163CuF1q8s/\",\"dtype\":\"float64\",\"shape\":[12]}},\"selected\":{\"id\":\"22855\",\"type\":\"Selection\"},\"selection_policy\":{\"id\":\"22854\",\"type\":\"UnionRenderers\"}},\"id\":\"22107\",\"type\":\"ColumnDataSource\"},{\"attributes\":{\"formatter\":{\"id\":\"22140\",\"type\":\"NumeralTickFormatter\"},\"plot\":{\"id\":\"21959\",\"subtype\":\"Figure\",\"type\":\"Plot\"},\"ticker\":{\"id\":\"21975\",\"type\":\"BasicTicker\"}},\"id\":\"21974\",\"type\":\"LinearAxis\"},{\"attributes\":{\"line_color\":\"#9400D3\",\"line_width\":2,\"x\":{\"field\":\"x\"},\"y\":{\"field\":\"y\"}},\"id\":\"22077\",\"type\":\"Line\"},{\"attributes\":{\"format\":\"0.0000\"},\"id\":\"22140\",\"type\":\"NumeralTickFormatter\"},{\"attributes\":{\"formatter\":{\"id\":\"22001\",\"type\":\"DatetimeTickFormatter\"},\"plot\":{\"id\":\"21959\",\"subtype\":\"Figure\",\"type\":\"Plot\"},\"ticker\":{\"id\":\"21970\",\"type\":\"DatetimeTicker\"}},\"id\":\"21969\",\"type\":\"DatetimeAxis\"},{\"attributes\":{\"data_source\":{\"id\":\"22047\",\"type\":\"ColumnDataSource\"},\"glyph\":{\"id\":\"22048\",\"type\":\"Line\"},\"hover_glyph\":null,\"muted_glyph\":{\"id\":\"22050\",\"type\":\"Line\"},\"nonselection_glyph\":{\"id\":\"22049\",\"type\":\"Line\"},\"selection_glyph\":null,\"view\":{\"id\":\"22052\",\"type\":\"CDSView\"}},\"id\":\"22051\",\"type\":\"GlyphRenderer\"},{\"attributes\":{},\"id\":\"21975\",\"type\":\"BasicTicker\"},{\"attributes\":{\"source\":{\"id\":\"22047\",\"type\":\"ColumnDataSource\"}},\"id\":\"22052\",\"type\":\"CDSView\"},{\"attributes\":{},\"id\":\"22044\",\"type\":\"UnionRenderers\"},{\"attributes\":{\"line_alpha\":0.2,\"line_color\":\"grey\",\"line_width\":2,\"x\":{\"field\":\"x\"},\"y\":{\"field\":\"y\"}},\"id\":\"21997\",\"type\":\"Line\"},{\"attributes\":{\"months\":[0,1,2,3,4,5,6,7,8,9,10,11]},\"id\":\"22013\",\"type\":\"MonthsTicker\"},{\"attributes\":{\"line_alpha\":0.2,\"line_color\":\"grey\",\"line_width\":2,\"x\":{\"field\":\"x\"},\"y\":{\"field\":\"y\"}},\"id\":\"22110\",\"type\":\"Line\"},{\"attributes\":{},\"id\":\"22073\",\"type\":\"UnionRenderers\"},{\"attributes\":{\"line_alpha\":0.1,\"line_color\":\"#1f77b4\",\"line_width\":2,\"x\":{\"field\":\"x\"},\"y\":{\"field\":\"y\"}},\"id\":\"22049\",\"type\":\"Line\"},{\"attributes\":{\"dimension\":1,\"plot\":{\"id\":\"21959\",\"subtype\":\"Figure\",\"type\":\"Plot\"},\"ticker\":{\"id\":\"21975\",\"type\":\"BasicTicker\"}},\"id\":\"21978\",\"type\":\"Grid\"},{\"attributes\":{\"days\":[1,2,3,4,5,6,7,8,9,10,11,12,13,14,15,16,17,18,19,20,21,22,23,24,25,26,27,28,29,30,31]},\"id\":\"22009\",\"type\":\"DaysTicker\"},{\"attributes\":{},\"id\":\"22855\",\"type\":\"Selection\"},{\"attributes\":{\"months\":[0,2,4,6,8,10]},\"id\":\"22014\",\"type\":\"MonthsTicker\"},{\"attributes\":{\"plot\":{\"id\":\"21959\",\"subtype\":\"Figure\",\"type\":\"Plot\"},\"ticker\":{\"id\":\"21970\",\"type\":\"DatetimeTicker\"}},\"id\":\"21973\",\"type\":\"Grid\"},{\"attributes\":{},\"id\":\"22074\",\"type\":\"Selection\"},{\"attributes\":{},\"id\":\"22001\",\"type\":\"DatetimeTickFormatter\"},{\"attributes\":{\"label\":{\"value\":\"Lassalle_1\"},\"renderers\":[{\"id\":\"22051\",\"type\":\"GlyphRenderer\"}]},\"id\":\"22075\",\"type\":\"LegendItem\"},{\"attributes\":{\"months\":[0,4,8]},\"id\":\"22015\",\"type\":\"MonthsTicker\"},{\"attributes\":{\"line_color\":\"#3C69E7\",\"line_width\":2,\"x\":{\"field\":\"x\"},\"y\":{\"field\":\"y\"}},\"id\":\"21995\",\"type\":\"Line\"},{\"attributes\":{\"callback\":null,\"data\":{\"x\":[1491696000000.0,1491782400000.0,1491868800000.0,1491955200000.0,1492041600000.0,1492128000000.0,1492214400000.0,1492387200000.0,1492473600000.0,1492732800000.0,1492819200000.0,1492905600000.0],\"y\":{\"__ndarray__\":\"3vitvrF5rT/iC6DqP7GrvxZdmkEDbOM/TjcU756L3T/UpCrP+A2Wv3QZ9Gb8oOI/SJzjQeO+xz+3sOxFs8Whv2RVW/SyQsW/aKpBZiLNsD/3cmUWZxLFP5UL5ibOm98/\",\"dtype\":\"float64\",\"shape\":[12]}},\"selected\":{\"id\":\"22045\",\"type\":\"Selection\"},\"selection_policy\":{\"id\":\"22044\",\"type\":\"UnionRenderers\"}},\"id\":\"21994\",\"type\":\"ColumnDataSource\"},{\"attributes\":{\"line_color\":\"#FF0800\",\"line_width\":2,\"x\":{\"field\":\"x\"},\"y\":{\"field\":\"y\"}},\"id\":\"22048\",\"type\":\"Line\"},{\"attributes\":{},\"id\":\"22017\",\"type\":\"YearsTicker\"},{\"attributes\":{\"num_minor_ticks\":5,\"tickers\":[{\"id\":\"22006\",\"type\":\"AdaptiveTicker\"},{\"id\":\"22007\",\"type\":\"AdaptiveTicker\"},{\"id\":\"22008\",\"type\":\"AdaptiveTicker\"},{\"id\":\"22009\",\"type\":\"DaysTicker\"},{\"id\":\"22010\",\"type\":\"DaysTicker\"},{\"id\":\"22011\",\"type\":\"DaysTicker\"},{\"id\":\"22012\",\"type\":\"DaysTicker\"},{\"id\":\"22013\",\"type\":\"MonthsTicker\"},{\"id\":\"22014\",\"type\":\"MonthsTicker\"},{\"id\":\"22015\",\"type\":\"MonthsTicker\"},{\"id\":\"22016\",\"type\":\"MonthsTicker\"},{\"id\":\"22017\",\"type\":\"YearsTicker\"}]},\"id\":\"21970\",\"type\":\"DatetimeTicker\"},{\"attributes\":{\"callback\":null},\"id\":\"21963\",\"type\":\"DataRange1d\"},{\"attributes\":{\"line_alpha\":0.2,\"line_color\":\"grey\",\"line_width\":2,\"x\":{\"field\":\"x\"},\"y\":{\"field\":\"y\"}},\"id\":\"22050\",\"type\":\"Line\"},{\"attributes\":{\"source\":{\"id\":\"22107\",\"type\":\"ColumnDataSource\"}},\"id\":\"22112\",\"type\":\"CDSView\"},{\"attributes\":{\"callback\":null},\"id\":\"21961\",\"type\":\"DataRange1d\"},{\"attributes\":{\"source\":{\"id\":\"22020\",\"type\":\"ColumnDataSource\"}},\"id\":\"22025\",\"type\":\"CDSView\"},{\"attributes\":{\"months\":[0,6]},\"id\":\"22016\",\"type\":\"MonthsTicker\"},{\"attributes\":{\"label\":{\"value\":\"Arthaud_1\"},\"renderers\":[{\"id\":\"21998\",\"type\":\"GlyphRenderer\"}]},\"id\":\"22019\",\"type\":\"LegendItem\"},{\"attributes\":{},\"id\":\"22137\",\"type\":\"UnionRenderers\"},{\"attributes\":{\"data_source\":{\"id\":\"22107\",\"type\":\"ColumnDataSource\"},\"glyph\":{\"id\":\"22108\",\"type\":\"Line\"},\"hover_glyph\":null,\"muted_glyph\":{\"id\":\"22110\",\"type\":\"Line\"},\"nonselection_glyph\":{\"id\":\"22109\",\"type\":\"Line\"},\"selection_glyph\":null,\"view\":{\"id\":\"22112\",\"type\":\"CDSView\"}},\"id\":\"22111\",\"type\":\"GlyphRenderer\"},{\"attributes\":{\"line_color\":\"#FFAA1D\",\"line_width\":2,\"x\":{\"field\":\"x\"},\"y\":{\"field\":\"y\"}},\"id\":\"22108\",\"type\":\"Line\"},{\"attributes\":{},\"id\":\"21983\",\"type\":\"ResetTool\"},{\"attributes\":{\"line_alpha\":0.1,\"line_color\":\"#1f77b4\",\"line_width\":2,\"x\":{\"field\":\"x\"},\"y\":{\"field\":\"y\"}},\"id\":\"22109\",\"type\":\"Line\"},{\"attributes\":{\"days\":[1,4,7,10,13,16,19,22,25,28]},\"id\":\"22010\",\"type\":\"DaysTicker\"},{\"attributes\":{\"click_policy\":\"mute\",\"items\":[{\"id\":\"22019\",\"type\":\"LegendItem\"},{\"id\":\"22046\",\"type\":\"LegendItem\"},{\"id\":\"22075\",\"type\":\"LegendItem\"},{\"id\":\"22106\",\"type\":\"LegendItem\"},{\"id\":\"22139\",\"type\":\"LegendItem\"}],\"location\":\"top_left\",\"plot\":{\"id\":\"21959\",\"subtype\":\"Figure\",\"type\":\"Plot\"}},\"id\":\"22018\",\"type\":\"Legend\"},{\"attributes\":{},\"id\":\"21984\",\"type\":\"HelpTool\"},{\"attributes\":{\"label\":{\"value\":\"Dupont_Aignan_1\"},\"renderers\":[{\"id\":\"22111\",\"type\":\"GlyphRenderer\"}]},\"id\":\"22139\",\"type\":\"LegendItem\"},{\"attributes\":{\"active_drag\":\"auto\",\"active_inspect\":\"auto\",\"active_multi\":null,\"active_scroll\":\"auto\",\"active_tap\":\"auto\",\"tools\":[{\"id\":\"21979\",\"type\":\"PanTool\"},{\"id\":\"21980\",\"type\":\"WheelZoomTool\"},{\"id\":\"21981\",\"type\":\"BoxZoomTool\"},{\"id\":\"21982\",\"type\":\"SaveTool\"},{\"id\":\"21983\",\"type\":\"ResetTool\"},{\"id\":\"21984\",\"type\":\"HelpTool\"}]},\"id\":\"21985\",\"type\":\"Toolbar\"},{\"attributes\":{\"line_alpha\":0.1,\"line_color\":\"#1f77b4\",\"line_width\":2,\"x\":{\"field\":\"x\"},\"y\":{\"field\":\"y\"}},\"id\":\"22022\",\"type\":\"Line\"},{\"attributes\":{\"days\":[1,8,15,22]},\"id\":\"22011\",\"type\":\"DaysTicker\"},{\"attributes\":{},\"id\":\"22104\",\"type\":\"UnionRenderers\"},{\"attributes\":{\"line_alpha\":0.1,\"line_color\":\"#1f77b4\",\"line_width\":2,\"x\":{\"field\":\"x\"},\"y\":{\"field\":\"y\"}},\"id\":\"21996\",\"type\":\"Line\"},{\"attributes\":{\"base\":60,\"mantissas\":[1,2,5,10,15,20,30],\"max_interval\":1800000.0,\"min_interval\":1000.0,\"num_minor_ticks\":0},\"id\":\"22007\",\"type\":\"AdaptiveTicker\"},{\"attributes\":{},\"id\":\"21967\",\"type\":\"LinearScale\"},{\"attributes\":{\"base\":24,\"mantissas\":[1,2,4,6,8,12],\"max_interval\":43200000.0,\"min_interval\":3600000.0,\"num_minor_ticks\":0},\"id\":\"22008\",\"type\":\"AdaptiveTicker\"}],\"root_ids\":[\"21959\"]},\"title\":\"Bokeh Application\",\"version\":\"1.0.1\"}};\n",
       "  var render_items = [{\"docid\":\"cdaedde5-d44e-4375-9797-2daaa5d78103\",\"roots\":{\"21959\":\"1514eb2a-f857-4fd2-b1fb-ce5397f68e4a\"}}];\n",
       "  root.Bokeh.embed.embed_items_notebook(docs_json, render_items);\n",
       "\n",
       "  }\n",
       "  if (root.Bokeh !== undefined) {\n",
       "    embed_document(root);\n",
       "  } else {\n",
       "    var attempts = 0;\n",
       "    var timer = setInterval(function(root) {\n",
       "      if (root.Bokeh !== undefined) {\n",
       "        embed_document(root);\n",
       "        clearInterval(timer);\n",
       "      }\n",
       "      attempts++;\n",
       "      if (attempts > 100) {\n",
       "        console.log(\"Bokeh: ERROR: Unable to run BokehJS code because BokehJS library is missing\");\n",
       "        clearInterval(timer);\n",
       "      }\n",
       "    }, 10, root)\n",
       "  }\n",
       "})(window);"
      ],
      "application/vnd.bokehjs_exec.v0+json": ""
     },
     "metadata": {
      "application/vnd.bokehjs_exec.v0+json": {
       "id": "21959"
      }
     },
     "output_type": "display_data"
    }
   ],
   "source": [
    "popularity_plot(petit_df)"
   ]
  },
  {
   "cell_type": "markdown",
   "metadata": {},
   "source": [
    "### Deuxieme tour"
   ]
  },
  {
   "cell_type": "code",
   "execution_count": 104,
   "metadata": {},
   "outputs": [],
   "source": [
    "run data2"
   ]
  },
  {
   "cell_type": "code",
   "execution_count": 105,
   "metadata": {},
   "outputs": [
    {
     "data": {
      "text/html": [
       "\n",
       "\n",
       "\n",
       "\n",
       "\n",
       "\n",
       "  <div class=\"bk-root\" id=\"606fb6f0-ed23-4c87-b97c-b5615e461f02\"></div>\n"
      ]
     },
     "metadata": {},
     "output_type": "display_data"
    },
    {
     "data": {
      "application/javascript": [
       "(function(root) {\n",
       "  function embed_document(root) {\n",
       "    \n",
       "  var docs_json = {\"43c89e5c-05e5-4fc5-8e87-cd74479732c2\":{\"roots\":{\"references\":[{\"attributes\":{\"below\":[{\"id\":\"19461\",\"type\":\"LinearAxis\"}],\"left\":[{\"id\":\"19466\",\"type\":\"LinearAxis\"}],\"plot_height\":500,\"renderers\":[{\"id\":\"19461\",\"type\":\"LinearAxis\"},{\"id\":\"19465\",\"type\":\"Grid\"},{\"id\":\"19466\",\"type\":\"LinearAxis\"},{\"id\":\"19470\",\"type\":\"Grid\"},{\"id\":\"19487\",\"type\":\"Legend\"},{\"id\":\"19480\",\"type\":\"GlyphRenderer\"}],\"title\":{\"id\":\"19450\",\"type\":\"Title\"},\"toolbar\":{\"id\":\"19472\",\"type\":\"Toolbar\"},\"toolbar_location\":null,\"x_range\":{\"id\":\"19453\",\"type\":\"Range1d\"},\"x_scale\":{\"id\":\"19457\",\"type\":\"LinearScale\"},\"y_range\":{\"id\":\"19455\",\"type\":\"DataRange1d\"},\"y_scale\":{\"id\":\"19459\",\"type\":\"LinearScale\"}},\"id\":\"19451\",\"subtype\":\"Figure\",\"type\":\"Plot\"},{\"attributes\":{\"callback\":null,\"start\":-0.5},\"id\":\"19453\",\"type\":\"Range1d\"},{\"attributes\":{\"dimension\":1,\"grid_line_color\":{\"value\":null},\"plot\":{\"id\":\"19451\",\"subtype\":\"Figure\",\"type\":\"Plot\"},\"ticker\":{\"id\":\"19467\",\"type\":\"BasicTicker\"}},\"id\":\"19470\",\"type\":\"Grid\"},{\"attributes\":{},\"id\":\"19467\",\"type\":\"BasicTicker\"},{\"attributes\":{\"label\":{\"field\":\"candidat\"},\"renderers\":[{\"id\":\"19480\",\"type\":\"GlyphRenderer\"}]},\"id\":\"19488\",\"type\":\"LegendItem\"},{\"attributes\":{\"axis_label\":null,\"formatter\":{\"id\":\"19485\",\"type\":\"BasicTickFormatter\"},\"plot\":{\"id\":\"19451\",\"subtype\":\"Figure\",\"type\":\"Plot\"},\"ticker\":{\"id\":\"19467\",\"type\":\"BasicTicker\"},\"visible\":false},\"id\":\"19466\",\"type\":\"LinearAxis\"},{\"attributes\":{\"items\":[{\"id\":\"19488\",\"type\":\"LegendItem\"}],\"plot\":{\"id\":\"19451\",\"subtype\":\"Figure\",\"type\":\"Plot\"}},\"id\":\"19487\",\"type\":\"Legend\"},{\"attributes\":{\"grid_line_color\":{\"value\":null},\"plot\":{\"id\":\"19451\",\"subtype\":\"Figure\",\"type\":\"Plot\"},\"ticker\":{\"id\":\"19462\",\"type\":\"BasicTicker\"}},\"id\":\"19465\",\"type\":\"Grid\"},{\"attributes\":{},\"id\":\"19485\",\"type\":\"BasicTickFormatter\"},{\"attributes\":{},\"id\":\"19462\",\"type\":\"BasicTicker\"},{\"attributes\":{},\"id\":\"19483\",\"type\":\"BasicTickFormatter\"},{\"attributes\":{\"axis_label\":null,\"formatter\":{\"id\":\"19483\",\"type\":\"BasicTickFormatter\"},\"plot\":{\"id\":\"19451\",\"subtype\":\"Figure\",\"type\":\"Plot\"},\"ticker\":{\"id\":\"19462\",\"type\":\"BasicTicker\"},\"visible\":false},\"id\":\"19461\",\"type\":\"LinearAxis\"},{\"attributes\":{\"source\":{\"id\":\"19476\",\"type\":\"ColumnDataSource\"}},\"id\":\"19481\",\"type\":\"CDSView\"},{\"attributes\":{},\"id\":\"19459\",\"type\":\"LinearScale\"},{\"attributes\":{},\"id\":\"19457\",\"type\":\"LinearScale\"},{\"attributes\":{\"end_angle\":{\"expr\":{\"id\":\"19475\",\"type\":\"CumSum\"},\"units\":\"rad\"},\"fill_color\":{\"field\":\"color\"},\"line_color\":{\"value\":\"white\"},\"radius\":{\"units\":\"data\",\"value\":0.4},\"start_angle\":{\"expr\":{\"id\":\"19474\",\"type\":\"CumSum\"},\"units\":\"rad\"},\"x\":{\"value\":0},\"y\":{\"value\":1}},\"id\":\"19478\",\"type\":\"Wedge\"},{\"attributes\":{\"callback\":null},\"id\":\"19455\",\"type\":\"DataRange1d\"},{\"attributes\":{\"end_angle\":{\"expr\":{\"id\":\"19475\",\"type\":\"CumSum\"},\"units\":\"rad\"},\"fill_alpha\":{\"value\":0.1},\"fill_color\":{\"value\":\"#1f77b4\"},\"line_alpha\":{\"value\":0.1},\"line_color\":{\"value\":\"#1f77b4\"},\"radius\":{\"units\":\"data\",\"value\":0.4},\"start_angle\":{\"expr\":{\"id\":\"19474\",\"type\":\"CumSum\"},\"units\":\"rad\"},\"x\":{\"value\":0},\"y\":{\"value\":1}},\"id\":\"19479\",\"type\":\"Wedge\"},{\"attributes\":{},\"id\":\"20141\",\"type\":\"Selection\"},{\"attributes\":{\"data_source\":{\"id\":\"19476\",\"type\":\"ColumnDataSource\"},\"glyph\":{\"id\":\"19478\",\"type\":\"Wedge\"},\"hover_glyph\":null,\"muted_glyph\":null,\"nonselection_glyph\":{\"id\":\"19479\",\"type\":\"Wedge\"},\"selection_glyph\":null,\"view\":{\"id\":\"19481\",\"type\":\"CDSView\"}},\"id\":\"19480\",\"type\":\"GlyphRenderer\"},{\"attributes\":{},\"id\":\"20140\",\"type\":\"UnionRenderers\"},{\"attributes\":{\"field\":\"angle\",\"include_zero\":true},\"id\":\"19474\",\"type\":\"CumSum\"},{\"attributes\":{\"callback\":null,\"data\":{\"angle\":{\"__ndarray__\":\"9kOVJHbI1z/97pFQHa5jP6ghuAqo4X8/ewVGzmJ0wj/21k2/ktNJP5qX2GcejGU/vDVuvfK3uT8A8hALC4DPPy3pWoq74PM/MviTh9OoEEA=\",\"dtype\":\"float64\",\"shape\":[10]},\"candidat\":[\"Melenchon_2\",\"Lassalle_2\",\"Poutou_2\",\"Hamon_2\",\"Arthaud_2\",\"Cheminade_2\",\"Dupont_Aignan_2\",\"Fillon_2\",\"LePen_2\",\"Macron_2\"],\"color\":[\"#3182bd\",\"#6baed6\",\"#9ecae1\",\"#c6dbef\",\"#e6550d\",\"#fd8d3c\",\"#fdae6b\",\"#fdd0a2\",\"#31a354\",\"#74c476\"],\"index\":[0,1,2,3,4,5,6,7,8,9],\"value\":{\"__ndarray__\":\"d1nkXDK/sEA9nUYCMLc7QMYc5QYKc1ZAPVmi6Vz9mUA73WDiiy8iQOIt5KlcWD5AsdJpHxgckkAO+x//TS6mQAh4Kxt5/stAE4bz/yl250A=\",\"dtype\":\"float64\",\"shape\":[10]}},\"selected\":{\"id\":\"20141\",\"type\":\"Selection\"},\"selection_policy\":{\"id\":\"20140\",\"type\":\"UnionRenderers\"}},\"id\":\"19476\",\"type\":\"ColumnDataSource\"},{\"attributes\":{\"plot\":null,\"text\":\"Pie Chart\"},\"id\":\"19450\",\"type\":\"Title\"},{\"attributes\":{\"field\":\"angle\"},\"id\":\"19475\",\"type\":\"CumSum\"},{\"attributes\":{\"callback\":null,\"renderers\":\"auto\",\"tooltips\":\"@candidat: @value\"},\"id\":\"19471\",\"type\":\"HoverTool\"},{\"attributes\":{\"active_drag\":\"auto\",\"active_inspect\":\"auto\",\"active_multi\":null,\"active_scroll\":\"auto\",\"active_tap\":\"auto\",\"tools\":[{\"id\":\"19471\",\"type\":\"HoverTool\"}]},\"id\":\"19472\",\"type\":\"Toolbar\"}],\"root_ids\":[\"19451\"]},\"title\":\"Bokeh Application\",\"version\":\"1.0.1\"}};\n",
       "  var render_items = [{\"docid\":\"43c89e5c-05e5-4fc5-8e87-cd74479732c2\",\"roots\":{\"19451\":\"606fb6f0-ed23-4c87-b97c-b5615e461f02\"}}];\n",
       "  root.Bokeh.embed.embed_items_notebook(docs_json, render_items);\n",
       "\n",
       "  }\n",
       "  if (root.Bokeh !== undefined) {\n",
       "    embed_document(root);\n",
       "  } else {\n",
       "    var attempts = 0;\n",
       "    var timer = setInterval(function(root) {\n",
       "      if (root.Bokeh !== undefined) {\n",
       "        embed_document(root);\n",
       "        clearInterval(timer);\n",
       "      }\n",
       "      attempts++;\n",
       "      if (attempts > 100) {\n",
       "        console.log(\"Bokeh: ERROR: Unable to run BokehJS code because BokehJS library is missing\");\n",
       "        clearInterval(timer);\n",
       "      }\n",
       "    }, 10, root)\n",
       "  }\n",
       "})(window);"
      ],
      "application/vnd.bokehjs_exec.v0+json": ""
     },
     "metadata": {
      "application/vnd.bokehjs_exec.v0+json": {
       "id": "19451"
      }
     },
     "output_type": "display_data"
    }
   ],
   "source": [
    "sv.pie(communaute2)"
   ]
  },
  {
   "cell_type": "code",
   "execution_count": 106,
   "metadata": {},
   "outputs": [
    {
     "data": {
      "text/html": [
       "\n",
       "\n",
       "\n",
       "\n",
       "\n",
       "\n",
       "  <div class=\"bk-root\" id=\"c6219a20-33dd-4fda-bc86-38f6b991fea4\"></div>\n"
      ]
     },
     "metadata": {},
     "output_type": "display_data"
    },
    {
     "data": {
      "application/javascript": [
       "(function(root) {\n",
       "  function embed_document(root) {\n",
       "    \n",
       "  var docs_json = {\"303f39f2-755f-47df-af50-932ac2e2822e\":{\"roots\":{\"references\":[{\"attributes\":{\"below\":[{\"id\":\"20195\",\"type\":\"LinearAxis\"}],\"left\":[{\"id\":\"20200\",\"type\":\"LinearAxis\"}],\"plot_height\":500,\"renderers\":[{\"id\":\"20195\",\"type\":\"LinearAxis\"},{\"id\":\"20199\",\"type\":\"Grid\"},{\"id\":\"20200\",\"type\":\"LinearAxis\"},{\"id\":\"20204\",\"type\":\"Grid\"},{\"id\":\"20221\",\"type\":\"Legend\"},{\"id\":\"20214\",\"type\":\"GlyphRenderer\"}],\"title\":{\"id\":\"20184\",\"type\":\"Title\"},\"toolbar\":{\"id\":\"20206\",\"type\":\"Toolbar\"},\"toolbar_location\":null,\"x_range\":{\"id\":\"20187\",\"type\":\"Range1d\"},\"x_scale\":{\"id\":\"20191\",\"type\":\"LinearScale\"},\"y_range\":{\"id\":\"20189\",\"type\":\"DataRange1d\"},\"y_scale\":{\"id\":\"20193\",\"type\":\"LinearScale\"}},\"id\":\"20185\",\"subtype\":\"Figure\",\"type\":\"Plot\"},{\"attributes\":{\"field\":\"angle\"},\"id\":\"20209\",\"type\":\"CumSum\"},{\"attributes\":{},\"id\":\"20201\",\"type\":\"BasicTicker\"},{\"attributes\":{\"end_angle\":{\"expr\":{\"id\":\"20209\",\"type\":\"CumSum\"},\"units\":\"rad\"},\"fill_color\":{\"field\":\"color\"},\"line_color\":{\"value\":\"white\"},\"radius\":{\"units\":\"data\",\"value\":0.4},\"start_angle\":{\"expr\":{\"id\":\"20208\",\"type\":\"CumSum\"},\"units\":\"rad\"},\"x\":{\"value\":0},\"y\":{\"value\":1}},\"id\":\"20212\",\"type\":\"Wedge\"},{\"attributes\":{\"label\":{\"field\":\"candidat\"},\"renderers\":[{\"id\":\"20214\",\"type\":\"GlyphRenderer\"}]},\"id\":\"20222\",\"type\":\"LegendItem\"},{\"attributes\":{\"field\":\"angle\",\"include_zero\":true},\"id\":\"20208\",\"type\":\"CumSum\"},{\"attributes\":{\"items\":[{\"id\":\"20222\",\"type\":\"LegendItem\"}],\"plot\":{\"id\":\"20185\",\"subtype\":\"Figure\",\"type\":\"Plot\"}},\"id\":\"20221\",\"type\":\"Legend\"},{\"attributes\":{},\"id\":\"20882\",\"type\":\"Selection\"},{\"attributes\":{\"plot\":null,\"text\":\"Pie Chart\"},\"id\":\"20184\",\"type\":\"Title\"},{\"attributes\":{\"callback\":null,\"start\":-0.5},\"id\":\"20187\",\"type\":\"Range1d\"},{\"attributes\":{\"source\":{\"id\":\"20210\",\"type\":\"ColumnDataSource\"}},\"id\":\"20215\",\"type\":\"CDSView\"},{\"attributes\":{\"callback\":null},\"id\":\"20189\",\"type\":\"DataRange1d\"},{\"attributes\":{},\"id\":\"20217\",\"type\":\"BasicTickFormatter\"},{\"attributes\":{},\"id\":\"20219\",\"type\":\"BasicTickFormatter\"},{\"attributes\":{\"data_source\":{\"id\":\"20210\",\"type\":\"ColumnDataSource\"},\"glyph\":{\"id\":\"20212\",\"type\":\"Wedge\"},\"hover_glyph\":null,\"muted_glyph\":null,\"nonselection_glyph\":{\"id\":\"20213\",\"type\":\"Wedge\"},\"selection_glyph\":null,\"view\":{\"id\":\"20215\",\"type\":\"CDSView\"}},\"id\":\"20214\",\"type\":\"GlyphRenderer\"},{\"attributes\":{},\"id\":\"20881\",\"type\":\"UnionRenderers\"},{\"attributes\":{},\"id\":\"20196\",\"type\":\"BasicTicker\"},{\"attributes\":{\"callback\":null,\"data\":{\"angle\":{\"__ndarray__\":\"jZ5pkqoI4j83q2BQH13iP+UQj8fBxeQ/CLniP+0g4z9TsWkiHSDRP4qngx5Q9/E/1Pe58O9W6D/2d3kntXHfPw5PoSyZmt8/+NHhzptn6D8=\",\"dtype\":\"float64\",\"shape\":[10]},\"candidat\":[\"Melenchon_2\",\"Lassalle_2\",\"Poutou_2\",\"Hamon_2\",\"Arthaud_2\",\"Cheminade_2\",\"Dupont_Aignan_2\",\"Fillon_2\",\"LePen_2\",\"Macron_2\"],\"color\":[\"#3182bd\",\"#6baed6\",\"#9ecae1\",\"#c6dbef\",\"#e6550d\",\"#fd8d3c\",\"#fdae6b\",\"#fdd0a2\",\"#31a354\",\"#74c476\"],\"index\":[0,1,2,3,4,5,6,7,8,9],\"value\":{\"__ndarray__\":\"sC5rZhlNsz+4KjmGfaezPwOBcWF1O7Y/vZwvBg55tD/RyvZKNFSiP0MG1cGGOsM/j7552s8Muj+85gKSstOwP//QkGWU6bA/Fap/pKceuj8=\",\"dtype\":\"float64\",\"shape\":[10]}},\"selected\":{\"id\":\"20882\",\"type\":\"Selection\"},\"selection_policy\":{\"id\":\"20881\",\"type\":\"UnionRenderers\"}},\"id\":\"20210\",\"type\":\"ColumnDataSource\"},{\"attributes\":{\"dimension\":1,\"grid_line_color\":{\"value\":null},\"plot\":{\"id\":\"20185\",\"subtype\":\"Figure\",\"type\":\"Plot\"},\"ticker\":{\"id\":\"20201\",\"type\":\"BasicTicker\"}},\"id\":\"20204\",\"type\":\"Grid\"},{\"attributes\":{\"axis_label\":null,\"formatter\":{\"id\":\"20217\",\"type\":\"BasicTickFormatter\"},\"plot\":{\"id\":\"20185\",\"subtype\":\"Figure\",\"type\":\"Plot\"},\"ticker\":{\"id\":\"20196\",\"type\":\"BasicTicker\"},\"visible\":false},\"id\":\"20195\",\"type\":\"LinearAxis\"},{\"attributes\":{},\"id\":\"20193\",\"type\":\"LinearScale\"},{\"attributes\":{},\"id\":\"20191\",\"type\":\"LinearScale\"},{\"attributes\":{\"callback\":null,\"renderers\":\"auto\",\"tooltips\":\"@candidat: @value\"},\"id\":\"20205\",\"type\":\"HoverTool\"},{\"attributes\":{\"active_drag\":\"auto\",\"active_inspect\":\"auto\",\"active_multi\":null,\"active_scroll\":\"auto\",\"active_tap\":\"auto\",\"tools\":[{\"id\":\"20205\",\"type\":\"HoverTool\"}]},\"id\":\"20206\",\"type\":\"Toolbar\"},{\"attributes\":{\"grid_line_color\":{\"value\":null},\"plot\":{\"id\":\"20185\",\"subtype\":\"Figure\",\"type\":\"Plot\"},\"ticker\":{\"id\":\"20196\",\"type\":\"BasicTicker\"}},\"id\":\"20199\",\"type\":\"Grid\"},{\"attributes\":{\"end_angle\":{\"expr\":{\"id\":\"20209\",\"type\":\"CumSum\"},\"units\":\"rad\"},\"fill_alpha\":{\"value\":0.1},\"fill_color\":{\"value\":\"#1f77b4\"},\"line_alpha\":{\"value\":0.1},\"line_color\":{\"value\":\"#1f77b4\"},\"radius\":{\"units\":\"data\",\"value\":0.4},\"start_angle\":{\"expr\":{\"id\":\"20208\",\"type\":\"CumSum\"},\"units\":\"rad\"},\"x\":{\"value\":0},\"y\":{\"value\":1}},\"id\":\"20213\",\"type\":\"Wedge\"},{\"attributes\":{\"axis_label\":null,\"formatter\":{\"id\":\"20219\",\"type\":\"BasicTickFormatter\"},\"plot\":{\"id\":\"20185\",\"subtype\":\"Figure\",\"type\":\"Plot\"},\"ticker\":{\"id\":\"20201\",\"type\":\"BasicTicker\"},\"visible\":false},\"id\":\"20200\",\"type\":\"LinearAxis\"}],\"root_ids\":[\"20185\"]},\"title\":\"Bokeh Application\",\"version\":\"1.0.1\"}};\n",
       "  var render_items = [{\"docid\":\"303f39f2-755f-47df-af50-932ac2e2822e\",\"roots\":{\"20185\":\"c6219a20-33dd-4fda-bc86-38f6b991fea4\"}}];\n",
       "  root.Bokeh.embed.embed_items_notebook(docs_json, render_items);\n",
       "\n",
       "  }\n",
       "  if (root.Bokeh !== undefined) {\n",
       "    embed_document(root);\n",
       "  } else {\n",
       "    var attempts = 0;\n",
       "    var timer = setInterval(function(root) {\n",
       "      if (root.Bokeh !== undefined) {\n",
       "        embed_document(root);\n",
       "        clearInterval(timer);\n",
       "      }\n",
       "      attempts++;\n",
       "      if (attempts > 100) {\n",
       "        console.log(\"Bokeh: ERROR: Unable to run BokehJS code because BokehJS library is missing\");\n",
       "        clearInterval(timer);\n",
       "      }\n",
       "    }, 10, root)\n",
       "  }\n",
       "})(window);"
      ],
      "application/vnd.bokehjs_exec.v0+json": ""
     },
     "metadata": {
      "application/vnd.bokehjs_exec.v0+json": {
       "id": "20185"
      }
     },
     "output_type": "display_data"
    }
   ],
   "source": [
    "sv.pie(communaute_perc2)"
   ]
  },
  {
   "cell_type": "code",
   "execution_count": 113,
   "metadata": {},
   "outputs": [
    {
     "data": {
      "text/html": [
       "\n",
       "\n",
       "\n",
       "\n",
       "\n",
       "\n",
       "  <div class=\"bk-root\" id=\"ead1b89d-4e8a-461b-b4ac-ac04346fe976\"></div>\n"
      ]
     },
     "metadata": {},
     "output_type": "display_data"
    },
    {
     "data": {
      "application/javascript": [
       "(function(root) {\n",
       "  function embed_document(root) {\n",
       "    \n",
       "  var docs_json = {\"1f582662-431a-4dc7-9764-3f711fd3df82\":{\"roots\":{\"references\":[{\"attributes\":{\"below\":[{\"id\":\"24769\",\"type\":\"LinearAxis\"}],\"left\":[{\"id\":\"24774\",\"type\":\"LinearAxis\"}],\"plot_height\":500,\"renderers\":[{\"id\":\"24769\",\"type\":\"LinearAxis\"},{\"id\":\"24773\",\"type\":\"Grid\"},{\"id\":\"24774\",\"type\":\"LinearAxis\"},{\"id\":\"24778\",\"type\":\"Grid\"},{\"id\":\"24795\",\"type\":\"Legend\"},{\"id\":\"24788\",\"type\":\"GlyphRenderer\"}],\"title\":{\"id\":\"24758\",\"type\":\"Title\"},\"toolbar\":{\"id\":\"24780\",\"type\":\"Toolbar\"},\"toolbar_location\":null,\"x_range\":{\"id\":\"24761\",\"type\":\"Range1d\"},\"x_scale\":{\"id\":\"24765\",\"type\":\"LinearScale\"},\"y_range\":{\"id\":\"24763\",\"type\":\"DataRange1d\"},\"y_scale\":{\"id\":\"24767\",\"type\":\"LinearScale\"}},\"id\":\"24759\",\"subtype\":\"Figure\",\"type\":\"Plot\"},{\"attributes\":{\"field\":\"angle\"},\"id\":\"24783\",\"type\":\"CumSum\"},{\"attributes\":{},\"id\":\"24793\",\"type\":\"BasicTickFormatter\"},{\"attributes\":{\"plot\":null,\"text\":\"Pie Chart\"},\"id\":\"24758\",\"type\":\"Title\"},{\"attributes\":{},\"id\":\"24770\",\"type\":\"BasicTicker\"},{\"attributes\":{},\"id\":\"24791\",\"type\":\"BasicTickFormatter\"},{\"attributes\":{},\"id\":\"25530\",\"type\":\"UnionRenderers\"},{\"attributes\":{\"source\":{\"id\":\"24784\",\"type\":\"ColumnDataSource\"}},\"id\":\"24789\",\"type\":\"CDSView\"},{\"attributes\":{\"field\":\"angle\",\"include_zero\":true},\"id\":\"24782\",\"type\":\"CumSum\"},{\"attributes\":{\"items\":[{\"id\":\"24796\",\"type\":\"LegendItem\"}],\"plot\":{\"id\":\"24759\",\"subtype\":\"Figure\",\"type\":\"Plot\"}},\"id\":\"24795\",\"type\":\"Legend\"},{\"attributes\":{\"end_angle\":{\"expr\":{\"id\":\"24783\",\"type\":\"CumSum\"},\"units\":\"rad\"},\"fill_color\":{\"field\":\"color\"},\"line_color\":{\"value\":\"white\"},\"radius\":{\"units\":\"data\",\"value\":0.4},\"start_angle\":{\"expr\":{\"id\":\"24782\",\"type\":\"CumSum\"},\"units\":\"rad\"},\"x\":{\"value\":0},\"y\":{\"value\":1}},\"id\":\"24786\",\"type\":\"Wedge\"},{\"attributes\":{},\"id\":\"24775\",\"type\":\"BasicTicker\"},{\"attributes\":{\"label\":{\"field\":\"candidat\"},\"renderers\":[{\"id\":\"24788\",\"type\":\"GlyphRenderer\"}]},\"id\":\"24796\",\"type\":\"LegendItem\"},{\"attributes\":{\"axis_label\":null,\"formatter\":{\"id\":\"24791\",\"type\":\"BasicTickFormatter\"},\"plot\":{\"id\":\"24759\",\"subtype\":\"Figure\",\"type\":\"Plot\"},\"ticker\":{\"id\":\"24770\",\"type\":\"BasicTicker\"},\"visible\":false},\"id\":\"24769\",\"type\":\"LinearAxis\"},{\"attributes\":{\"callback\":null,\"data\":{\"angle\":{\"__ndarray__\":\"Q0JroAk52D/eY2F+vcvCP6hHVO6SCtA/oA8k2dI+9D9zJRzprvcQQA==\",\"dtype\":\"float64\",\"shape\":[5]},\"candidat\":[\"Melenchon_2\",\"Hamon_2\",\"Fillon_2\",\"LePen_2\",\"Macron_2\"],\"color\":[\"#3182bd\",\"#6baed6\",\"#9ecae1\",\"#c6dbef\",\"#e6550d\"],\"index\":[0,1,2,3,4],\"value\":{\"__ndarray__\":\"d1nkXDK/sEA9WaLpXP2ZQA77H/9NLqZACHgrG3n+y0AThvP/KXbnQA==\",\"dtype\":\"float64\",\"shape\":[5]}},\"selected\":{\"id\":\"25531\",\"type\":\"Selection\"},\"selection_policy\":{\"id\":\"25530\",\"type\":\"UnionRenderers\"}},\"id\":\"24784\",\"type\":\"ColumnDataSource\"},{\"attributes\":{\"end_angle\":{\"expr\":{\"id\":\"24783\",\"type\":\"CumSum\"},\"units\":\"rad\"},\"fill_alpha\":{\"value\":0.1},\"fill_color\":{\"value\":\"#1f77b4\"},\"line_alpha\":{\"value\":0.1},\"line_color\":{\"value\":\"#1f77b4\"},\"radius\":{\"units\":\"data\",\"value\":0.4},\"start_angle\":{\"expr\":{\"id\":\"24782\",\"type\":\"CumSum\"},\"units\":\"rad\"},\"x\":{\"value\":0},\"y\":{\"value\":1}},\"id\":\"24787\",\"type\":\"Wedge\"},{\"attributes\":{\"active_drag\":\"auto\",\"active_inspect\":\"auto\",\"active_multi\":null,\"active_scroll\":\"auto\",\"active_tap\":\"auto\",\"tools\":[{\"id\":\"24779\",\"type\":\"HoverTool\"}]},\"id\":\"24780\",\"type\":\"Toolbar\"},{\"attributes\":{},\"id\":\"24767\",\"type\":\"LinearScale\"},{\"attributes\":{\"data_source\":{\"id\":\"24784\",\"type\":\"ColumnDataSource\"},\"glyph\":{\"id\":\"24786\",\"type\":\"Wedge\"},\"hover_glyph\":null,\"muted_glyph\":null,\"nonselection_glyph\":{\"id\":\"24787\",\"type\":\"Wedge\"},\"selection_glyph\":null,\"view\":{\"id\":\"24789\",\"type\":\"CDSView\"}},\"id\":\"24788\",\"type\":\"GlyphRenderer\"},{\"attributes\":{\"callback\":null,\"renderers\":\"auto\",\"tooltips\":\"@candidat: @value\"},\"id\":\"24779\",\"type\":\"HoverTool\"},{\"attributes\":{\"callback\":null},\"id\":\"24763\",\"type\":\"DataRange1d\"},{\"attributes\":{\"callback\":null,\"start\":-0.5},\"id\":\"24761\",\"type\":\"Range1d\"},{\"attributes\":{\"dimension\":1,\"grid_line_color\":{\"value\":null},\"plot\":{\"id\":\"24759\",\"subtype\":\"Figure\",\"type\":\"Plot\"},\"ticker\":{\"id\":\"24775\",\"type\":\"BasicTicker\"}},\"id\":\"24778\",\"type\":\"Grid\"},{\"attributes\":{\"grid_line_color\":{\"value\":null},\"plot\":{\"id\":\"24759\",\"subtype\":\"Figure\",\"type\":\"Plot\"},\"ticker\":{\"id\":\"24770\",\"type\":\"BasicTicker\"}},\"id\":\"24773\",\"type\":\"Grid\"},{\"attributes\":{\"axis_label\":null,\"formatter\":{\"id\":\"24793\",\"type\":\"BasicTickFormatter\"},\"plot\":{\"id\":\"24759\",\"subtype\":\"Figure\",\"type\":\"Plot\"},\"ticker\":{\"id\":\"24775\",\"type\":\"BasicTicker\"},\"visible\":false},\"id\":\"24774\",\"type\":\"LinearAxis\"},{\"attributes\":{},\"id\":\"25531\",\"type\":\"Selection\"},{\"attributes\":{},\"id\":\"24765\",\"type\":\"LinearScale\"}],\"root_ids\":[\"24759\"]},\"title\":\"Bokeh Application\",\"version\":\"1.0.1\"}};\n",
       "  var render_items = [{\"docid\":\"1f582662-431a-4dc7-9764-3f711fd3df82\",\"roots\":{\"24759\":\"ead1b89d-4e8a-461b-b4ac-ac04346fe976\"}}];\n",
       "  root.Bokeh.embed.embed_items_notebook(docs_json, render_items);\n",
       "\n",
       "  }\n",
       "  if (root.Bokeh !== undefined) {\n",
       "    embed_document(root);\n",
       "  } else {\n",
       "    var attempts = 0;\n",
       "    var timer = setInterval(function(root) {\n",
       "      if (root.Bokeh !== undefined) {\n",
       "        embed_document(root);\n",
       "        clearInterval(timer);\n",
       "      }\n",
       "      attempts++;\n",
       "      if (attempts > 100) {\n",
       "        console.log(\"Bokeh: ERROR: Unable to run BokehJS code because BokehJS library is missing\");\n",
       "        clearInterval(timer);\n",
       "      }\n",
       "    }, 10, root)\n",
       "  }\n",
       "})(window);"
      ],
      "application/vnd.bokehjs_exec.v0+json": ""
     },
     "metadata": {
      "application/vnd.bokehjs_exec.v0+json": {
       "id": "24759"
      }
     },
     "output_type": "display_data"
    }
   ],
   "source": [
    "sv.pie(grand2)"
   ]
  },
  {
   "cell_type": "code",
   "execution_count": 114,
   "metadata": {},
   "outputs": [
    {
     "data": {
      "text/html": [
       "\n",
       "\n",
       "\n",
       "\n",
       "\n",
       "\n",
       "  <div class=\"bk-root\" id=\"8f0b049f-15c8-457f-97c9-f970d9f31b64\"></div>\n"
      ]
     },
     "metadata": {},
     "output_type": "display_data"
    },
    {
     "data": {
      "application/javascript": [
       "(function(root) {\n",
       "  function embed_document(root) {\n",
       "    \n",
       "  var docs_json = {\"1bd168ff-bdcd-496b-b7ad-cec8b8029f37\":{\"roots\":{\"references\":[{\"attributes\":{\"below\":[{\"id\":\"25649\",\"type\":\"LinearAxis\"}],\"left\":[{\"id\":\"25654\",\"type\":\"LinearAxis\"}],\"plot_height\":500,\"renderers\":[{\"id\":\"25649\",\"type\":\"LinearAxis\"},{\"id\":\"25653\",\"type\":\"Grid\"},{\"id\":\"25654\",\"type\":\"LinearAxis\"},{\"id\":\"25658\",\"type\":\"Grid\"},{\"id\":\"25675\",\"type\":\"Legend\"},{\"id\":\"25668\",\"type\":\"GlyphRenderer\"}],\"title\":{\"id\":\"25638\",\"type\":\"Title\"},\"toolbar\":{\"id\":\"25660\",\"type\":\"Toolbar\"},\"toolbar_location\":null,\"x_range\":{\"id\":\"25641\",\"type\":\"Range1d\"},\"x_scale\":{\"id\":\"25645\",\"type\":\"LinearScale\"},\"y_range\":{\"id\":\"25643\",\"type\":\"DataRange1d\"},\"y_scale\":{\"id\":\"25647\",\"type\":\"LinearScale\"}},\"id\":\"25639\",\"subtype\":\"Figure\",\"type\":\"Plot\"},{\"attributes\":{},\"id\":\"25645\",\"type\":\"LinearScale\"},{\"attributes\":{\"source\":{\"id\":\"25664\",\"type\":\"ColumnDataSource\"}},\"id\":\"25669\",\"type\":\"CDSView\"},{\"attributes\":{\"end_angle\":{\"expr\":{\"id\":\"25663\",\"type\":\"CumSum\"},\"units\":\"rad\"},\"fill_alpha\":{\"value\":0.1},\"fill_color\":{\"value\":\"#1f77b4\"},\"line_alpha\":{\"value\":0.1},\"line_color\":{\"value\":\"#1f77b4\"},\"radius\":{\"units\":\"data\",\"value\":0.4},\"start_angle\":{\"expr\":{\"id\":\"25662\",\"type\":\"CumSum\"},\"units\":\"rad\"},\"x\":{\"value\":0},\"y\":{\"value\":1}},\"id\":\"25667\",\"type\":\"Wedge\"},{\"attributes\":{\"items\":[{\"id\":\"25676\",\"type\":\"LegendItem\"}],\"plot\":{\"id\":\"25639\",\"subtype\":\"Figure\",\"type\":\"Plot\"}},\"id\":\"25675\",\"type\":\"Legend\"},{\"attributes\":{\"callback\":null,\"start\":-0.5},\"id\":\"25641\",\"type\":\"Range1d\"},{\"attributes\":{},\"id\":\"25671\",\"type\":\"BasicTickFormatter\"},{\"attributes\":{\"end_angle\":{\"expr\":{\"id\":\"25663\",\"type\":\"CumSum\"},\"units\":\"rad\"},\"fill_color\":{\"field\":\"color\"},\"line_color\":{\"value\":\"white\"},\"radius\":{\"units\":\"data\",\"value\":0.4},\"start_angle\":{\"expr\":{\"id\":\"25662\",\"type\":\"CumSum\"},\"units\":\"rad\"},\"x\":{\"value\":0},\"y\":{\"value\":1}},\"id\":\"25666\",\"type\":\"Wedge\"},{\"attributes\":{},\"id\":\"25673\",\"type\":\"BasicTickFormatter\"},{\"attributes\":{\"label\":{\"field\":\"candidat\"},\"renderers\":[{\"id\":\"25668\",\"type\":\"GlyphRenderer\"}]},\"id\":\"25676\",\"type\":\"LegendItem\"},{\"attributes\":{\"plot\":null,\"text\":\"Pie Chart\"},\"id\":\"25638\",\"type\":\"Title\"},{\"attributes\":{\"callback\":null,\"renderers\":\"auto\",\"tooltips\":\"@candidat: @value\"},\"id\":\"25659\",\"type\":\"HoverTool\"},{\"attributes\":{\"field\":\"angle\",\"include_zero\":true},\"id\":\"25662\",\"type\":\"CumSum\"},{\"attributes\":{\"data_source\":{\"id\":\"25664\",\"type\":\"ColumnDataSource\"},\"glyph\":{\"id\":\"25666\",\"type\":\"Wedge\"},\"hover_glyph\":null,\"muted_glyph\":null,\"nonselection_glyph\":{\"id\":\"25667\",\"type\":\"Wedge\"},\"selection_glyph\":null,\"view\":{\"id\":\"25669\",\"type\":\"CDSView\"}},\"id\":\"25668\",\"type\":\"GlyphRenderer\"},{\"attributes\":{\"field\":\"angle\"},\"id\":\"25663\",\"type\":\"CumSum\"},{\"attributes\":{\"callback\":null,\"data\":{\"angle\":{\"__ndarray__\":\"5MFtPyvwwD+aMuZZhHDbPz8JCv5mOqY/DxECBJOLwj9EN45OoCIWQA==\",\"dtype\":\"float64\",\"shape\":[5]},\"candidat\":[\"Lassalle_2\",\"Poutou_2\",\"Arthaud_2\",\"Cheminade_2\",\"Dupont_Aignan_2\"],\"color\":[\"#3182bd\",\"#6baed6\",\"#9ecae1\",\"#c6dbef\",\"#e6550d\"],\"index\":[0,1,2,3,4],\"value\":{\"__ndarray__\":\"PZ1GAjC3O0DGHOUGCnNWQDvdYOKLLyJA4i3kqVxYPkCx0mkfGBySQA==\",\"dtype\":\"float64\",\"shape\":[5]}},\"selected\":{\"id\":\"26418\",\"type\":\"Selection\"},\"selection_policy\":{\"id\":\"26417\",\"type\":\"UnionRenderers\"}},\"id\":\"25664\",\"type\":\"ColumnDataSource\"},{\"attributes\":{},\"id\":\"25647\",\"type\":\"LinearScale\"},{\"attributes\":{\"callback\":null},\"id\":\"25643\",\"type\":\"DataRange1d\"},{\"attributes\":{},\"id\":\"26417\",\"type\":\"UnionRenderers\"},{\"attributes\":{\"axis_label\":null,\"formatter\":{\"id\":\"25671\",\"type\":\"BasicTickFormatter\"},\"plot\":{\"id\":\"25639\",\"subtype\":\"Figure\",\"type\":\"Plot\"},\"ticker\":{\"id\":\"25650\",\"type\":\"BasicTicker\"},\"visible\":false},\"id\":\"25649\",\"type\":\"LinearAxis\"},{\"attributes\":{},\"id\":\"25650\",\"type\":\"BasicTicker\"},{\"attributes\":{\"grid_line_color\":{\"value\":null},\"plot\":{\"id\":\"25639\",\"subtype\":\"Figure\",\"type\":\"Plot\"},\"ticker\":{\"id\":\"25650\",\"type\":\"BasicTicker\"}},\"id\":\"25653\",\"type\":\"Grid\"},{\"attributes\":{\"axis_label\":null,\"formatter\":{\"id\":\"25673\",\"type\":\"BasicTickFormatter\"},\"plot\":{\"id\":\"25639\",\"subtype\":\"Figure\",\"type\":\"Plot\"},\"ticker\":{\"id\":\"25655\",\"type\":\"BasicTicker\"},\"visible\":false},\"id\":\"25654\",\"type\":\"LinearAxis\"},{\"attributes\":{},\"id\":\"25655\",\"type\":\"BasicTicker\"},{\"attributes\":{},\"id\":\"26418\",\"type\":\"Selection\"},{\"attributes\":{\"dimension\":1,\"grid_line_color\":{\"value\":null},\"plot\":{\"id\":\"25639\",\"subtype\":\"Figure\",\"type\":\"Plot\"},\"ticker\":{\"id\":\"25655\",\"type\":\"BasicTicker\"}},\"id\":\"25658\",\"type\":\"Grid\"},{\"attributes\":{\"active_drag\":\"auto\",\"active_inspect\":\"auto\",\"active_multi\":null,\"active_scroll\":\"auto\",\"active_tap\":\"auto\",\"tools\":[{\"id\":\"25659\",\"type\":\"HoverTool\"}]},\"id\":\"25660\",\"type\":\"Toolbar\"}],\"root_ids\":[\"25639\"]},\"title\":\"Bokeh Application\",\"version\":\"1.0.1\"}};\n",
       "  var render_items = [{\"docid\":\"1bd168ff-bdcd-496b-b7ad-cec8b8029f37\",\"roots\":{\"25639\":\"8f0b049f-15c8-457f-97c9-f970d9f31b64\"}}];\n",
       "  root.Bokeh.embed.embed_items_notebook(docs_json, render_items);\n",
       "\n",
       "  }\n",
       "  if (root.Bokeh !== undefined) {\n",
       "    embed_document(root);\n",
       "  } else {\n",
       "    var attempts = 0;\n",
       "    var timer = setInterval(function(root) {\n",
       "      if (root.Bokeh !== undefined) {\n",
       "        embed_document(root);\n",
       "        clearInterval(timer);\n",
       "      }\n",
       "      attempts++;\n",
       "      if (attempts > 100) {\n",
       "        console.log(\"Bokeh: ERROR: Unable to run BokehJS code because BokehJS library is missing\");\n",
       "        clearInterval(timer);\n",
       "      }\n",
       "    }, 10, root)\n",
       "  }\n",
       "})(window);"
      ],
      "application/vnd.bokehjs_exec.v0+json": ""
     },
     "metadata": {
      "application/vnd.bokehjs_exec.v0+json": {
       "id": "25639"
      }
     },
     "output_type": "display_data"
    }
   ],
   "source": [
    "sv.pie(petit2)"
   ]
  },
  {
   "cell_type": "code",
   "execution_count": 115,
   "metadata": {},
   "outputs": [
    {
     "data": {
      "text/html": [
       "\n",
       "\n",
       "\n",
       "\n",
       "\n",
       "\n",
       "  <div class=\"bk-root\" id=\"83d1057f-0759-4181-b4a4-f5ee1daaac38\"></div>\n"
      ]
     },
     "metadata": {},
     "output_type": "display_data"
    },
    {
     "data": {
      "application/javascript": [
       "(function(root) {\n",
       "  function embed_document(root) {\n",
       "    \n",
       "  var docs_json = {\"747ccae3-38fd-4ad2-9d80-aeaa527aead1\":{\"roots\":{\"references\":[{\"attributes\":{\"below\":[{\"id\":\"26536\",\"type\":\"DatetimeAxis\"}],\"left\":[{\"id\":\"26541\",\"type\":\"LinearAxis\"}],\"renderers\":[{\"id\":\"26536\",\"type\":\"DatetimeAxis\"},{\"id\":\"26540\",\"type\":\"Grid\"},{\"id\":\"26541\",\"type\":\"LinearAxis\"},{\"id\":\"26545\",\"type\":\"Grid\"},{\"id\":\"26554\",\"type\":\"BoxAnnotation\"},{\"id\":\"26585\",\"type\":\"Legend\"},{\"id\":\"26565\",\"type\":\"GlyphRenderer\"},{\"id\":\"26591\",\"type\":\"GlyphRenderer\"},{\"id\":\"26618\",\"type\":\"GlyphRenderer\"},{\"id\":\"26647\",\"type\":\"GlyphRenderer\"},{\"id\":\"26678\",\"type\":\"GlyphRenderer\"}],\"title\":{\"id\":\"26525\",\"type\":\"Title\"},\"toolbar\":{\"id\":\"26552\",\"type\":\"Toolbar\"},\"x_range\":{\"id\":\"26528\",\"type\":\"DataRange1d\"},\"x_scale\":{\"id\":\"26532\",\"type\":\"LinearScale\"},\"y_range\":{\"id\":\"26530\",\"type\":\"DataRange1d\"},\"y_scale\":{\"id\":\"26534\",\"type\":\"LinearScale\"}},\"id\":\"26526\",\"subtype\":\"Figure\",\"type\":\"Plot\"},{\"attributes\":{\"line_alpha\":0.2,\"line_color\":\"grey\",\"line_width\":2,\"x\":{\"field\":\"x\"},\"y\":{\"field\":\"y\"}},\"id\":\"26564\",\"type\":\"Line\"},{\"attributes\":{},\"id\":\"26584\",\"type\":\"YearsTicker\"},{\"attributes\":{\"label\":{\"value\":\"LePen_2\"},\"renderers\":[{\"id\":\"26591\",\"type\":\"GlyphRenderer\"}]},\"id\":\"26613\",\"type\":\"LegendItem\"},{\"attributes\":{\"click_policy\":\"mute\",\"items\":[{\"id\":\"26586\",\"type\":\"LegendItem\"},{\"id\":\"26613\",\"type\":\"LegendItem\"},{\"id\":\"26642\",\"type\":\"LegendItem\"},{\"id\":\"26673\",\"type\":\"LegendItem\"},{\"id\":\"26706\",\"type\":\"LegendItem\"}],\"location\":\"top_left\",\"plot\":{\"id\":\"26526\",\"subtype\":\"Figure\",\"type\":\"Plot\"}},\"id\":\"26585\",\"type\":\"Legend\"},{\"attributes\":{\"line_alpha\":0.2,\"line_color\":\"grey\",\"line_width\":2,\"x\":{\"field\":\"x\"},\"y\":{\"field\":\"y\"}},\"id\":\"26677\",\"type\":\"Line\"},{\"attributes\":{\"bottom_units\":\"screen\",\"fill_alpha\":{\"value\":0.5},\"fill_color\":{\"value\":\"lightgrey\"},\"left_units\":\"screen\",\"level\":\"overlay\",\"line_alpha\":{\"value\":1.0},\"line_color\":{\"value\":\"black\"},\"line_dash\":[4,4],\"line_width\":{\"value\":2},\"plot\":null,\"render_mode\":\"css\",\"right_units\":\"screen\",\"top_units\":\"screen\"},\"id\":\"26554\",\"type\":\"BoxAnnotation\"},{\"attributes\":{\"label\":{\"value\":\"Macron_2\"},\"renderers\":[{\"id\":\"26565\",\"type\":\"GlyphRenderer\"}]},\"id\":\"26586\",\"type\":\"LegendItem\"},{\"attributes\":{},\"id\":\"26534\",\"type\":\"LinearScale\"},{\"attributes\":{\"source\":{\"id\":\"26561\",\"type\":\"ColumnDataSource\"}},\"id\":\"26566\",\"type\":\"CDSView\"},{\"attributes\":{\"data_source\":{\"id\":\"26561\",\"type\":\"ColumnDataSource\"},\"glyph\":{\"id\":\"26562\",\"type\":\"Line\"},\"hover_glyph\":null,\"muted_glyph\":{\"id\":\"26564\",\"type\":\"Line\"},\"nonselection_glyph\":{\"id\":\"26563\",\"type\":\"Line\"},\"selection_glyph\":null,\"view\":{\"id\":\"26566\",\"type\":\"CDSView\"}},\"id\":\"26565\",\"type\":\"GlyphRenderer\"},{\"attributes\":{\"callback\":null,\"data\":{\"x\":[1492905600000.0,1492992000000.0,1493078400000.0,1493164800000.0,1493251200000.0,1493337600000.0,1493424000000.0,1493510400000.0,1493596800000.0,1493683200000.0,1493769600000.0,1493856000000.0,1493942400000.0,1494028800000.0,1494115200000.0,1494201600000.0,1494288000000.0,1494374400000.0],\"y\":{\"__ndarray__\":\"q4lRV0W9OkD3BOlZ+MA7QM5rfJlmOzBAwcpy1ZLBKED2hfWH9CMbQM5rfoaJryFAp1PlX5HrC0C+1vXNsVMEQGTFcxwGCBFAszQ/YFoQE0CrwfkMEHzgP3VcpKqVqRRAWxDeWZ5UCEA1jfMsRPEKQBldDqnG1iNAMsuGYYO7I0B1o3WEjUciQAX/kp6VoDRA\",\"dtype\":\"float64\",\"shape\":[18]}},\"selected\":{\"id\":\"26705\",\"type\":\"Selection\"},\"selection_policy\":{\"id\":\"26704\",\"type\":\"UnionRenderers\"}},\"id\":\"26643\",\"type\":\"ColumnDataSource\"},{\"attributes\":{},\"id\":\"26568\",\"type\":\"DatetimeTickFormatter\"},{\"attributes\":{\"callback\":null,\"data\":{\"x\":[1492905600000.0,1492992000000.0,1493078400000.0,1493164800000.0,1493251200000.0,1493337600000.0,1493424000000.0,1493510400000.0,1493596800000.0,1493683200000.0,1493769600000.0,1493856000000.0,1493942400000.0,1494028800000.0,1494115200000.0,1494201600000.0,1494288000000.0,1494374400000.0],\"y\":{\"__ndarray__\":\"i814rmaCQkDttBqF6QVRQIrjH5SflTZAriyjrwfPJ0BDdWlNsHUmQOqwinAEXixAbfkyG9yiLUD7iUWzZCYeQAha361iNypAqbQBCTrFJUDT2glVqiMkQH/rVfjm6h5AD97I8wtOH8ByTb6UvRoQQIKW/G/XTSxAqiinbcESJUDrvBkkTukhQAh8SFvnxyJA\",\"dtype\":\"float64\",\"shape\":[18]}},\"selected\":{\"id\":\"26672\",\"type\":\"Selection\"},\"selection_policy\":{\"id\":\"26671\",\"type\":\"UnionRenderers\"}},\"id\":\"26614\",\"type\":\"ColumnDataSource\"},{\"attributes\":{\"callback\":null,\"data\":{\"x\":[1492905600000.0,1492992000000.0,1493078400000.0,1493164800000.0,1493251200000.0,1493337600000.0,1493424000000.0,1493510400000.0,1493596800000.0,1493683200000.0,1493769600000.0,1493856000000.0,1493942400000.0,1494028800000.0,1494115200000.0,1494201600000.0,1494288000000.0,1494374400000.0],\"y\":{\"__ndarray__\":\"rC7IbVVfS0DDhz70LS9eQEBxr7IdDV5A37NFthzWV0Dy7HmoOOtQQNAxF7tdllJA6Y19YnT/VkCCEQ6tuXZKQLM2qXS6dFVA5zQySSN/UEAB7bLSdHpXQM+weI2M509A0fmZBAeMQ0DtlN5cFAM7QJM3sPHrmFVA0+pXHnQOQUAA+RSm3esoQKtbReu8CRtA\",\"dtype\":\"float64\",\"shape\":[18]}},\"selected\":{\"id\":\"26641\",\"type\":\"Selection\"},\"selection_policy\":{\"id\":\"26640\",\"type\":\"UnionRenderers\"}},\"id\":\"26587\",\"type\":\"ColumnDataSource\"},{\"attributes\":{\"source\":{\"id\":\"26674\",\"type\":\"ColumnDataSource\"}},\"id\":\"26679\",\"type\":\"CDSView\"},{\"attributes\":{\"line_alpha\":0.1,\"line_color\":\"#1f77b4\",\"line_width\":2,\"x\":{\"field\":\"x\"},\"y\":{\"field\":\"y\"}},\"id\":\"26563\",\"type\":\"Line\"},{\"attributes\":{\"data_source\":{\"id\":\"26674\",\"type\":\"ColumnDataSource\"},\"glyph\":{\"id\":\"26675\",\"type\":\"Line\"},\"hover_glyph\":null,\"muted_glyph\":{\"id\":\"26677\",\"type\":\"Line\"},\"nonselection_glyph\":{\"id\":\"26676\",\"type\":\"Line\"},\"selection_glyph\":null,\"view\":{\"id\":\"26679\",\"type\":\"CDSView\"}},\"id\":\"26678\",\"type\":\"GlyphRenderer\"},{\"attributes\":{},\"id\":\"26551\",\"type\":\"HelpTool\"},{\"attributes\":{},\"id\":\"26671\",\"type\":\"UnionRenderers\"},{\"attributes\":{\"mantissas\":[1,2,5],\"max_interval\":500.0,\"num_minor_ticks\":0},\"id\":\"26573\",\"type\":\"AdaptiveTicker\"},{\"attributes\":{},\"id\":\"26704\",\"type\":\"UnionRenderers\"},{\"attributes\":{\"formatter\":{\"id\":\"26707\",\"type\":\"NumeralTickFormatter\"},\"plot\":{\"id\":\"26526\",\"subtype\":\"Figure\",\"type\":\"Plot\"},\"ticker\":{\"id\":\"26542\",\"type\":\"BasicTicker\"}},\"id\":\"26541\",\"type\":\"LinearAxis\"},{\"attributes\":{\"callback\":null},\"id\":\"26528\",\"type\":\"DataRange1d\"},{\"attributes\":{\"line_color\":\"#9400D3\",\"line_width\":2,\"x\":{\"field\":\"x\"},\"y\":{\"field\":\"y\"}},\"id\":\"26644\",\"type\":\"Line\"},{\"attributes\":{\"plot\":{\"id\":\"26526\",\"subtype\":\"Figure\",\"type\":\"Plot\"},\"ticker\":{\"id\":\"26537\",\"type\":\"DatetimeTicker\"}},\"id\":\"26540\",\"type\":\"Grid\"},{\"attributes\":{\"line_alpha\":0.1,\"line_color\":\"#1f77b4\",\"line_width\":2,\"x\":{\"field\":\"x\"},\"y\":{\"field\":\"y\"}},\"id\":\"26645\",\"type\":\"Line\"},{\"attributes\":{\"base\":60,\"mantissas\":[1,2,5,10,15,20,30],\"max_interval\":1800000.0,\"min_interval\":1000.0,\"num_minor_ticks\":0},\"id\":\"26574\",\"type\":\"AdaptiveTicker\"},{\"attributes\":{},\"id\":\"26705\",\"type\":\"Selection\"},{\"attributes\":{\"label\":{\"value\":\"Melenchon_2\"},\"renderers\":[{\"id\":\"26678\",\"type\":\"GlyphRenderer\"}]},\"id\":\"26706\",\"type\":\"LegendItem\"},{\"attributes\":{\"line_color\":\"#FF0800\",\"line_width\":2,\"x\":{\"field\":\"x\"},\"y\":{\"field\":\"y\"}},\"id\":\"26615\",\"type\":\"Line\"},{\"attributes\":{},\"id\":\"26547\",\"type\":\"WheelZoomTool\"},{\"attributes\":{\"line_alpha\":0.2,\"line_color\":\"grey\",\"line_width\":2,\"x\":{\"field\":\"x\"},\"y\":{\"field\":\"y\"}},\"id\":\"26646\",\"type\":\"Line\"},{\"attributes\":{},\"id\":\"26542\",\"type\":\"BasicTicker\"},{\"attributes\":{\"line_color\":\"#3C69E7\",\"line_width\":2,\"x\":{\"field\":\"x\"},\"y\":{\"field\":\"y\"}},\"id\":\"26562\",\"type\":\"Line\"},{\"attributes\":{\"line_color\":\"#84DE02\",\"line_width\":2,\"x\":{\"field\":\"x\"},\"y\":{\"field\":\"y\"}},\"id\":\"26588\",\"type\":\"Line\"},{\"attributes\":{\"line_alpha\":0.1,\"line_color\":\"#1f77b4\",\"line_width\":2,\"x\":{\"field\":\"x\"},\"y\":{\"field\":\"y\"}},\"id\":\"26616\",\"type\":\"Line\"},{\"attributes\":{\"base\":24,\"mantissas\":[1,2,4,6,8,12],\"max_interval\":43200000.0,\"min_interval\":3600000.0,\"num_minor_ticks\":0},\"id\":\"26575\",\"type\":\"AdaptiveTicker\"},{\"attributes\":{\"callback\":null,\"data\":{\"x\":[1492905600000.0,1492992000000.0,1493078400000.0,1493164800000.0,1493251200000.0,1493337600000.0,1493424000000.0,1493510400000.0,1493596800000.0,1493683200000.0,1493769600000.0,1493856000000.0,1493942400000.0,1494028800000.0,1494115200000.0,1494201600000.0,1494288000000.0,1494374400000.0],\"y\":{\"__ndarray__\":\"pcQUCBdEZEBQTI1zh/50QF6UyayMa25Ae6uSRFObcEAxydaNelFwQBsMjtkmhGZAlM5ZgJvtYkBagDH1evNiQFi2r0nevmdAzqKuyEizZUAjLpoP7RB1QKJuSPid+WhAU6iXkq0XaUD1TkZFsKJgQEutWSDqmX1AeEFOBT0LhkAV8H6Vg+JvQJHxg1Mit1tA\",\"dtype\":\"float64\",\"shape\":[18]}},\"selected\":{\"id\":\"26612\",\"type\":\"Selection\"},\"selection_policy\":{\"id\":\"26611\",\"type\":\"UnionRenderers\"}},\"id\":\"26561\",\"type\":\"ColumnDataSource\"},{\"attributes\":{\"line_alpha\":0.1,\"line_color\":\"#1f77b4\",\"line_width\":2,\"x\":{\"field\":\"x\"},\"y\":{\"field\":\"y\"}},\"id\":\"26589\",\"type\":\"Line\"},{\"attributes\":{\"dimension\":1,\"plot\":{\"id\":\"26526\",\"subtype\":\"Figure\",\"type\":\"Plot\"},\"ticker\":{\"id\":\"26542\",\"type\":\"BasicTicker\"}},\"id\":\"26545\",\"type\":\"Grid\"},{\"attributes\":{\"format\":\"0.0000\"},\"id\":\"26707\",\"type\":\"NumeralTickFormatter\"},{\"attributes\":{\"line_alpha\":0.2,\"line_color\":\"grey\",\"line_width\":2,\"x\":{\"field\":\"x\"},\"y\":{\"field\":\"y\"}},\"id\":\"26617\",\"type\":\"Line\"},{\"attributes\":{\"formatter\":{\"id\":\"26568\",\"type\":\"DatetimeTickFormatter\"},\"plot\":{\"id\":\"26526\",\"subtype\":\"Figure\",\"type\":\"Plot\"},\"ticker\":{\"id\":\"26537\",\"type\":\"DatetimeTicker\"}},\"id\":\"26536\",\"type\":\"DatetimeAxis\"},{\"attributes\":{\"line_color\":\"#FFAA1D\",\"line_width\":2,\"x\":{\"field\":\"x\"},\"y\":{\"field\":\"y\"}},\"id\":\"26675\",\"type\":\"Line\"},{\"attributes\":{},\"id\":\"26532\",\"type\":\"LinearScale\"},{\"attributes\":{\"plot\":null,\"text\":\"My Line Plot\"},\"id\":\"26525\",\"type\":\"Title\"},{\"attributes\":{\"line_alpha\":0.2,\"line_color\":\"grey\",\"line_width\":2,\"x\":{\"field\":\"x\"},\"y\":{\"field\":\"y\"}},\"id\":\"26590\",\"type\":\"Line\"},{\"attributes\":{\"days\":[1,2,3,4,5,6,7,8,9,10,11,12,13,14,15,16,17,18,19,20,21,22,23,24,25,26,27,28,29,30,31]},\"id\":\"26576\",\"type\":\"DaysTicker\"},{\"attributes\":{\"days\":[1,4,7,10,13,16,19,22,25,28]},\"id\":\"26577\",\"type\":\"DaysTicker\"},{\"attributes\":{},\"id\":\"27476\",\"type\":\"UnionRenderers\"},{\"attributes\":{\"active_drag\":\"auto\",\"active_inspect\":\"auto\",\"active_multi\":null,\"active_scroll\":\"auto\",\"active_tap\":\"auto\",\"tools\":[{\"id\":\"26546\",\"type\":\"PanTool\"},{\"id\":\"26547\",\"type\":\"WheelZoomTool\"},{\"id\":\"26548\",\"type\":\"BoxZoomTool\"},{\"id\":\"26549\",\"type\":\"SaveTool\"},{\"id\":\"26550\",\"type\":\"ResetTool\"},{\"id\":\"26551\",\"type\":\"HelpTool\"}]},\"id\":\"26552\",\"type\":\"Toolbar\"},{\"attributes\":{\"days\":[1,8,15,22]},\"id\":\"26578\",\"type\":\"DaysTicker\"},{\"attributes\":{\"overlay\":{\"id\":\"26554\",\"type\":\"BoxAnnotation\"}},\"id\":\"26548\",\"type\":\"BoxZoomTool\"},{\"attributes\":{\"source\":{\"id\":\"26643\",\"type\":\"ColumnDataSource\"}},\"id\":\"26648\",\"type\":\"CDSView\"},{\"attributes\":{},\"id\":\"26549\",\"type\":\"SaveTool\"},{\"attributes\":{},\"id\":\"26672\",\"type\":\"Selection\"},{\"attributes\":{\"data_source\":{\"id\":\"26643\",\"type\":\"ColumnDataSource\"},\"glyph\":{\"id\":\"26644\",\"type\":\"Line\"},\"hover_glyph\":null,\"muted_glyph\":{\"id\":\"26646\",\"type\":\"Line\"},\"nonselection_glyph\":{\"id\":\"26645\",\"type\":\"Line\"},\"selection_glyph\":null,\"view\":{\"id\":\"26648\",\"type\":\"CDSView\"}},\"id\":\"26647\",\"type\":\"GlyphRenderer\"},{\"attributes\":{},\"id\":\"27477\",\"type\":\"Selection\"},{\"attributes\":{\"days\":[1,15]},\"id\":\"26579\",\"type\":\"DaysTicker\"},{\"attributes\":{},\"id\":\"26550\",\"type\":\"ResetTool\"},{\"attributes\":{\"source\":{\"id\":\"26614\",\"type\":\"ColumnDataSource\"}},\"id\":\"26619\",\"type\":\"CDSView\"},{\"attributes\":{\"data_source\":{\"id\":\"26614\",\"type\":\"ColumnDataSource\"},\"glyph\":{\"id\":\"26615\",\"type\":\"Line\"},\"hover_glyph\":null,\"muted_glyph\":{\"id\":\"26617\",\"type\":\"Line\"},\"nonselection_glyph\":{\"id\":\"26616\",\"type\":\"Line\"},\"selection_glyph\":null,\"view\":{\"id\":\"26619\",\"type\":\"CDSView\"}},\"id\":\"26618\",\"type\":\"GlyphRenderer\"},{\"attributes\":{\"callback\":null},\"id\":\"26530\",\"type\":\"DataRange1d\"},{\"attributes\":{\"source\":{\"id\":\"26587\",\"type\":\"ColumnDataSource\"}},\"id\":\"26592\",\"type\":\"CDSView\"},{\"attributes\":{\"label\":{\"value\":\"Hamon_2\"},\"renderers\":[{\"id\":\"26647\",\"type\":\"GlyphRenderer\"}]},\"id\":\"26673\",\"type\":\"LegendItem\"},{\"attributes\":{\"callback\":null,\"data\":{\"x\":[1492905600000.0,1492992000000.0,1493078400000.0,1493164800000.0,1493251200000.0,1493337600000.0,1493424000000.0,1493510400000.0,1493596800000.0,1493683200000.0,1493769600000.0,1493856000000.0,1493942400000.0,1494028800000.0,1494115200000.0,1494201600000.0,1494288000000.0,1494374400000.0],\"y\":{\"__ndarray__\":\"zdsDOHafQ0Cs8EqigOZRQAjtBGhOREVAL1b1o38XQUBJtwUGrLI1QPbbElVifDpAr6/ChRG1M0Dqm/ZyxA1AQKj5trBvOTpAeR6yAelkMUDv0Uzk5Eo0QGC0g3M5XiNATjNBVbXqJ0DytJEuxCUIQFKudUgNDzJA4s9puKmWJ0AEqHzR2qckQJcR/3fsPjNA\",\"dtype\":\"float64\",\"shape\":[18]}},\"selected\":{\"id\":\"27477\",\"type\":\"Selection\"},\"selection_policy\":{\"id\":\"27476\",\"type\":\"UnionRenderers\"}},\"id\":\"26674\",\"type\":\"ColumnDataSource\"},{\"attributes\":{\"data_source\":{\"id\":\"26587\",\"type\":\"ColumnDataSource\"},\"glyph\":{\"id\":\"26588\",\"type\":\"Line\"},\"hover_glyph\":null,\"muted_glyph\":{\"id\":\"26590\",\"type\":\"Line\"},\"nonselection_glyph\":{\"id\":\"26589\",\"type\":\"Line\"},\"selection_glyph\":null,\"view\":{\"id\":\"26592\",\"type\":\"CDSView\"}},\"id\":\"26591\",\"type\":\"GlyphRenderer\"},{\"attributes\":{\"months\":[0,1,2,3,4,5,6,7,8,9,10,11]},\"id\":\"26580\",\"type\":\"MonthsTicker\"},{\"attributes\":{\"num_minor_ticks\":5,\"tickers\":[{\"id\":\"26573\",\"type\":\"AdaptiveTicker\"},{\"id\":\"26574\",\"type\":\"AdaptiveTicker\"},{\"id\":\"26575\",\"type\":\"AdaptiveTicker\"},{\"id\":\"26576\",\"type\":\"DaysTicker\"},{\"id\":\"26577\",\"type\":\"DaysTicker\"},{\"id\":\"26578\",\"type\":\"DaysTicker\"},{\"id\":\"26579\",\"type\":\"DaysTicker\"},{\"id\":\"26580\",\"type\":\"MonthsTicker\"},{\"id\":\"26581\",\"type\":\"MonthsTicker\"},{\"id\":\"26582\",\"type\":\"MonthsTicker\"},{\"id\":\"26583\",\"type\":\"MonthsTicker\"},{\"id\":\"26584\",\"type\":\"YearsTicker\"}]},\"id\":\"26537\",\"type\":\"DatetimeTicker\"},{\"attributes\":{},\"id\":\"26546\",\"type\":\"PanTool\"},{\"attributes\":{\"line_alpha\":0.1,\"line_color\":\"#1f77b4\",\"line_width\":2,\"x\":{\"field\":\"x\"},\"y\":{\"field\":\"y\"}},\"id\":\"26676\",\"type\":\"Line\"},{\"attributes\":{\"months\":[0,2,4,6,8,10]},\"id\":\"26581\",\"type\":\"MonthsTicker\"},{\"attributes\":{\"months\":[0,6]},\"id\":\"26583\",\"type\":\"MonthsTicker\"},{\"attributes\":{},\"id\":\"26611\",\"type\":\"UnionRenderers\"},{\"attributes\":{},\"id\":\"26640\",\"type\":\"UnionRenderers\"},{\"attributes\":{\"months\":[0,4,8]},\"id\":\"26582\",\"type\":\"MonthsTicker\"},{\"attributes\":{},\"id\":\"26641\",\"type\":\"Selection\"},{\"attributes\":{},\"id\":\"26612\",\"type\":\"Selection\"},{\"attributes\":{\"label\":{\"value\":\"Fillon_2\"},\"renderers\":[{\"id\":\"26618\",\"type\":\"GlyphRenderer\"}]},\"id\":\"26642\",\"type\":\"LegendItem\"}],\"root_ids\":[\"26526\"]},\"title\":\"Bokeh Application\",\"version\":\"1.0.1\"}};\n",
       "  var render_items = [{\"docid\":\"747ccae3-38fd-4ad2-9d80-aeaa527aead1\",\"roots\":{\"26526\":\"83d1057f-0759-4181-b4a4-f5ee1daaac38\"}}];\n",
       "  root.Bokeh.embed.embed_items_notebook(docs_json, render_items);\n",
       "\n",
       "  }\n",
       "  if (root.Bokeh !== undefined) {\n",
       "    embed_document(root);\n",
       "  } else {\n",
       "    var attempts = 0;\n",
       "    var timer = setInterval(function(root) {\n",
       "      if (root.Bokeh !== undefined) {\n",
       "        embed_document(root);\n",
       "        clearInterval(timer);\n",
       "      }\n",
       "      attempts++;\n",
       "      if (attempts > 100) {\n",
       "        console.log(\"Bokeh: ERROR: Unable to run BokehJS code because BokehJS library is missing\");\n",
       "        clearInterval(timer);\n",
       "      }\n",
       "    }, 10, root)\n",
       "  }\n",
       "})(window);"
      ],
      "application/vnd.bokehjs_exec.v0+json": ""
     },
     "metadata": {
      "application/vnd.bokehjs_exec.v0+json": {
       "id": "26526"
      }
     },
     "output_type": "display_data"
    }
   ],
   "source": [
    "popularity_plot(grand_df2)"
   ]
  },
  {
   "cell_type": "code",
   "execution_count": 116,
   "metadata": {},
   "outputs": [
    {
     "data": {
      "text/html": [
       "\n",
       "\n",
       "\n",
       "\n",
       "\n",
       "\n",
       "  <div class=\"bk-root\" id=\"186d6d9b-c39e-482a-b31d-cb86912f201e\"></div>\n"
      ]
     },
     "metadata": {},
     "output_type": "display_data"
    },
    {
     "data": {
      "application/javascript": [
       "(function(root) {\n",
       "  function embed_document(root) {\n",
       "    \n",
       "  var docs_json = {\"628d7766-e340-4e34-b69d-ccca152c1062\":{\"roots\":{\"references\":[{\"attributes\":{\"below\":[{\"id\":\"27895\",\"type\":\"DatetimeAxis\"}],\"left\":[{\"id\":\"27900\",\"type\":\"LinearAxis\"}],\"renderers\":[{\"id\":\"27895\",\"type\":\"DatetimeAxis\"},{\"id\":\"27899\",\"type\":\"Grid\"},{\"id\":\"27900\",\"type\":\"LinearAxis\"},{\"id\":\"27904\",\"type\":\"Grid\"},{\"id\":\"27913\",\"type\":\"BoxAnnotation\"},{\"id\":\"27944\",\"type\":\"Legend\"},{\"id\":\"27924\",\"type\":\"GlyphRenderer\"},{\"id\":\"27950\",\"type\":\"GlyphRenderer\"},{\"id\":\"27977\",\"type\":\"GlyphRenderer\"},{\"id\":\"28006\",\"type\":\"GlyphRenderer\"},{\"id\":\"28037\",\"type\":\"GlyphRenderer\"}],\"title\":{\"id\":\"27884\",\"type\":\"Title\"},\"toolbar\":{\"id\":\"27911\",\"type\":\"Toolbar\"},\"x_range\":{\"id\":\"27887\",\"type\":\"DataRange1d\"},\"x_scale\":{\"id\":\"27891\",\"type\":\"LinearScale\"},\"y_range\":{\"id\":\"27889\",\"type\":\"DataRange1d\"},\"y_scale\":{\"id\":\"27893\",\"type\":\"LinearScale\"}},\"id\":\"27885\",\"subtype\":\"Figure\",\"type\":\"Plot\"},{\"attributes\":{\"data_source\":{\"id\":\"27946\",\"type\":\"ColumnDataSource\"},\"glyph\":{\"id\":\"27947\",\"type\":\"Line\"},\"hover_glyph\":null,\"muted_glyph\":{\"id\":\"27949\",\"type\":\"Line\"},\"nonselection_glyph\":{\"id\":\"27948\",\"type\":\"Line\"},\"selection_glyph\":null,\"view\":{\"id\":\"27951\",\"type\":\"CDSView\"}},\"id\":\"27950\",\"type\":\"GlyphRenderer\"},{\"attributes\":{\"plot\":null,\"text\":\"My Line Plot\"},\"id\":\"27884\",\"type\":\"Title\"},{\"attributes\":{\"base\":24,\"mantissas\":[1,2,4,6,8,12],\"max_interval\":43200000.0,\"min_interval\":3600000.0,\"num_minor_ticks\":0},\"id\":\"27934\",\"type\":\"AdaptiveTicker\"},{\"attributes\":{},\"id\":\"28863\",\"type\":\"Selection\"},{\"attributes\":{\"callback\":null},\"id\":\"27889\",\"type\":\"DataRange1d\"},{\"attributes\":{\"callback\":null,\"data\":{\"x\":[1492905600000.0,1492992000000.0,1493078400000.0,1493164800000.0,1493251200000.0,1493337600000.0,1493424000000.0,1493510400000.0,1493596800000.0,1493683200000.0,1493769600000.0,1493856000000.0,1493942400000.0,1494028800000.0,1494115200000.0,1494201600000.0,1494288000000.0,1494374400000.0],\"y\":{\"__ndarray__\":\"5egwW9s/3D+9yR6u/ODKPxj/szWE384/DlIMFymwoz+S2RNSzzy+P8gs8nOLIME/aozWUdUEwT9kE4bufy2kP6RwPQrXo60/Bu6iJHMOtT93ZNAtmBzSP1K4HoXr8eE/toAS9bDOuj/yqvQAAy6VPzgyvWxlkM0/BuL+uYc5xT+ujgkezBOlP5X2Bl+YTEU/\",\"dtype\":\"float64\",\"shape\":[18]}},\"selected\":{\"id\":\"27971\",\"type\":\"Selection\"},\"selection_policy\":{\"id\":\"27970\",\"type\":\"UnionRenderers\"}},\"id\":\"27920\",\"type\":\"ColumnDataSource\"},{\"attributes\":{\"source\":{\"id\":\"28002\",\"type\":\"ColumnDataSource\"}},\"id\":\"28007\",\"type\":\"CDSView\"},{\"attributes\":{\"months\":[0,6]},\"id\":\"27942\",\"type\":\"MonthsTicker\"},{\"attributes\":{\"source\":{\"id\":\"27973\",\"type\":\"ColumnDataSource\"}},\"id\":\"27978\",\"type\":\"CDSView\"},{\"attributes\":{\"data_source\":{\"id\":\"27973\",\"type\":\"ColumnDataSource\"},\"glyph\":{\"id\":\"27974\",\"type\":\"Line\"},\"hover_glyph\":null,\"muted_glyph\":{\"id\":\"27976\",\"type\":\"Line\"},\"nonselection_glyph\":{\"id\":\"27975\",\"type\":\"Line\"},\"selection_glyph\":null,\"view\":{\"id\":\"27978\",\"type\":\"CDSView\"}},\"id\":\"27977\",\"type\":\"GlyphRenderer\"},{\"attributes\":{},\"id\":\"27906\",\"type\":\"WheelZoomTool\"},{\"attributes\":{\"line_color\":\"#FFAA1D\",\"line_width\":2,\"x\":{\"field\":\"x\"},\"y\":{\"field\":\"y\"}},\"id\":\"28034\",\"type\":\"Line\"},{\"attributes\":{\"months\":[0,4,8]},\"id\":\"27941\",\"type\":\"MonthsTicker\"},{\"attributes\":{\"base\":60,\"mantissas\":[1,2,5,10,15,20,30],\"max_interval\":1800000.0,\"min_interval\":1000.0,\"num_minor_ticks\":0},\"id\":\"27933\",\"type\":\"AdaptiveTicker\"},{\"attributes\":{\"line_alpha\":0.1,\"line_color\":\"#1f77b4\",\"line_width\":2,\"x\":{\"field\":\"x\"},\"y\":{\"field\":\"y\"}},\"id\":\"28035\",\"type\":\"Line\"},{\"attributes\":{\"overlay\":{\"id\":\"27913\",\"type\":\"BoxAnnotation\"}},\"id\":\"27907\",\"type\":\"BoxZoomTool\"},{\"attributes\":{},\"id\":\"27943\",\"type\":\"YearsTicker\"},{\"attributes\":{\"source\":{\"id\":\"27920\",\"type\":\"ColumnDataSource\"}},\"id\":\"27925\",\"type\":\"CDSView\"},{\"attributes\":{\"source\":{\"id\":\"27946\",\"type\":\"ColumnDataSource\"}},\"id\":\"27951\",\"type\":\"CDSView\"},{\"attributes\":{},\"id\":\"27999\",\"type\":\"UnionRenderers\"},{\"attributes\":{\"line_alpha\":0.2,\"line_color\":\"grey\",\"line_width\":2,\"x\":{\"field\":\"x\"},\"y\":{\"field\":\"y\"}},\"id\":\"27923\",\"type\":\"Line\"},{\"attributes\":{\"click_policy\":\"mute\",\"items\":[{\"id\":\"27945\",\"type\":\"LegendItem\"},{\"id\":\"27972\",\"type\":\"LegendItem\"},{\"id\":\"28001\",\"type\":\"LegendItem\"},{\"id\":\"28032\",\"type\":\"LegendItem\"},{\"id\":\"28065\",\"type\":\"LegendItem\"}],\"location\":\"top_left\",\"plot\":{\"id\":\"27885\",\"subtype\":\"Figure\",\"type\":\"Plot\"}},\"id\":\"27944\",\"type\":\"Legend\"},{\"attributes\":{},\"id\":\"27970\",\"type\":\"UnionRenderers\"},{\"attributes\":{},\"id\":\"28000\",\"type\":\"Selection\"},{\"attributes\":{},\"id\":\"27908\",\"type\":\"SaveTool\"},{\"attributes\":{\"label\":{\"value\":\"Cheminade_2\"},\"renderers\":[{\"id\":\"27977\",\"type\":\"GlyphRenderer\"}]},\"id\":\"28001\",\"type\":\"LegendItem\"},{\"attributes\":{\"line_alpha\":0.1,\"line_color\":\"#1f77b4\",\"line_width\":2,\"x\":{\"field\":\"x\"},\"y\":{\"field\":\"y\"}},\"id\":\"27922\",\"type\":\"Line\"},{\"attributes\":{},\"id\":\"27971\",\"type\":\"Selection\"},{\"attributes\":{\"label\":{\"value\":\"Arthaud_2\"},\"renderers\":[{\"id\":\"28006\",\"type\":\"GlyphRenderer\"}]},\"id\":\"28032\",\"type\":\"LegendItem\"},{\"attributes\":{\"label\":{\"value\":\"Dupont_Aignan_2\"},\"renderers\":[{\"id\":\"27950\",\"type\":\"GlyphRenderer\"}]},\"id\":\"27972\",\"type\":\"LegendItem\"},{\"attributes\":{},\"id\":\"27901\",\"type\":\"BasicTicker\"},{\"attributes\":{\"line_alpha\":0.1,\"line_color\":\"#1f77b4\",\"line_width\":2,\"x\":{\"field\":\"x\"},\"y\":{\"field\":\"y\"}},\"id\":\"27948\",\"type\":\"Line\"},{\"attributes\":{\"mantissas\":[1,2,5],\"max_interval\":500.0,\"num_minor_ticks\":0},\"id\":\"27932\",\"type\":\"AdaptiveTicker\"},{\"attributes\":{\"formatter\":{\"id\":\"28066\",\"type\":\"NumeralTickFormatter\"},\"plot\":{\"id\":\"27885\",\"subtype\":\"Figure\",\"type\":\"Plot\"},\"ticker\":{\"id\":\"27901\",\"type\":\"BasicTicker\"}},\"id\":\"27900\",\"type\":\"LinearAxis\"},{\"attributes\":{\"line_color\":\"#3C69E7\",\"line_width\":2,\"x\":{\"field\":\"x\"},\"y\":{\"field\":\"y\"}},\"id\":\"27921\",\"type\":\"Line\"},{\"attributes\":{\"plot\":{\"id\":\"27885\",\"subtype\":\"Figure\",\"type\":\"Plot\"},\"ticker\":{\"id\":\"27896\",\"type\":\"DatetimeTicker\"}},\"id\":\"27899\",\"type\":\"Grid\"},{\"attributes\":{\"line_alpha\":0.2,\"line_color\":\"grey\",\"line_width\":2,\"x\":{\"field\":\"x\"},\"y\":{\"field\":\"y\"}},\"id\":\"28036\",\"type\":\"Line\"},{\"attributes\":{},\"id\":\"28030\",\"type\":\"UnionRenderers\"},{\"attributes\":{\"callback\":null,\"data\":{\"x\":[1492905600000.0,1492992000000.0,1493078400000.0,1493164800000.0,1493251200000.0,1493337600000.0,1493424000000.0,1493510400000.0,1493596800000.0,1493683200000.0,1493769600000.0,1493856000000.0,1493942400000.0,1494028800000.0,1494115200000.0,1494201600000.0,1494288000000.0,1494374400000.0],\"y\":{\"__ndarray__\":\"NyFe8w0XA0BRJ2JMDk8CQO1AO2uESPE/XvJb5etOyz80MzMzM1P/P/zWDrfoCSdAkMYzHckBR0CY3vfoKnUhQPD+bK0AhgxACOq63Th6BECY9MQDB7IIQFwdREu4xANACJI4zWx3FUBFu0DFv43gP3nDw1nyWPI/Ug9z5Yt3m7/C2X4ZNtrgP/aPKcNc9uO/\",\"dtype\":\"float64\",\"shape\":[18]}},\"selected\":{\"id\":\"28000\",\"type\":\"Selection\"},\"selection_policy\":{\"id\":\"27999\",\"type\":\"UnionRenderers\"}},\"id\":\"27946\",\"type\":\"ColumnDataSource\"},{\"attributes\":{\"data_source\":{\"id\":\"27920\",\"type\":\"ColumnDataSource\"},\"glyph\":{\"id\":\"27921\",\"type\":\"Line\"},\"hover_glyph\":null,\"muted_glyph\":{\"id\":\"27923\",\"type\":\"Line\"},\"nonselection_glyph\":{\"id\":\"27922\",\"type\":\"Line\"},\"selection_glyph\":null,\"view\":{\"id\":\"27925\",\"type\":\"CDSView\"}},\"id\":\"27924\",\"type\":\"GlyphRenderer\"},{\"attributes\":{\"num_minor_ticks\":5,\"tickers\":[{\"id\":\"27932\",\"type\":\"AdaptiveTicker\"},{\"id\":\"27933\",\"type\":\"AdaptiveTicker\"},{\"id\":\"27934\",\"type\":\"AdaptiveTicker\"},{\"id\":\"27935\",\"type\":\"DaysTicker\"},{\"id\":\"27936\",\"type\":\"DaysTicker\"},{\"id\":\"27937\",\"type\":\"DaysTicker\"},{\"id\":\"27938\",\"type\":\"DaysTicker\"},{\"id\":\"27939\",\"type\":\"MonthsTicker\"},{\"id\":\"27940\",\"type\":\"MonthsTicker\"},{\"id\":\"27941\",\"type\":\"MonthsTicker\"},{\"id\":\"27942\",\"type\":\"MonthsTicker\"},{\"id\":\"27943\",\"type\":\"YearsTicker\"}]},\"id\":\"27896\",\"type\":\"DatetimeTicker\"},{\"attributes\":{\"label\":{\"value\":\"Lassalle_2\"},\"renderers\":[{\"id\":\"27924\",\"type\":\"GlyphRenderer\"}]},\"id\":\"27945\",\"type\":\"LegendItem\"},{\"attributes\":{\"callback\":null,\"data\":{\"x\":[1492905600000.0,1492992000000.0,1493078400000.0,1493164800000.0,1493251200000.0,1493337600000.0,1493424000000.0,1493510400000.0,1493596800000.0,1493683200000.0,1493769600000.0,1493856000000.0,1493942400000.0,1494028800000.0,1494115200000.0,1494201600000.0,1494288000000.0,1494374400000.0],\"y\":{\"__ndarray__\":\"woeXXDrGtD8nr7ajur2NPwQE6Ea6W88/IyIiIiIimj9Un6ut2F/GP587ckKsr8k/pJvEILBytL+SGARWDi2CPxtaZDvfT4W/9lCY7jjzsz+W/GLJL5aWP3npJjEIvOE/ca+5kDSlsj+JQWDl0CKzvwtrUCFEH6k/PN9PjZdusj+IYqNKWMzCP8L1KFyPwsm/\",\"dtype\":\"float64\",\"shape\":[18]}},\"selected\":{\"id\":\"28064\",\"type\":\"Selection\"},\"selection_policy\":{\"id\":\"28063\",\"type\":\"UnionRenderers\"}},\"id\":\"28002\",\"type\":\"ColumnDataSource\"},{\"attributes\":{},\"id\":\"27927\",\"type\":\"DatetimeTickFormatter\"},{\"attributes\":{},\"id\":\"27905\",\"type\":\"PanTool\"},{\"attributes\":{},\"id\":\"28862\",\"type\":\"UnionRenderers\"},{\"attributes\":{\"callback\":null,\"data\":{\"x\":[1492905600000.0,1492992000000.0,1493078400000.0,1493164800000.0,1493251200000.0,1493337600000.0,1493424000000.0,1493510400000.0,1493596800000.0,1493683200000.0,1493769600000.0,1493856000000.0,1493942400000.0,1494028800000.0,1494115200000.0,1494201600000.0,1494288000000.0,1494374400000.0],\"y\":{\"__ndarray__\":\"WFFfARirxT/EAkiB3TlrP9F7YwgAjt4/puLsw2fYpT8ZxdrgA6jWP7SgHV2S8PQ/mJmZmZmZib/GILByaJF9v8vMzMzMzJy/Wj5WoR/RlT9xPQrXo3C/P0PSlIqzD9c/KVyPwvUozD+4HoXrUbh+PyIiIiIiIsY/99kFxKbSYL/8qfHSTWKAP/l+arx0k0i/\",\"dtype\":\"float64\",\"shape\":[18]}},\"selected\":{\"id\":\"28031\",\"type\":\"Selection\"},\"selection_policy\":{\"id\":\"28030\",\"type\":\"UnionRenderers\"}},\"id\":\"27973\",\"type\":\"ColumnDataSource\"},{\"attributes\":{\"active_drag\":\"auto\",\"active_inspect\":\"auto\",\"active_multi\":null,\"active_scroll\":\"auto\",\"active_tap\":\"auto\",\"tools\":[{\"id\":\"27905\",\"type\":\"PanTool\"},{\"id\":\"27906\",\"type\":\"WheelZoomTool\"},{\"id\":\"27907\",\"type\":\"BoxZoomTool\"},{\"id\":\"27908\",\"type\":\"SaveTool\"},{\"id\":\"27909\",\"type\":\"ResetTool\"},{\"id\":\"27910\",\"type\":\"HelpTool\"}]},\"id\":\"27911\",\"type\":\"Toolbar\"},{\"attributes\":{\"source\":{\"id\":\"28033\",\"type\":\"ColumnDataSource\"}},\"id\":\"28038\",\"type\":\"CDSView\"},{\"attributes\":{\"data_source\":{\"id\":\"28033\",\"type\":\"ColumnDataSource\"},\"glyph\":{\"id\":\"28034\",\"type\":\"Line\"},\"hover_glyph\":null,\"muted_glyph\":{\"id\":\"28036\",\"type\":\"Line\"},\"nonselection_glyph\":{\"id\":\"28035\",\"type\":\"Line\"},\"selection_glyph\":null,\"view\":{\"id\":\"28038\",\"type\":\"CDSView\"}},\"id\":\"28037\",\"type\":\"GlyphRenderer\"},{\"attributes\":{\"callback\":null,\"data\":{\"x\":[1492905600000.0,1492992000000.0,1493078400000.0,1493164800000.0,1493251200000.0,1493337600000.0,1493424000000.0,1493510400000.0,1493596800000.0,1493683200000.0,1493769600000.0,1493856000000.0,1493942400000.0,1494028800000.0,1494115200000.0,1494201600000.0,1494288000000.0,1494374400000.0],\"y\":{\"__ndarray__\":\"mCu2aXnsBEDlITgnnPjgP30KVUkD0eM/HirVh9oN4T85phawSybwP0xch2vhouc/7EPLOrYrwj+5oB1dkvCaP6qICdHw/p4/a7x0kxjE0T94Ri8sFfPjP1uGEkBEoQNA+sWSXyz5pD/2u06u2ru7v3FJN/6TIeE/uM26/FgX7T+nv4IlPJ68Pwkm+jtZLa8/\",\"dtype\":\"float64\",\"shape\":[18]}},\"selected\":{\"id\":\"28863\",\"type\":\"Selection\"},\"selection_policy\":{\"id\":\"28862\",\"type\":\"UnionRenderers\"}},\"id\":\"28033\",\"type\":\"ColumnDataSource\"},{\"attributes\":{\"months\":[0,2,4,6,8,10]},\"id\":\"27940\",\"type\":\"MonthsTicker\"},{\"attributes\":{},\"id\":\"28063\",\"type\":\"UnionRenderers\"},{\"attributes\":{\"line_color\":\"#84DE02\",\"line_width\":2,\"x\":{\"field\":\"x\"},\"y\":{\"field\":\"y\"}},\"id\":\"27947\",\"type\":\"Line\"},{\"attributes\":{\"months\":[0,1,2,3,4,5,6,7,8,9,10,11]},\"id\":\"27939\",\"type\":\"MonthsTicker\"},{\"attributes\":{\"line_color\":\"#9400D3\",\"line_width\":2,\"x\":{\"field\":\"x\"},\"y\":{\"field\":\"y\"}},\"id\":\"28003\",\"type\":\"Line\"},{\"attributes\":{\"line_alpha\":0.1,\"line_color\":\"#1f77b4\",\"line_width\":2,\"x\":{\"field\":\"x\"},\"y\":{\"field\":\"y\"}},\"id\":\"28004\",\"type\":\"Line\"},{\"attributes\":{\"days\":[1,15]},\"id\":\"27938\",\"type\":\"DaysTicker\"},{\"attributes\":{},\"id\":\"28064\",\"type\":\"Selection\"},{\"attributes\":{\"dimension\":1,\"plot\":{\"id\":\"27885\",\"subtype\":\"Figure\",\"type\":\"Plot\"},\"ticker\":{\"id\":\"27901\",\"type\":\"BasicTicker\"}},\"id\":\"27904\",\"type\":\"Grid\"},{\"attributes\":{\"callback\":null},\"id\":\"27887\",\"type\":\"DataRange1d\"},{\"attributes\":{\"label\":{\"value\":\"Poutou_2\"},\"renderers\":[{\"id\":\"28037\",\"type\":\"GlyphRenderer\"}]},\"id\":\"28065\",\"type\":\"LegendItem\"},{\"attributes\":{\"line_color\":\"#FF0800\",\"line_width\":2,\"x\":{\"field\":\"x\"},\"y\":{\"field\":\"y\"}},\"id\":\"27974\",\"type\":\"Line\"},{\"attributes\":{},\"id\":\"27893\",\"type\":\"LinearScale\"},{\"attributes\":{\"line_alpha\":0.1,\"line_color\":\"#1f77b4\",\"line_width\":2,\"x\":{\"field\":\"x\"},\"y\":{\"field\":\"y\"}},\"id\":\"27975\",\"type\":\"Line\"},{\"attributes\":{\"data_source\":{\"id\":\"28002\",\"type\":\"ColumnDataSource\"},\"glyph\":{\"id\":\"28003\",\"type\":\"Line\"},\"hover_glyph\":null,\"muted_glyph\":{\"id\":\"28005\",\"type\":\"Line\"},\"nonselection_glyph\":{\"id\":\"28004\",\"type\":\"Line\"},\"selection_glyph\":null,\"view\":{\"id\":\"28007\",\"type\":\"CDSView\"}},\"id\":\"28006\",\"type\":\"GlyphRenderer\"},{\"attributes\":{},\"id\":\"27910\",\"type\":\"HelpTool\"},{\"attributes\":{\"days\":[1,2,3,4,5,6,7,8,9,10,11,12,13,14,15,16,17,18,19,20,21,22,23,24,25,26,27,28,29,30,31]},\"id\":\"27935\",\"type\":\"DaysTicker\"},{\"attributes\":{\"line_alpha\":0.2,\"line_color\":\"grey\",\"line_width\":2,\"x\":{\"field\":\"x\"},\"y\":{\"field\":\"y\"}},\"id\":\"28005\",\"type\":\"Line\"},{\"attributes\":{\"days\":[1,4,7,10,13,16,19,22,25,28]},\"id\":\"27936\",\"type\":\"DaysTicker\"},{\"attributes\":{\"format\":\"0.0000\"},\"id\":\"28066\",\"type\":\"NumeralTickFormatter\"},{\"attributes\":{\"line_alpha\":0.2,\"line_color\":\"grey\",\"line_width\":2,\"x\":{\"field\":\"x\"},\"y\":{\"field\":\"y\"}},\"id\":\"27976\",\"type\":\"Line\"},{\"attributes\":{\"bottom_units\":\"screen\",\"fill_alpha\":{\"value\":0.5},\"fill_color\":{\"value\":\"lightgrey\"},\"left_units\":\"screen\",\"level\":\"overlay\",\"line_alpha\":{\"value\":1.0},\"line_color\":{\"value\":\"black\"},\"line_dash\":[4,4],\"line_width\":{\"value\":2},\"plot\":null,\"render_mode\":\"css\",\"right_units\":\"screen\",\"top_units\":\"screen\"},\"id\":\"27913\",\"type\":\"BoxAnnotation\"},{\"attributes\":{\"line_alpha\":0.2,\"line_color\":\"grey\",\"line_width\":2,\"x\":{\"field\":\"x\"},\"y\":{\"field\":\"y\"}},\"id\":\"27949\",\"type\":\"Line\"},{\"attributes\":{\"formatter\":{\"id\":\"27927\",\"type\":\"DatetimeTickFormatter\"},\"plot\":{\"id\":\"27885\",\"subtype\":\"Figure\",\"type\":\"Plot\"},\"ticker\":{\"id\":\"27896\",\"type\":\"DatetimeTicker\"}},\"id\":\"27895\",\"type\":\"DatetimeAxis\"},{\"attributes\":{},\"id\":\"27909\",\"type\":\"ResetTool\"},{\"attributes\":{},\"id\":\"28031\",\"type\":\"Selection\"},{\"attributes\":{\"days\":[1,8,15,22]},\"id\":\"27937\",\"type\":\"DaysTicker\"},{\"attributes\":{},\"id\":\"27891\",\"type\":\"LinearScale\"}],\"root_ids\":[\"27885\"]},\"title\":\"Bokeh Application\",\"version\":\"1.0.1\"}};\n",
       "  var render_items = [{\"docid\":\"628d7766-e340-4e34-b69d-ccca152c1062\",\"roots\":{\"27885\":\"186d6d9b-c39e-482a-b31d-cb86912f201e\"}}];\n",
       "  root.Bokeh.embed.embed_items_notebook(docs_json, render_items);\n",
       "\n",
       "  }\n",
       "  if (root.Bokeh !== undefined) {\n",
       "    embed_document(root);\n",
       "  } else {\n",
       "    var attempts = 0;\n",
       "    var timer = setInterval(function(root) {\n",
       "      if (root.Bokeh !== undefined) {\n",
       "        embed_document(root);\n",
       "        clearInterval(timer);\n",
       "      }\n",
       "      attempts++;\n",
       "      if (attempts > 100) {\n",
       "        console.log(\"Bokeh: ERROR: Unable to run BokehJS code because BokehJS library is missing\");\n",
       "        clearInterval(timer);\n",
       "      }\n",
       "    }, 10, root)\n",
       "  }\n",
       "})(window);"
      ],
      "application/vnd.bokehjs_exec.v0+json": ""
     },
     "metadata": {
      "application/vnd.bokehjs_exec.v0+json": {
       "id": "27885"
      }
     },
     "output_type": "display_data"
    }
   ],
   "source": [
    "popularity_plot(petit_df2)"
   ]
  },
  {
   "cell_type": "code",
   "execution_count": 117,
   "metadata": {},
   "outputs": [
    {
     "data": {
      "text/html": [
       "\n",
       "\n",
       "\n",
       "\n",
       "\n",
       "\n",
       "  <div class=\"bk-root\" id=\"05f59906-70ec-449d-ada6-b748468a5604\"></div>\n"
      ]
     },
     "metadata": {},
     "output_type": "display_data"
    },
    {
     "data": {
      "application/javascript": [
       "(function(root) {\n",
       "  function embed_document(root) {\n",
       "    \n",
       "  var docs_json = {\"ba4e101c-fbbc-4e8e-88ff-32479c5ce3b8\":{\"roots\":{\"references\":[{\"attributes\":{\"below\":[{\"id\":\"29281\",\"type\":\"DatetimeAxis\"}],\"left\":[{\"id\":\"29286\",\"type\":\"LinearAxis\"}],\"renderers\":[{\"id\":\"29281\",\"type\":\"DatetimeAxis\"},{\"id\":\"29285\",\"type\":\"Grid\"},{\"id\":\"29286\",\"type\":\"LinearAxis\"},{\"id\":\"29290\",\"type\":\"Grid\"},{\"id\":\"29299\",\"type\":\"BoxAnnotation\"},{\"id\":\"29330\",\"type\":\"Legend\"},{\"id\":\"29310\",\"type\":\"GlyphRenderer\"},{\"id\":\"29336\",\"type\":\"GlyphRenderer\"}],\"title\":{\"id\":\"29270\",\"type\":\"Title\"},\"toolbar\":{\"id\":\"29297\",\"type\":\"Toolbar\"},\"x_range\":{\"id\":\"29273\",\"type\":\"DataRange1d\"},\"x_scale\":{\"id\":\"29277\",\"type\":\"LinearScale\"},\"y_range\":{\"id\":\"29275\",\"type\":\"DataRange1d\"},\"y_scale\":{\"id\":\"29279\",\"type\":\"LinearScale\"}},\"id\":\"29271\",\"subtype\":\"Figure\",\"type\":\"Plot\"},{\"attributes\":{\"months\":[0,4,8]},\"id\":\"29327\",\"type\":\"MonthsTicker\"},{\"attributes\":{\"callback\":null},\"id\":\"29275\",\"type\":\"DataRange1d\"},{\"attributes\":{\"data_source\":{\"id\":\"29332\",\"type\":\"ColumnDataSource\"},\"glyph\":{\"id\":\"29333\",\"type\":\"Line\"},\"hover_glyph\":null,\"muted_glyph\":{\"id\":\"29335\",\"type\":\"Line\"},\"nonselection_glyph\":{\"id\":\"29334\",\"type\":\"Line\"},\"selection_glyph\":null,\"view\":{\"id\":\"29337\",\"type\":\"CDSView\"}},\"id\":\"29336\",\"type\":\"GlyphRenderer\"},{\"attributes\":{\"source\":{\"id\":\"29332\",\"type\":\"ColumnDataSource\"}},\"id\":\"29337\",\"type\":\"CDSView\"},{\"attributes\":{},\"id\":\"29294\",\"type\":\"SaveTool\"},{\"attributes\":{\"line_alpha\":0.2,\"line_color\":\"grey\",\"line_width\":2,\"x\":{\"field\":\"x\"},\"y\":{\"field\":\"y\"}},\"id\":\"29309\",\"type\":\"Line\"},{\"attributes\":{\"formatter\":{\"id\":\"29313\",\"type\":\"DatetimeTickFormatter\"},\"plot\":{\"id\":\"29271\",\"subtype\":\"Figure\",\"type\":\"Plot\"},\"ticker\":{\"id\":\"29282\",\"type\":\"DatetimeTicker\"}},\"id\":\"29281\",\"type\":\"DatetimeAxis\"},{\"attributes\":{},\"id\":\"29356\",\"type\":\"UnionRenderers\"},{\"attributes\":{},\"id\":\"29295\",\"type\":\"ResetTool\"},{\"attributes\":{},\"id\":\"29313\",\"type\":\"DatetimeTickFormatter\"},{\"attributes\":{\"num_minor_ticks\":5,\"tickers\":[{\"id\":\"29318\",\"type\":\"AdaptiveTicker\"},{\"id\":\"29319\",\"type\":\"AdaptiveTicker\"},{\"id\":\"29320\",\"type\":\"AdaptiveTicker\"},{\"id\":\"29321\",\"type\":\"DaysTicker\"},{\"id\":\"29322\",\"type\":\"DaysTicker\"},{\"id\":\"29323\",\"type\":\"DaysTicker\"},{\"id\":\"29324\",\"type\":\"DaysTicker\"},{\"id\":\"29325\",\"type\":\"MonthsTicker\"},{\"id\":\"29326\",\"type\":\"MonthsTicker\"},{\"id\":\"29327\",\"type\":\"MonthsTicker\"},{\"id\":\"29328\",\"type\":\"MonthsTicker\"},{\"id\":\"29329\",\"type\":\"YearsTicker\"}]},\"id\":\"29282\",\"type\":\"DatetimeTicker\"},{\"attributes\":{},\"id\":\"29357\",\"type\":\"Selection\"},{\"attributes\":{},\"id\":\"29329\",\"type\":\"YearsTicker\"},{\"attributes\":{\"label\":{\"value\":\"LePen_2\"},\"renderers\":[{\"id\":\"29336\",\"type\":\"GlyphRenderer\"}]},\"id\":\"29358\",\"type\":\"LegendItem\"},{\"attributes\":{\"callback\":null},\"id\":\"29273\",\"type\":\"DataRange1d\"},{\"attributes\":{\"overlay\":{\"id\":\"29299\",\"type\":\"BoxAnnotation\"}},\"id\":\"29293\",\"type\":\"BoxZoomTool\"},{\"attributes\":{},\"id\":\"29296\",\"type\":\"HelpTool\"},{\"attributes\":{},\"id\":\"29279\",\"type\":\"LinearScale\"},{\"attributes\":{},\"id\":\"29291\",\"type\":\"PanTool\"},{\"attributes\":{\"format\":\"0.0000\"},\"id\":\"29359\",\"type\":\"NumeralTickFormatter\"},{\"attributes\":{\"source\":{\"id\":\"29306\",\"type\":\"ColumnDataSource\"}},\"id\":\"29311\",\"type\":\"CDSView\"},{\"attributes\":{},\"id\":\"30176\",\"type\":\"UnionRenderers\"},{\"attributes\":{\"plot\":null,\"text\":\"My Line Plot\"},\"id\":\"29270\",\"type\":\"Title\"},{\"attributes\":{\"data_source\":{\"id\":\"29306\",\"type\":\"ColumnDataSource\"},\"glyph\":{\"id\":\"29307\",\"type\":\"Line\"},\"hover_glyph\":null,\"muted_glyph\":{\"id\":\"29309\",\"type\":\"Line\"},\"nonselection_glyph\":{\"id\":\"29308\",\"type\":\"Line\"},\"selection_glyph\":null,\"view\":{\"id\":\"29311\",\"type\":\"CDSView\"}},\"id\":\"29310\",\"type\":\"GlyphRenderer\"},{\"attributes\":{\"line_color\":\"#3C69E7\",\"line_width\":2,\"x\":{\"field\":\"x\"},\"y\":{\"field\":\"y\"}},\"id\":\"29307\",\"type\":\"Line\"},{\"attributes\":{\"line_alpha\":0.2,\"line_color\":\"grey\",\"line_width\":2,\"x\":{\"field\":\"x\"},\"y\":{\"field\":\"y\"}},\"id\":\"29335\",\"type\":\"Line\"},{\"attributes\":{},\"id\":\"30177\",\"type\":\"Selection\"},{\"attributes\":{\"dimension\":1,\"plot\":{\"id\":\"29271\",\"subtype\":\"Figure\",\"type\":\"Plot\"},\"ticker\":{\"id\":\"29287\",\"type\":\"BasicTicker\"}},\"id\":\"29290\",\"type\":\"Grid\"},{\"attributes\":{\"days\":[1,2,3,4,5,6,7,8,9,10,11,12,13,14,15,16,17,18,19,20,21,22,23,24,25,26,27,28,29,30,31]},\"id\":\"29321\",\"type\":\"DaysTicker\"},{\"attributes\":{\"callback\":null,\"data\":{\"x\":[1492905600000.0,1492992000000.0,1493078400000.0,1493164800000.0,1493251200000.0,1493337600000.0,1493424000000.0,1493510400000.0,1493596800000.0,1493683200000.0,1493769600000.0,1493856000000.0,1493942400000.0,1494028800000.0,1494115200000.0,1494201600000.0,1494288000000.0,1494374400000.0],\"y\":{\"__ndarray__\":\"pcQUCBdEZEBQTI1zh/50QF6UyayMa25Ae6uSRFObcEAxydaNelFwQBsMjtkmhGZAlM5ZgJvtYkBagDH1evNiQFi2r0nevmdAzqKuyEizZUAjLpoP7RB1QKJuSPid+WhAU6iXkq0XaUD1TkZFsKJgQEutWSDqmX1AeEFOBT0LhkAV8H6Vg+JvQJHxg1Mit1tA\",\"dtype\":\"float64\",\"shape\":[18]}},\"selected\":{\"id\":\"29357\",\"type\":\"Selection\"},\"selection_policy\":{\"id\":\"29356\",\"type\":\"UnionRenderers\"}},\"id\":\"29306\",\"type\":\"ColumnDataSource\"},{\"attributes\":{\"line_alpha\":0.1,\"line_color\":\"#1f77b4\",\"line_width\":2,\"x\":{\"field\":\"x\"},\"y\":{\"field\":\"y\"}},\"id\":\"29308\",\"type\":\"Line\"},{\"attributes\":{\"days\":[1,4,7,10,13,16,19,22,25,28]},\"id\":\"29322\",\"type\":\"DaysTicker\"},{\"attributes\":{\"active_drag\":\"auto\",\"active_inspect\":\"auto\",\"active_multi\":null,\"active_scroll\":\"auto\",\"active_tap\":\"auto\",\"tools\":[{\"id\":\"29291\",\"type\":\"PanTool\"},{\"id\":\"29292\",\"type\":\"WheelZoomTool\"},{\"id\":\"29293\",\"type\":\"BoxZoomTool\"},{\"id\":\"29294\",\"type\":\"SaveTool\"},{\"id\":\"29295\",\"type\":\"ResetTool\"},{\"id\":\"29296\",\"type\":\"HelpTool\"}]},\"id\":\"29297\",\"type\":\"Toolbar\"},{\"attributes\":{\"base\":60,\"mantissas\":[1,2,5,10,15,20,30],\"max_interval\":1800000.0,\"min_interval\":1000.0,\"num_minor_ticks\":0},\"id\":\"29319\",\"type\":\"AdaptiveTicker\"},{\"attributes\":{\"formatter\":{\"id\":\"29359\",\"type\":\"NumeralTickFormatter\"},\"plot\":{\"id\":\"29271\",\"subtype\":\"Figure\",\"type\":\"Plot\"},\"ticker\":{\"id\":\"29287\",\"type\":\"BasicTicker\"}},\"id\":\"29286\",\"type\":\"LinearAxis\"},{\"attributes\":{\"base\":24,\"mantissas\":[1,2,4,6,8,12],\"max_interval\":43200000.0,\"min_interval\":3600000.0,\"num_minor_ticks\":0},\"id\":\"29320\",\"type\":\"AdaptiveTicker\"},{\"attributes\":{\"click_policy\":\"mute\",\"items\":[{\"id\":\"29331\",\"type\":\"LegendItem\"},{\"id\":\"29358\",\"type\":\"LegendItem\"}],\"location\":\"top_left\",\"plot\":{\"id\":\"29271\",\"subtype\":\"Figure\",\"type\":\"Plot\"}},\"id\":\"29330\",\"type\":\"Legend\"},{\"attributes\":{},\"id\":\"29287\",\"type\":\"BasicTicker\"},{\"attributes\":{\"days\":[1,8,15,22]},\"id\":\"29323\",\"type\":\"DaysTicker\"},{\"attributes\":{\"mantissas\":[1,2,5],\"max_interval\":500.0,\"num_minor_ticks\":0},\"id\":\"29318\",\"type\":\"AdaptiveTicker\"},{\"attributes\":{\"bottom_units\":\"screen\",\"fill_alpha\":{\"value\":0.5},\"fill_color\":{\"value\":\"lightgrey\"},\"left_units\":\"screen\",\"level\":\"overlay\",\"line_alpha\":{\"value\":1.0},\"line_color\":{\"value\":\"black\"},\"line_dash\":[4,4],\"line_width\":{\"value\":2},\"plot\":null,\"render_mode\":\"css\",\"right_units\":\"screen\",\"top_units\":\"screen\"},\"id\":\"29299\",\"type\":\"BoxAnnotation\"},{\"attributes\":{\"line_alpha\":0.1,\"line_color\":\"#1f77b4\",\"line_width\":2,\"x\":{\"field\":\"x\"},\"y\":{\"field\":\"y\"}},\"id\":\"29334\",\"type\":\"Line\"},{\"attributes\":{\"months\":[0,2,4,6,8,10]},\"id\":\"29326\",\"type\":\"MonthsTicker\"},{\"attributes\":{\"line_color\":\"#84DE02\",\"line_width\":2,\"x\":{\"field\":\"x\"},\"y\":{\"field\":\"y\"}},\"id\":\"29333\",\"type\":\"Line\"},{\"attributes\":{\"plot\":{\"id\":\"29271\",\"subtype\":\"Figure\",\"type\":\"Plot\"},\"ticker\":{\"id\":\"29282\",\"type\":\"DatetimeTicker\"}},\"id\":\"29285\",\"type\":\"Grid\"},{\"attributes\":{},\"id\":\"29292\",\"type\":\"WheelZoomTool\"},{\"attributes\":{\"months\":[0,1,2,3,4,5,6,7,8,9,10,11]},\"id\":\"29325\",\"type\":\"MonthsTicker\"},{\"attributes\":{\"callback\":null,\"data\":{\"x\":[1492905600000.0,1492992000000.0,1493078400000.0,1493164800000.0,1493251200000.0,1493337600000.0,1493424000000.0,1493510400000.0,1493596800000.0,1493683200000.0,1493769600000.0,1493856000000.0,1493942400000.0,1494028800000.0,1494115200000.0,1494201600000.0,1494288000000.0,1494374400000.0],\"y\":{\"__ndarray__\":\"rC7IbVVfS0DDhz70LS9eQEBxr7IdDV5A37NFthzWV0Dy7HmoOOtQQNAxF7tdllJA6Y19YnT/VkCCEQ6tuXZKQLM2qXS6dFVA5zQySSN/UEAB7bLSdHpXQM+weI2M509A0fmZBAeMQ0DtlN5cFAM7QJM3sPHrmFVA0+pXHnQOQUAA+RSm3esoQKtbReu8CRtA\",\"dtype\":\"float64\",\"shape\":[18]}},\"selected\":{\"id\":\"30177\",\"type\":\"Selection\"},\"selection_policy\":{\"id\":\"30176\",\"type\":\"UnionRenderers\"}},\"id\":\"29332\",\"type\":\"ColumnDataSource\"},{\"attributes\":{},\"id\":\"29277\",\"type\":\"LinearScale\"},{\"attributes\":{\"label\":{\"value\":\"Macron_2\"},\"renderers\":[{\"id\":\"29310\",\"type\":\"GlyphRenderer\"}]},\"id\":\"29331\",\"type\":\"LegendItem\"},{\"attributes\":{\"months\":[0,6]},\"id\":\"29328\",\"type\":\"MonthsTicker\"},{\"attributes\":{\"days\":[1,15]},\"id\":\"29324\",\"type\":\"DaysTicker\"}],\"root_ids\":[\"29271\"]},\"title\":\"Bokeh Application\",\"version\":\"1.0.1\"}};\n",
       "  var render_items = [{\"docid\":\"ba4e101c-fbbc-4e8e-88ff-32479c5ce3b8\",\"roots\":{\"29271\":\"05f59906-70ec-449d-ada6-b748468a5604\"}}];\n",
       "  root.Bokeh.embed.embed_items_notebook(docs_json, render_items);\n",
       "\n",
       "  }\n",
       "  if (root.Bokeh !== undefined) {\n",
       "    embed_document(root);\n",
       "  } else {\n",
       "    var attempts = 0;\n",
       "    var timer = setInterval(function(root) {\n",
       "      if (root.Bokeh !== undefined) {\n",
       "        embed_document(root);\n",
       "        clearInterval(timer);\n",
       "      }\n",
       "      attempts++;\n",
       "      if (attempts > 100) {\n",
       "        console.log(\"Bokeh: ERROR: Unable to run BokehJS code because BokehJS library is missing\");\n",
       "        clearInterval(timer);\n",
       "      }\n",
       "    }, 10, root)\n",
       "  }\n",
       "})(window);"
      ],
      "application/vnd.bokehjs_exec.v0+json": ""
     },
     "metadata": {
      "application/vnd.bokehjs_exec.v0+json": {
       "id": "29271"
      }
     },
     "output_type": "display_data"
    }
   ],
   "source": [
    "candidat2={'Macron_2','LePen_2'}\n",
    "popularity_plot(candidat2)"
   ]
  },
  {
   "cell_type": "markdown",
   "metadata": {},
   "source": [
    "### Test clustering sur sentiment"
   ]
  },
  {
   "cell_type": "code",
   "execution_count": null,
   "metadata": {},
   "outputs": [],
   "source": [
    "from sklearn.cluster import AgglomerativeClustering,AffinityPropagation,SpectralClustering\n",
    "from sklearn.mixture import GaussianMixture"
   ]
  },
  {
   "cell_type": "code",
   "execution_count": null,
   "metadata": {},
   "outputs": [],
   "source": [
    "Melenchon= np.mean(Melenchon_1['polarity']*Melenchon_1['subjectivity'])\n",
    "Macron= np.mean(Macron_1['polarity']*Macron_1['subjectivity'])\n",
    "LePen= np.mean(LePen_1['polarity']*LePen_1['subjectivity'])\n",
    "Fillon= np.mean(Fillon_1['polarity']*Fillon_1['subjectivity'])\n",
    "Hamon= np.mean(Hamon_1['polarity']*Hamon_1['subjectivity'])\n",
    "Arthaud= np.mean(Arthaud_1['polarity']*Arthaud_1['subjectivity'])\n",
    "Lassalle= np.mean(Lassalle_1['polarity']*Lassalle_1['subjectivity'])\n",
    "Cheminade= np.mean(Cheminade_1['polarity']*Cheminade_1['subjectivity'])\n",
    "Poutou= np.mean(Poutou_1['polarity']*Poutou_1['subjectivity'])\n",
    "Dupont_Aignan= np.mean(Dupont_Aignan_1['polarity']*Dupont_Aignan_1['subjectivity'])"
   ]
  },
  {
   "cell_type": "code",
   "execution_count": null,
   "metadata": {},
   "outputs": [],
   "source": [
    "X=[[Melenchon],[Macron],[LePen],[Fillon],[Hamon],[Arthaud],[Lassalle],[Cheminade],[Poutou],[Dupont_Aignan]]\n",
    "clus = AgglomerativeClustering(n_clusters=4).fit(X)\n",
    "clus.labels_\n",
    "\n",
    "#Dupont_Aignan, Cheminade\n",
    "#Macron, Fillon, Hamon\n",
    "#Melenchon, Poutou, Lassalle\n",
    "#LePen, Arthaud"
   ]
  }
 ],
 "metadata": {
  "kernelspec": {
   "display_name": "Python 3",
   "language": "python",
   "name": "python3"
  },
  "language_info": {
   "codemirror_mode": {
    "name": "ipython",
    "version": 3
   },
   "file_extension": ".py",
   "mimetype": "text/x-python",
   "name": "python",
   "nbconvert_exporter": "python",
   "pygments_lexer": "ipython3",
   "version": "3.6.6"
  }
 },
 "nbformat": 4,
 "nbformat_minor": 2
}
